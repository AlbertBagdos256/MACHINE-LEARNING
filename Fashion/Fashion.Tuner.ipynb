{
  "nbformat": 4,
  "nbformat_minor": 0,
  "metadata": {
    "colab": {
      "name": "Untitled1.ipynb",
      "provenance": [],
      "collapsed_sections": []
    },
    "kernelspec": {
      "name": "python3",
      "display_name": "Python 3"
    }
  },
  "cells": [
    {
      "cell_type": "markdown",
      "metadata": {
        "id": "NBcuqZf7Lrql",
        "colab_type": "text"
      },
      "source": [
        "DOWNLOAD DATASETS"
      ]
    },
    {
      "cell_type": "code",
      "metadata": {
        "id": "UaIKdzfwI3NU",
        "colab_type": "code",
        "colab": {}
      },
      "source": [
        "!wget  https://github.com/zalandoresearch/fashion-mnist\n",
        "!git clone https://github.com/keras-team/keras-tuner.git"
      ],
      "execution_count": 0,
      "outputs": []
    },
    {
      "cell_type": "code",
      "metadata": {
        "id": "ddCW09PCnNRb",
        "colab_type": "code",
        "colab": {}
      },
      "source": [
        "%cd keras-tuner\n",
        "!pip install ."
      ],
      "execution_count": 0,
      "outputs": []
    },
    {
      "cell_type": "markdown",
      "metadata": {
        "id": "gQxBr_aeLz1J",
        "colab_type": "text"
      },
      "source": [
        "IMPORT LIBRARIES"
      ]
    },
    {
      "cell_type": "code",
      "metadata": {
        "id": "CBXLDA4unNr5",
        "colab_type": "code",
        "colab": {}
      },
      "source": [
        "from tensorflow.keras.datasets  import fashion_mnist\n",
        "from tensorflow.keras.models    import Sequential\n",
        "from tensorflow.keras.layers    import Dense\n",
        "from tensorflow.keras.callbacks import EarlyStopping\n",
        "from kerastuner.tuners          import RandomSearch, Hyperband, BayesianOptimization\n",
        "from tensorflow.keras           import utils\n",
        "from google.colab               import files\n",
        "from random                     import randint\n",
        "from PIL                        import Image\n",
        "import matplotlib.pyplot as plt\n",
        "import matplotlib.pyplot as plt\n",
        "import matplotlib.cbook  as cbook\n",
        "import numpy as np\n",
        "\n",
        "# Download data\n",
        "(x_train, y_train), (x_test, y_test)  = fashion_mnist.load_data()\n",
        "\n",
        "x_train = x_train.reshape(60000,784)\n",
        "x_train = x_train / 255\n",
        "\n",
        "x_test  = x_test.reshape(10000,784)\n",
        "x_test  = x_test  / 255"
      ],
      
      "execution_count": 0,
      "outputs": []
    },
    {
      "cell_type": "code",
      "metadata": {
        "id": "-js99y0dnODA",
        "colab_type": "code",
        "colab": {}
      },
      "source": [
        "y_train = utils.to_categorical(y_train,10)\n",
        "y_test  = utils.to_categorical(y_test,10)\n",
        "\n",
        "classes = ['T-shirt','shorts','sweater','dress','coat',\n",
        "           'shoes','shirt','sneakers','bag','boots']\n"
      ],
      "execution_count": 0,
      "outputs": []
    },
    {
      "cell_type": "markdown",
      "metadata": {
        "id": "U-95C4nOsMv-",
        "colab_type": "text"
      },
      "source": [
        "\n",
        "SET THE FUNCTION OF CREATING A NEURAL NETWORK\n",
        "\n",
        "---\n",
        "\n"
      ]
    },
    {
      "cell_type": "code",
      "metadata": {
        "id": "1FyYTkm9ncte",
        "colab_type": "code",
        "colab": {}
      },
      "source": [
        "def build_model(hp):\n",
        "    model = Sequential()\n",
        "    activation_choice = hp.Choice('activation', values=['relu', 'sigmoid', 'tanh', 'elu', 'selu'])    \n",
        "    model.add(Dense(units=hp.Int('units_input',    # Fully connected layer, with different amount of neurons\n",
        "                                   min_value=128,  # The minimum amount of neurons - 128\n",
        "                                   max_value=1024, # The max amount of neurons - 1024\n",
        "                                   step=32),\n",
        "                    input_dim=784,\n",
        "                    activation=activation_choice))\n",
        "    model.add(Dense(units=hp.Int('units_hidden',        \n",
        "                                   min_value=128,   \n",
        "                                   max_value=600,   \n",
        "                                   step=32),\n",
        "                    activation=activation_choice))   \n",
        "    model.add(Dense(10, activation='softmax'))\n",
        "    model.compile(\n",
        "        optimizer=hp.Choice('optimizer', values=['adam','rmsprop','SGD']),\n",
        "        loss='categorical_crossentropy',\n",
        "        metrics=['accuracy'])\n",
        "    return model\n",
        "    "
      ],
      "execution_count": 0,
      "outputs": []
    },
    {
      "cell_type": "markdown",
      "metadata": {
        "id": "qqLO0F8lMCn2",
        "colab_type": "text"
      },
      "source": [
        "CREATE TUNER"
      ]
    },
    {
      "cell_type": "code",
      "metadata": {
        "id": "oKT57t0hndHr",
        "colab_type": "code",
        "colab": {}
      },
      "source": [
        "# Random-Search\n",
        "'''tuner = RandomSearch(\n",
        "    build_model,                 # Create model\n",
        "    objective='val_accuracy',    # Metric\n",
        "                              \n",
        "    max_trials=7,               # max amount of training launches \n",
        "    directory='test_directory'   # catalogue  \n",
        "    )'''\n",
        "\n",
        "# BayesianOptimization\n",
        "tuner = BayesianOptimization (\n",
        "    build_model,                 # Create model\n",
        "    objective='val_accuracy',    # Metric\n",
        "                              \n",
        "    max_trials=7,               # max amount of training launches \n",
        "    directory='test_directory'   # catalogue  \n",
        "    \n",
        ")\n"
      ],
      "execution_count": 0,
      "outputs": []
    },
    {
      "cell_type": "markdown",
      "metadata": {
        "id": "yI6r8JHDMoju",
        "colab_type": "text"
      },
      "source": [
        "LAUNCH"
      ]
    },
    {
      "cell_type": "code",
      "metadata": {
        "id": "OVXXkU7LMqZD",
        "colab_type": "code",
        "outputId": "1edd0a54-a03c-4047-bea7-2da7bc0fbd86",
        "colab": {
          "base_uri": "https://localhost:8080/",
          "height": 557
        }
      },
      "source": [
        "tuner.search_space_summary()"
      ],
      "execution_count": 59,
      "outputs": [
        {
          "output_type": "display_data",
          "data": {
            "text/html": [
              "<span style=\"color:#4527A0\"><h1 style=\"font-size:18px\">Search space summary</h1></span>"
            ],
            "text/plain": [
              "<IPython.core.display.HTML object>"
            ]
          },
          "metadata": {
            "tags": []
          }
        },
        {
          "output_type": "display_data",
          "data": {
            "text/html": [
              "<span style=\"color:cyan\"> |-Default search space size: 4</span>"
            ],
            "text/plain": [
              "<IPython.core.display.HTML object>"
            ]
          },
          "metadata": {
            "tags": []
          }
        },
        {
          "output_type": "display_data",
          "data": {
            "text/html": [
              "<span style=\"color:#7E57C2\"><h2 style=\"font-size:16px\">activation (Choice)</h2></span>"
            ],
            "text/plain": [
              "<IPython.core.display.HTML object>"
            ]
          },
          "metadata": {
            "tags": []
          }
        },
        {
          "output_type": "display_data",
          "data": {
            "text/html": [
              "<span style=\"color:cyan\"> |-conditions: []</span>"
            ],
            "text/plain": [
              "<IPython.core.display.HTML object>"
            ]
          },
          "metadata": {
            "tags": []
          }
        },
        {
          "output_type": "display_data",
          "data": {
            "text/html": [
              "<span style=\"color:blue\"> |-default: relu</span>"
            ],
            "text/plain": [
              "<IPython.core.display.HTML object>"
            ]
          },
          "metadata": {
            "tags": []
          }
        },
        {
          "output_type": "display_data",
          "data": {
            "text/html": [
              "<span style=\"color:cyan\"> |-ordered: False</span>"
            ],
            "text/plain": [
              "<IPython.core.display.HTML object>"
            ]
          },
          "metadata": {
            "tags": []
          }
        },
        {
          "output_type": "display_data",
          "data": {
            "text/html": [
              "<span style=\"color:blue\"> |-values: ['relu', 'sigmoid', 'tanh', 'elu', 'selu']</span>"
            ],
            "text/plain": [
              "<IPython.core.display.HTML object>"
            ]
          },
          "metadata": {
            "tags": []
          }
        },
        {
          "output_type": "display_data",
          "data": {
            "text/html": [
              "<span style=\"color:#7E57C2\"><h2 style=\"font-size:16px\">units_input (Int)</h2></span>"
            ],
            "text/plain": [
              "<IPython.core.display.HTML object>"
            ]
          },
          "metadata": {
            "tags": []
          }
        },
        {
          "output_type": "display_data",
          "data": {
            "text/html": [
              "<span style=\"color:cyan\"> |-conditions: []</span>"
            ],
            "text/plain": [
              "<IPython.core.display.HTML object>"
            ]
          },
          "metadata": {
            "tags": []
          }
        },
        {
          "output_type": "display_data",
          "data": {
            "text/html": [
              "<span style=\"color:blue\"> |-default: None</span>"
            ],
            "text/plain": [
              "<IPython.core.display.HTML object>"
            ]
          },
          "metadata": {
            "tags": []
          }
        },
        {
          "output_type": "display_data",
          "data": {
            "text/html": [
              "<span style=\"color:cyan\"> |-max_value: 1024</span>"
            ],
            "text/plain": [
              "<IPython.core.display.HTML object>"
            ]
          },
          "metadata": {
            "tags": []
          }
        },
        {
          "output_type": "display_data",
          "data": {
            "text/html": [
              "<span style=\"color:blue\"> |-min_value: 128</span>"
            ],
            "text/plain": [
              "<IPython.core.display.HTML object>"
            ]
          },
          "metadata": {
            "tags": []
          }
        },
        {
          "output_type": "display_data",
          "data": {
            "text/html": [
              "<span style=\"color:cyan\"> |-sampling: None</span>"
            ],
            "text/plain": [
              "<IPython.core.display.HTML object>"
            ]
          },
          "metadata": {
            "tags": []
          }
        },
        {
          "output_type": "display_data",
          "data": {
            "text/html": [
              "<span style=\"color:blue\"> |-step: 32</span>"
            ],
            "text/plain": [
              "<IPython.core.display.HTML object>"
            ]
          },
          "metadata": {
            "tags": []
          }
        },
        {
          "output_type": "display_data",
          "data": {
            "text/html": [
              "<span style=\"color:#7E57C2\"><h2 style=\"font-size:16px\">units_hidden (Int)</h2></span>"
            ],
            "text/plain": [
              "<IPython.core.display.HTML object>"
            ]
          },
          "metadata": {
            "tags": []
          }
        },
        {
          "output_type": "display_data",
          "data": {
            "text/html": [
              "<span style=\"color:cyan\"> |-conditions: []</span>"
            ],
            "text/plain": [
              "<IPython.core.display.HTML object>"
            ]
          },
          "metadata": {
            "tags": []
          }
        },
        {
          "output_type": "display_data",
          "data": {
            "text/html": [
              "<span style=\"color:blue\"> |-default: None</span>"
            ],
            "text/plain": [
              "<IPython.core.display.HTML object>"
            ]
          },
          "metadata": {
            "tags": []
          }
        },
        {
          "output_type": "display_data",
          "data": {
            "text/html": [
              "<span style=\"color:cyan\"> |-max_value: 600</span>"
            ],
            "text/plain": [
              "<IPython.core.display.HTML object>"
            ]
          },
          "metadata": {
            "tags": []
          }
        },
        {
          "output_type": "display_data",
          "data": {
            "text/html": [
              "<span style=\"color:blue\"> |-min_value: 128</span>"
            ],
            "text/plain": [
              "<IPython.core.display.HTML object>"
            ]
          },
          "metadata": {
            "tags": []
          }
        },
        {
          "output_type": "display_data",
          "data": {
            "text/html": [
              "<span style=\"color:cyan\"> |-sampling: None</span>"
            ],
            "text/plain": [
              "<IPython.core.display.HTML object>"
            ]
          },
          "metadata": {
            "tags": []
          }
        },
        {
          "output_type": "display_data",
          "data": {
            "text/html": [
              "<span style=\"color:blue\"> |-step: 32</span>"
            ],
            "text/plain": [
              "<IPython.core.display.HTML object>"
            ]
          },
          "metadata": {
            "tags": []
          }
        },
        {
          "output_type": "display_data",
          "data": {
            "text/html": [
              "<span style=\"color:#7E57C2\"><h2 style=\"font-size:16px\">optimizer (Choice)</h2></span>"
            ],
            "text/plain": [
              "<IPython.core.display.HTML object>"
            ]
          },
          "metadata": {
            "tags": []
          }
        },
        {
          "output_type": "display_data",
          "data": {
            "text/html": [
              "<span style=\"color:cyan\"> |-conditions: []</span>"
            ],
            "text/plain": [
              "<IPython.core.display.HTML object>"
            ]
          },
          "metadata": {
            "tags": []
          }
        },
        {
          "output_type": "display_data",
          "data": {
            "text/html": [
              "<span style=\"color:blue\"> |-default: adam</span>"
            ],
            "text/plain": [
              "<IPython.core.display.HTML object>"
            ]
          },
          "metadata": {
            "tags": []
          }
        },
        {
          "output_type": "display_data",
          "data": {
            "text/html": [
              "<span style=\"color:cyan\"> |-ordered: False</span>"
            ],
            "text/plain": [
              "<IPython.core.display.HTML object>"
            ]
          },
          "metadata": {
            "tags": []
          }
        },
        {
          "output_type": "display_data",
          "data": {
            "text/html": [
              "<span style=\"color:blue\"> |-values: ['adam', 'rmsprop', 'SGD']</span>"
            ],
            "text/plain": [
              "<IPython.core.display.HTML object>"
            ]
          },
          "metadata": {
            "tags": []
          }
        }
      ]
    },
    {
      "cell_type": "markdown",
      "metadata": {
        "id": "iVJ2Nm_mvgyy",
        "colab_type": "text"
      },
      "source": [
        "EARLY-STOPPING CALLBACK"
      ]
    },
    {
      "cell_type": "code",
      "metadata": {
        "id": "kTG1JbtcvkuT",
        "colab_type": "code",
        "colab": {}
      },
      "source": [
        "early_stopping_callback = EarlyStopping(monitor='val_accuracy', patience=2)"
      ],
      "execution_count": 0,
      "outputs": []
    },
    {
      "cell_type": "markdown",
      "metadata": {
        "id": "HCw9PXgrMxBN",
        "colab_type": "text"
      },
      "source": [
        "Getting Hyper-parametrs"
      ]
    },
    {
      "cell_type": "code",
      "metadata": {
        "id": "eubVPdQqM1sb",
        "colab_type": "code",
        "outputId": "f001e3cb-2cca-48f7-907d-81cb0f70e148",
        "colab": {
          "base_uri": "https://localhost:8080/",
          "height": 1000
        }
      },
      "source": [
        "history = tuner.search(x_train,        # Data for training\n",
        "             y_train,                  # Right answers\n",
        "             batch_size=256,           # mini picks\n",
        "             epochs=10,                 # amount of epochs \n",
        "             validation_split=0.2,     # Checking data\n",
        "             callbacks=[early_stopping_callback]\n",
        "             )"
      ],
      "execution_count": 61,
      "outputs": [
        {
          "output_type": "display_data",
          "data": {
            "text/html": [
              "<span style=\"color:#4527A0\"><h1 style=\"font-size:18px\">Starting new trial</h1></span>"
            ],
            "text/plain": [
              "<IPython.core.display.HTML object>"
            ]
          },
          "metadata": {
            "tags": []
          }
        },
        {
          "output_type": "stream",
          "text": [
            "Epoch 1/10\n",
            "188/188 [==============================] - 8s 40ms/step - loss: 0.6583 - accuracy: 0.7628 - val_loss: 0.4827 - val_accuracy: 0.8127\n",
            "Epoch 2/10\n",
            "188/188 [==============================] - 7s 40ms/step - loss: 0.4206 - accuracy: 0.8420 - val_loss: 0.4033 - val_accuracy: 0.8497\n",
            "Epoch 3/10\n",
            "188/188 [==============================] - 7s 40ms/step - loss: 0.3643 - accuracy: 0.8636 - val_loss: 0.4603 - val_accuracy: 0.8259\n",
            "Epoch 4/10\n",
            "188/188 [==============================] - 7s 40ms/step - loss: 0.3285 - accuracy: 0.8769 - val_loss: 0.3984 - val_accuracy: 0.8532\n",
            "Epoch 5/10\n",
            "188/188 [==============================] - 7s 40ms/step - loss: 0.3035 - accuracy: 0.8873 - val_loss: 0.3846 - val_accuracy: 0.8561\n",
            "Epoch 6/10\n",
            "188/188 [==============================] - 7s 40ms/step - loss: 0.2873 - accuracy: 0.8913 - val_loss: 0.3468 - val_accuracy: 0.8773\n",
            "Epoch 7/10\n",
            "188/188 [==============================] - 7s 39ms/step - loss: 0.2689 - accuracy: 0.8982 - val_loss: 0.3568 - val_accuracy: 0.8769\n",
            "Epoch 8/10\n",
            "188/188 [==============================] - 7s 40ms/step - loss: 0.2584 - accuracy: 0.9021 - val_loss: 0.3253 - val_accuracy: 0.8870\n",
            "Epoch 9/10\n",
            "188/188 [==============================] - 8s 40ms/step - loss: 0.2455 - accuracy: 0.9073 - val_loss: 0.3587 - val_accuracy: 0.8760\n",
            "Epoch 10/10\n",
            "188/188 [==============================] - 7s 40ms/step - loss: 0.2319 - accuracy: 0.9114 - val_loss: 0.3161 - val_accuracy: 0.8942\n"
          ],
          "name": "stdout"
        },
        {
          "output_type": "display_data",
          "data": {
            "text/html": [
              "<span style=\"color:#4527A0\"><h1 style=\"font-size:18px\">Trial complete</h1></span>"
            ],
            "text/plain": [
              "<IPython.core.display.HTML object>"
            ]
          },
          "metadata": {
            "tags": []
          }
        },
        {
          "output_type": "display_data",
          "data": {
            "text/html": [
              "<span style=\"color:#4527A0\"><h1 style=\"font-size:18px\">Trial summary</h1></span>"
            ],
            "text/plain": [
              "<IPython.core.display.HTML object>"
            ]
          },
          "metadata": {
            "tags": []
          }
        },
        {
          "output_type": "display_data",
          "data": {
            "text/html": [
              "<span style=\"color:cyan\"> |-Trial ID: 98d0f298884115790400245422fbc250</span>"
            ],
            "text/plain": [
              "<IPython.core.display.HTML object>"
            ]
          },
          "metadata": {
            "tags": []
          }
        },
        {
          "output_type": "display_data",
          "data": {
            "text/html": [
              "<span style=\"color:cyan\"> |-Score: 0.8941666483879089</span>"
            ],
            "text/plain": [
              "<IPython.core.display.HTML object>"
            ]
          },
          "metadata": {
            "tags": []
          }
        },
        {
          "output_type": "display_data",
          "data": {
            "text/html": [
              "<span style=\"color:cyan\"> |-Best step: 0</span>"
            ],
            "text/plain": [
              "<IPython.core.display.HTML object>"
            ]
          },
          "metadata": {
            "tags": []
          }
        },
        {
          "output_type": "display_data",
          "data": {
            "text/html": [
              "<span style=\"color:#7E57C2\"><h2 style=\"font-size:16px\">Hyperparameters:</h2></span>"
            ],
            "text/plain": [
              "<IPython.core.display.HTML object>"
            ]
          },
          "metadata": {
            "tags": []
          }
        },
        {
          "output_type": "display_data",
          "data": {
            "text/html": [
              "<span style=\"color:cyan\"> |-activation: relu</span>"
            ],
            "text/plain": [
              "<IPython.core.display.HTML object>"
            ]
          },
          "metadata": {
            "tags": []
          }
        },
        {
          "output_type": "display_data",
          "data": {
            "text/html": [
              "<span style=\"color:blue\"> |-optimizer: rmsprop</span>"
            ],
            "text/plain": [
              "<IPython.core.display.HTML object>"
            ]
          },
          "metadata": {
            "tags": []
          }
        },
        {
          "output_type": "display_data",
          "data": {
            "text/html": [
              "<span style=\"color:cyan\"> |-units_hidden: 416</span>"
            ],
            "text/plain": [
              "<IPython.core.display.HTML object>"
            ]
          },
          "metadata": {
            "tags": []
          }
        },
        {
          "output_type": "display_data",
          "data": {
            "text/html": [
              "<span style=\"color:blue\"> |-units_input: 896</span>"
            ],
            "text/plain": [
              "<IPython.core.display.HTML object>"
            ]
          },
          "metadata": {
            "tags": []
          }
        },
        {
          "output_type": "display_data",
          "data": {
            "text/html": [
              "<span style=\"color:#4527A0\"><h1 style=\"font-size:18px\">Starting new trial</h1></span>"
            ],
            "text/plain": [
              "<IPython.core.display.HTML object>"
            ]
          },
          "metadata": {
            "tags": []
          }
        },
        {
          "output_type": "stream",
          "text": [
            "Epoch 1/10\n",
            "188/188 [==============================] - 8s 41ms/step - loss: 0.5270 - accuracy: 0.8141 - val_loss: 0.3824 - val_accuracy: 0.8632\n",
            "Epoch 2/10\n",
            "188/188 [==============================] - 8s 41ms/step - loss: 0.3667 - accuracy: 0.8679 - val_loss: 0.3826 - val_accuracy: 0.8613\n",
            "Epoch 3/10\n",
            "188/188 [==============================] - 8s 40ms/step - loss: 0.3242 - accuracy: 0.8799 - val_loss: 0.3420 - val_accuracy: 0.8783\n",
            "Epoch 4/10\n",
            "188/188 [==============================] - 8s 40ms/step - loss: 0.3020 - accuracy: 0.8889 - val_loss: 0.3404 - val_accuracy: 0.8760\n",
            "Epoch 5/10\n",
            "188/188 [==============================] - 8s 42ms/step - loss: 0.2813 - accuracy: 0.8954 - val_loss: 0.3374 - val_accuracy: 0.8821\n",
            "Epoch 6/10\n",
            "188/188 [==============================] - 8s 40ms/step - loss: 0.2625 - accuracy: 0.9030 - val_loss: 0.3218 - val_accuracy: 0.8820\n",
            "Epoch 7/10\n",
            "188/188 [==============================] - 8s 40ms/step - loss: 0.2489 - accuracy: 0.9068 - val_loss: 0.3123 - val_accuracy: 0.8892\n",
            "Epoch 8/10\n",
            "188/188 [==============================] - 8s 40ms/step - loss: 0.2393 - accuracy: 0.9106 - val_loss: 0.3558 - val_accuracy: 0.8750\n",
            "Epoch 9/10\n",
            "188/188 [==============================] - 8s 40ms/step - loss: 0.2245 - accuracy: 0.9155 - val_loss: 0.3173 - val_accuracy: 0.8869\n"
          ],
          "name": "stdout"
        },
        {
          "output_type": "display_data",
          "data": {
            "text/html": [
              "<span style=\"color:#4527A0\"><h1 style=\"font-size:18px\">Trial complete</h1></span>"
            ],
            "text/plain": [
              "<IPython.core.display.HTML object>"
            ]
          },
          "metadata": {
            "tags": []
          }
        },
        {
          "output_type": "display_data",
          "data": {
            "text/html": [
              "<span style=\"color:#4527A0\"><h1 style=\"font-size:18px\">Trial summary</h1></span>"
            ],
            "text/plain": [
              "<IPython.core.display.HTML object>"
            ]
          },
          "metadata": {
            "tags": []
          }
        },
        {
          "output_type": "display_data",
          "data": {
            "text/html": [
              "<span style=\"color:cyan\"> |-Trial ID: 96593854881dde7393eae1102e046158</span>"
            ],
            "text/plain": [
              "<IPython.core.display.HTML object>"
            ]
          },
          "metadata": {
            "tags": []
          }
        },
        {
          "output_type": "display_data",
          "data": {
            "text/html": [
              "<span style=\"color:cyan\"> |-Score: 0.8892499804496765</span>"
            ],
            "text/plain": [
              "<IPython.core.display.HTML object>"
            ]
          },
          "metadata": {
            "tags": []
          }
        },
        {
          "output_type": "display_data",
          "data": {
            "text/html": [
              "<span style=\"color:cyan\"> |-Best step: 0</span>"
            ],
            "text/plain": [
              "<IPython.core.display.HTML object>"
            ]
          },
          "metadata": {
            "tags": []
          }
        },
        {
          "output_type": "display_data",
          "data": {
            "text/html": [
              "<span style=\"color:#7E57C2\"><h2 style=\"font-size:16px\">Hyperparameters:</h2></span>"
            ],
            "text/plain": [
              "<IPython.core.display.HTML object>"
            ]
          },
          "metadata": {
            "tags": []
          }
        },
        {
          "output_type": "display_data",
          "data": {
            "text/html": [
              "<span style=\"color:cyan\"> |-activation: relu</span>"
            ],
            "text/plain": [
              "<IPython.core.display.HTML object>"
            ]
          },
          "metadata": {
            "tags": []
          }
        },
        {
          "output_type": "display_data",
          "data": {
            "text/html": [
              "<span style=\"color:blue\"> |-optimizer: adam</span>"
            ],
            "text/plain": [
              "<IPython.core.display.HTML object>"
            ]
          },
          "metadata": {
            "tags": []
          }
        },
        {
          "output_type": "display_data",
          "data": {
            "text/html": [
              "<span style=\"color:cyan\"> |-units_hidden: 576</span>"
            ],
            "text/plain": [
              "<IPython.core.display.HTML object>"
            ]
          },
          "metadata": {
            "tags": []
          }
        },
        {
          "output_type": "display_data",
          "data": {
            "text/html": [
              "<span style=\"color:blue\"> |-units_input: 864</span>"
            ],
            "text/plain": [
              "<IPython.core.display.HTML object>"
            ]
          },
          "metadata": {
            "tags": []
          }
        },
        {
          "output_type": "display_data",
          "data": {
            "text/html": [
              "<span style=\"color:#4527A0\"><h1 style=\"font-size:18px\">Starting new trial</h1></span>"
            ],
            "text/plain": [
              "<IPython.core.display.HTML object>"
            ]
          },
          "metadata": {
            "tags": []
          }
        },
        {
          "output_type": "stream",
          "text": [
            "Epoch 1/10\n",
            "188/188 [==============================] - 2s 12ms/step - loss: 0.9251 - accuracy: 0.6885 - val_loss: 0.6751 - val_accuracy: 0.7691\n",
            "Epoch 2/10\n",
            "188/188 [==============================] - 2s 12ms/step - loss: 0.6172 - accuracy: 0.7895 - val_loss: 0.5788 - val_accuracy: 0.7939\n",
            "Epoch 3/10\n",
            "188/188 [==============================] - 2s 12ms/step - loss: 0.5511 - accuracy: 0.8095 - val_loss: 0.5334 - val_accuracy: 0.8120\n",
            "Epoch 4/10\n",
            "188/188 [==============================] - 2s 12ms/step - loss: 0.5161 - accuracy: 0.8206 - val_loss: 0.5046 - val_accuracy: 0.8207\n",
            "Epoch 5/10\n",
            "188/188 [==============================] - 2s 12ms/step - loss: 0.4932 - accuracy: 0.8278 - val_loss: 0.4877 - val_accuracy: 0.8253\n",
            "Epoch 6/10\n",
            "188/188 [==============================] - 2s 12ms/step - loss: 0.4776 - accuracy: 0.8321 - val_loss: 0.4738 - val_accuracy: 0.8323\n",
            "Epoch 7/10\n",
            "188/188 [==============================] - 2s 12ms/step - loss: 0.4647 - accuracy: 0.8376 - val_loss: 0.4731 - val_accuracy: 0.8313\n",
            "Epoch 8/10\n",
            "188/188 [==============================] - 4s 23ms/step - loss: 0.4541 - accuracy: 0.8400 - val_loss: 0.4588 - val_accuracy: 0.8373\n",
            "Epoch 9/10\n",
            "188/188 [==============================] - 4s 20ms/step - loss: 0.4460 - accuracy: 0.8429 - val_loss: 0.4507 - val_accuracy: 0.8388\n",
            "Epoch 10/10\n",
            "188/188 [==============================] - 2s 12ms/step - loss: 0.4398 - accuracy: 0.8460 - val_loss: 0.4604 - val_accuracy: 0.8332\n"
          ],
          "name": "stdout"
        },
        {
          "output_type": "display_data",
          "data": {
            "text/html": [
              "<span style=\"color:#4527A0\"><h1 style=\"font-size:18px\">Trial complete</h1></span>"
            ],
            "text/plain": [
              "<IPython.core.display.HTML object>"
            ]
          },
          "metadata": {
            "tags": []
          }
        },
        {
          "output_type": "display_data",
          "data": {
            "text/html": [
              "<span style=\"color:#4527A0\"><h1 style=\"font-size:18px\">Trial summary</h1></span>"
            ],
            "text/plain": [
              "<IPython.core.display.HTML object>"
            ]
          },
          "metadata": {
            "tags": []
          }
        },
        {
          "output_type": "display_data",
          "data": {
            "text/html": [
              "<span style=\"color:cyan\"> |-Trial ID: 7e1551599c1cb05c298e89080de1b164</span>"
            ],
            "text/plain": [
              "<IPython.core.display.HTML object>"
            ]
          },
          "metadata": {
            "tags": []
          }
        },
        {
          "output_type": "display_data",
          "data": {
            "text/html": [
              "<span style=\"color:cyan\"> |-Score: 0.8387500047683716</span>"
            ],
            "text/plain": [
              "<IPython.core.display.HTML object>"
            ]
          },
          "metadata": {
            "tags": []
          }
        },
        {
          "output_type": "display_data",
          "data": {
            "text/html": [
              "<span style=\"color:cyan\"> |-Best step: 0</span>"
            ],
            "text/plain": [
              "<IPython.core.display.HTML object>"
            ]
          },
          "metadata": {
            "tags": []
          }
        },
        {
          "output_type": "display_data",
          "data": {
            "text/html": [
              "<span style=\"color:#7E57C2\"><h2 style=\"font-size:16px\">Hyperparameters:</h2></span>"
            ],
            "text/plain": [
              "<IPython.core.display.HTML object>"
            ]
          },
          "metadata": {
            "tags": []
          }
        },
        {
          "output_type": "display_data",
          "data": {
            "text/html": [
              "<span style=\"color:cyan\"> |-activation: selu</span>"
            ],
            "text/plain": [
              "<IPython.core.display.HTML object>"
            ]
          },
          "metadata": {
            "tags": []
          }
        },
        {
          "output_type": "display_data",
          "data": {
            "text/html": [
              "<span style=\"color:blue\"> |-optimizer: SGD</span>"
            ],
            "text/plain": [
              "<IPython.core.display.HTML object>"
            ]
          },
          "metadata": {
            "tags": []
          }
        },
        {
          "output_type": "display_data",
          "data": {
            "text/html": [
              "<span style=\"color:cyan\"> |-units_hidden: 128</span>"
            ],
            "text/plain": [
              "<IPython.core.display.HTML object>"
            ]
          },
          "metadata": {
            "tags": []
          }
        },
        {
          "output_type": "display_data",
          "data": {
            "text/html": [
              "<span style=\"color:blue\"> |-units_input: 288</span>"
            ],
            "text/plain": [
              "<IPython.core.display.HTML object>"
            ]
          },
          "metadata": {
            "tags": []
          }
        },
        {
          "output_type": "display_data",
          "data": {
            "text/html": [
              "<span style=\"color:#4527A0\"><h1 style=\"font-size:18px\">Starting new trial</h1></span>"
            ],
            "text/plain": [
              "<IPython.core.display.HTML object>"
            ]
          },
          "metadata": {
            "tags": []
          }
        },
        {
          "output_type": "stream",
          "text": [
            "Epoch 1/10\n",
            "188/188 [==============================] - 6s 32ms/step - loss: 0.5308 - accuracy: 0.8162 - val_loss: 0.4256 - val_accuracy: 0.8537\n",
            "Epoch 2/10\n",
            "188/188 [==============================] - 6s 32ms/step - loss: 0.3797 - accuracy: 0.8634 - val_loss: 0.3792 - val_accuracy: 0.8616\n",
            "Epoch 3/10\n",
            "188/188 [==============================] - 6s 31ms/step - loss: 0.3363 - accuracy: 0.8766 - val_loss: 0.3510 - val_accuracy: 0.8759\n",
            "Epoch 4/10\n",
            "188/188 [==============================] - 6s 31ms/step - loss: 0.3046 - accuracy: 0.8883 - val_loss: 0.3189 - val_accuracy: 0.8868\n",
            "Epoch 5/10\n",
            "188/188 [==============================] - 6s 31ms/step - loss: 0.2829 - accuracy: 0.8961 - val_loss: 0.3257 - val_accuracy: 0.8842\n",
            "Epoch 6/10\n",
            "188/188 [==============================] - 6s 31ms/step - loss: 0.2686 - accuracy: 0.8999 - val_loss: 0.3158 - val_accuracy: 0.8823\n"
          ],
          "name": "stdout"
        },
        {
          "output_type": "display_data",
          "data": {
            "text/html": [
              "<span style=\"color:#4527A0\"><h1 style=\"font-size:18px\">Trial complete</h1></span>"
            ],
            "text/plain": [
              "<IPython.core.display.HTML object>"
            ]
          },
          "metadata": {
            "tags": []
          }
        },
        {
          "output_type": "display_data",
          "data": {
            "text/html": [
              "<span style=\"color:#4527A0\"><h1 style=\"font-size:18px\">Trial summary</h1></span>"
            ],
            "text/plain": [
              "<IPython.core.display.HTML object>"
            ]
          },
          "metadata": {
            "tags": []
          }
        },
        {
          "output_type": "display_data",
          "data": {
            "text/html": [
              "<span style=\"color:cyan\"> |-Trial ID: b2b6043f108ee786ce062f3a387c44aa</span>"
            ],
            "text/plain": [
              "<IPython.core.display.HTML object>"
            ]
          },
          "metadata": {
            "tags": []
          }
        },
        {
          "output_type": "display_data",
          "data": {
            "text/html": [
              "<span style=\"color:cyan\"> |-Score: 0.8868333101272583</span>"
            ],
            "text/plain": [
              "<IPython.core.display.HTML object>"
            ]
          },
          "metadata": {
            "tags": []
          }
        },
        {
          "output_type": "display_data",
          "data": {
            "text/html": [
              "<span style=\"color:cyan\"> |-Best step: 0</span>"
            ],
            "text/plain": [
              "<IPython.core.display.HTML object>"
            ]
          },
          "metadata": {
            "tags": []
          }
        },
        {
          "output_type": "display_data",
          "data": {
            "text/html": [
              "<span style=\"color:#7E57C2\"><h2 style=\"font-size:16px\">Hyperparameters:</h2></span>"
            ],
            "text/plain": [
              "<IPython.core.display.HTML object>"
            ]
          },
          "metadata": {
            "tags": []
          }
        },
        {
          "output_type": "display_data",
          "data": {
            "text/html": [
              "<span style=\"color:cyan\"> |-activation: relu</span>"
            ],
            "text/plain": [
              "<IPython.core.display.HTML object>"
            ]
          },
          "metadata": {
            "tags": []
          }
        },
        {
          "output_type": "display_data",
          "data": {
            "text/html": [
              "<span style=\"color:blue\"> |-optimizer: adam</span>"
            ],
            "text/plain": [
              "<IPython.core.display.HTML object>"
            ]
          },
          "metadata": {
            "tags": []
          }
        },
        {
          "output_type": "display_data",
          "data": {
            "text/html": [
              "<span style=\"color:cyan\"> |-units_hidden: 128</span>"
            ],
            "text/plain": [
              "<IPython.core.display.HTML object>"
            ]
          },
          "metadata": {
            "tags": []
          }
        },
        {
          "output_type": "display_data",
          "data": {
            "text/html": [
              "<span style=\"color:blue\"> |-units_input: 1024</span>"
            ],
            "text/plain": [
              "<IPython.core.display.HTML object>"
            ]
          },
          "metadata": {
            "tags": []
          }
        },
        {
          "output_type": "display_data",
          "data": {
            "text/html": [
              "<span style=\"color:#4527A0\"><h1 style=\"font-size:18px\">Starting new trial</h1></span>"
            ],
            "text/plain": [
              "<IPython.core.display.HTML object>"
            ]
          },
          "metadata": {
            "tags": []
          }
        },
        {
          "output_type": "stream",
          "text": [
            "Epoch 1/10\n",
            "188/188 [==============================] - 8s 45ms/step - loss: 1.2668 - accuracy: 0.6447 - val_loss: 0.8524 - val_accuracy: 0.7394\n",
            "Epoch 2/10\n",
            "188/188 [==============================] - 8s 45ms/step - loss: 0.7598 - accuracy: 0.7613 - val_loss: 0.6849 - val_accuracy: 0.7818\n",
            "Epoch 3/10\n",
            "188/188 [==============================] - 8s 45ms/step - loss: 0.6484 - accuracy: 0.7946 - val_loss: 0.6102 - val_accuracy: 0.8031\n",
            "Epoch 4/10\n",
            "188/188 [==============================] - 8s 45ms/step - loss: 0.5907 - accuracy: 0.8091 - val_loss: 0.5710 - val_accuracy: 0.8103\n",
            "Epoch 5/10\n",
            "188/188 [==============================] - 8s 45ms/step - loss: 0.5539 - accuracy: 0.8190 - val_loss: 0.5396 - val_accuracy: 0.8193\n",
            "Epoch 6/10\n",
            "188/188 [==============================] - 8s 45ms/step - loss: 0.5269 - accuracy: 0.8249 - val_loss: 0.5249 - val_accuracy: 0.8213\n",
            "Epoch 7/10\n",
            "188/188 [==============================] - 8s 45ms/step - loss: 0.5075 - accuracy: 0.8323 - val_loss: 0.5146 - val_accuracy: 0.8218\n",
            "Epoch 8/10\n",
            "188/188 [==============================] - 8s 44ms/step - loss: 0.4919 - accuracy: 0.8350 - val_loss: 0.4949 - val_accuracy: 0.8313\n",
            "Epoch 9/10\n",
            "188/188 [==============================] - 8s 44ms/step - loss: 0.4787 - accuracy: 0.8390 - val_loss: 0.4766 - val_accuracy: 0.8368\n",
            "Epoch 10/10\n",
            "188/188 [==============================] - 8s 44ms/step - loss: 0.4682 - accuracy: 0.8403 - val_loss: 0.4732 - val_accuracy: 0.8368\n"
          ],
          "name": "stdout"
        },
        {
          "output_type": "display_data",
          "data": {
            "text/html": [
              "<span style=\"color:#4527A0\"><h1 style=\"font-size:18px\">Trial complete</h1></span>"
            ],
            "text/plain": [
              "<IPython.core.display.HTML object>"
            ]
          },
          "metadata": {
            "tags": []
          }
        },
        {
          "output_type": "display_data",
          "data": {
            "text/html": [
              "<span style=\"color:#4527A0\"><h1 style=\"font-size:18px\">Trial summary</h1></span>"
            ],
            "text/plain": [
              "<IPython.core.display.HTML object>"
            ]
          },
          "metadata": {
            "tags": []
          }
        },
        {
          "output_type": "display_data",
          "data": {
            "text/html": [
              "<span style=\"color:cyan\"> |-Trial ID: b35928c54ed827c3cab64e4e81d0e36c</span>"
            ],
            "text/plain": [
              "<IPython.core.display.HTML object>"
            ]
          },
          "metadata": {
            "tags": []
          }
        },
        {
          "output_type": "display_data",
          "data": {
            "text/html": [
              "<span style=\"color:cyan\"> |-Score: 0.8368333578109741</span>"
            ],
            "text/plain": [
              "<IPython.core.display.HTML object>"
            ]
          },
          "metadata": {
            "tags": []
          }
        },
        {
          "output_type": "display_data",
          "data": {
            "text/html": [
              "<span style=\"color:cyan\"> |-Best step: 0</span>"
            ],
            "text/plain": [
              "<IPython.core.display.HTML object>"
            ]
          },
          "metadata": {
            "tags": []
          }
        },
        {
          "output_type": "display_data",
          "data": {
            "text/html": [
              "<span style=\"color:#7E57C2\"><h2 style=\"font-size:16px\">Hyperparameters:</h2></span>"
            ],
            "text/plain": [
              "<IPython.core.display.HTML object>"
            ]
          },
          "metadata": {
            "tags": []
          }
        },
        {
          "output_type": "display_data",
          "data": {
            "text/html": [
              "<span style=\"color:cyan\"> |-activation: relu</span>"
            ],
            "text/plain": [
              "<IPython.core.display.HTML object>"
            ]
          },
          "metadata": {
            "tags": []
          }
        },
        {
          "output_type": "display_data",
          "data": {
            "text/html": [
              "<span style=\"color:blue\"> |-optimizer: SGD</span>"
            ],
            "text/plain": [
              "<IPython.core.display.HTML object>"
            ]
          },
          "metadata": {
            "tags": []
          }
        },
        {
          "output_type": "display_data",
          "data": {
            "text/html": [
              "<span style=\"color:cyan\"> |-units_hidden: 576</span>"
            ],
            "text/plain": [
              "<IPython.core.display.HTML object>"
            ]
          },
          "metadata": {
            "tags": []
          }
        },
        {
          "output_type": "display_data",
          "data": {
            "text/html": [
              "<span style=\"color:blue\"> |-units_input: 1024</span>"
            ],
            "text/plain": [
              "<IPython.core.display.HTML object>"
            ]
          },
          "metadata": {
            "tags": []
          }
        },
        {
          "output_type": "display_data",
          "data": {
            "text/html": [
              "<span style=\"color:#4527A0\"><h1 style=\"font-size:18px\">Starting new trial</h1></span>"
            ],
            "text/plain": [
              "<IPython.core.display.HTML object>"
            ]
          },
          "metadata": {
            "tags": []
          }
        },
        {
          "output_type": "stream",
          "text": [
            "Epoch 1/10\n",
            "188/188 [==============================] - 1s 8ms/step - loss: 0.6261 - accuracy: 0.7872 - val_loss: 0.4604 - val_accuracy: 0.8382\n",
            "Epoch 2/10\n",
            "188/188 [==============================] - 1s 7ms/step - loss: 0.4179 - accuracy: 0.8529 - val_loss: 0.4110 - val_accuracy: 0.8535\n",
            "Epoch 3/10\n",
            "188/188 [==============================] - 1s 7ms/step - loss: 0.3770 - accuracy: 0.8661 - val_loss: 0.3879 - val_accuracy: 0.8631\n",
            "Epoch 4/10\n",
            "188/188 [==============================] - 1s 7ms/step - loss: 0.3495 - accuracy: 0.8744 - val_loss: 0.4184 - val_accuracy: 0.8455\n",
            "Epoch 5/10\n",
            "188/188 [==============================] - 1s 7ms/step - loss: 0.3260 - accuracy: 0.8824 - val_loss: 0.3551 - val_accuracy: 0.8736\n",
            "Epoch 6/10\n",
            "188/188 [==============================] - 1s 8ms/step - loss: 0.3077 - accuracy: 0.8874 - val_loss: 0.3341 - val_accuracy: 0.8794\n",
            "Epoch 7/10\n",
            "188/188 [==============================] - 1s 7ms/step - loss: 0.2945 - accuracy: 0.8925 - val_loss: 0.3333 - val_accuracy: 0.8790\n",
            "Epoch 8/10\n",
            "188/188 [==============================] - 1s 7ms/step - loss: 0.2799 - accuracy: 0.8972 - val_loss: 0.3205 - val_accuracy: 0.8865\n",
            "Epoch 9/10\n",
            "188/188 [==============================] - 1s 7ms/step - loss: 0.2715 - accuracy: 0.8999 - val_loss: 0.3300 - val_accuracy: 0.8838\n",
            "Epoch 10/10\n",
            "188/188 [==============================] - 1s 7ms/step - loss: 0.2584 - accuracy: 0.9045 - val_loss: 0.3250 - val_accuracy: 0.8822\n"
          ],
          "name": "stdout"
        },
        {
          "output_type": "display_data",
          "data": {
            "text/html": [
              "<span style=\"color:#4527A0\"><h1 style=\"font-size:18px\">Trial complete</h1></span>"
            ],
            "text/plain": [
              "<IPython.core.display.HTML object>"
            ]
          },
          "metadata": {
            "tags": []
          }
        },
        {
          "output_type": "display_data",
          "data": {
            "text/html": [
              "<span style=\"color:#4527A0\"><h1 style=\"font-size:18px\">Trial summary</h1></span>"
            ],
            "text/plain": [
              "<IPython.core.display.HTML object>"
            ]
          },
          "metadata": {
            "tags": []
          }
        },
        {
          "output_type": "display_data",
          "data": {
            "text/html": [
              "<span style=\"color:cyan\"> |-Trial ID: 34db91ce497eed7415f9e50d5bd61de9</span>"
            ],
            "text/plain": [
              "<IPython.core.display.HTML object>"
            ]
          },
          "metadata": {
            "tags": []
          }
        },
        {
          "output_type": "display_data",
          "data": {
            "text/html": [
              "<span style=\"color:cyan\"> |-Score: 0.8865000009536743</span>"
            ],
            "text/plain": [
              "<IPython.core.display.HTML object>"
            ]
          },
          "metadata": {
            "tags": []
          }
        },
        {
          "output_type": "display_data",
          "data": {
            "text/html": [
              "<span style=\"color:cyan\"> |-Best step: 0</span>"
            ],
            "text/plain": [
              "<IPython.core.display.HTML object>"
            ]
          },
          "metadata": {
            "tags": []
          }
        },
        {
          "output_type": "display_data",
          "data": {
            "text/html": [
              "<span style=\"color:#7E57C2\"><h2 style=\"font-size:16px\">Hyperparameters:</h2></span>"
            ],
            "text/plain": [
              "<IPython.core.display.HTML object>"
            ]
          },
          "metadata": {
            "tags": []
          }
        },
        {
          "output_type": "display_data",
          "data": {
            "text/html": [
              "<span style=\"color:cyan\"> |-activation: relu</span>"
            ],
            "text/plain": [
              "<IPython.core.display.HTML object>"
            ]
          },
          "metadata": {
            "tags": []
          }
        },
        {
          "output_type": "display_data",
          "data": {
            "text/html": [
              "<span style=\"color:blue\"> |-optimizer: adam</span>"
            ],
            "text/plain": [
              "<IPython.core.display.HTML object>"
            ]
          },
          "metadata": {
            "tags": []
          }
        },
        {
          "output_type": "display_data",
          "data": {
            "text/html": [
              "<span style=\"color:cyan\"> |-units_hidden: 128</span>"
            ],
            "text/plain": [
              "<IPython.core.display.HTML object>"
            ]
          },
          "metadata": {
            "tags": []
          }
        },
        {
          "output_type": "display_data",
          "data": {
            "text/html": [
              "<span style=\"color:blue\"> |-units_input: 128</span>"
            ],
            "text/plain": [
              "<IPython.core.display.HTML object>"
            ]
          },
          "metadata": {
            "tags": []
          }
        },
        {
          "output_type": "display_data",
          "data": {
            "text/html": [
              "<span style=\"color:#4527A0\"><h1 style=\"font-size:18px\">Starting new trial</h1></span>"
            ],
            "text/plain": [
              "<IPython.core.display.HTML object>"
            ]
          },
          "metadata": {
            "tags": []
          }
        },
        {
          "output_type": "stream",
          "text": [
            "Epoch 1/10\n",
            "188/188 [==============================] - 9s 49ms/step - loss: 0.5901 - accuracy: 0.8055 - val_loss: 0.4985 - val_accuracy: 0.8167\n",
            "Epoch 2/10\n",
            "188/188 [==============================] - 9s 48ms/step - loss: 0.4077 - accuracy: 0.8536 - val_loss: 0.3979 - val_accuracy: 0.8497\n",
            "Epoch 3/10\n",
            "188/188 [==============================] - 9s 48ms/step - loss: 0.3654 - accuracy: 0.8676 - val_loss: 0.3796 - val_accuracy: 0.8609\n",
            "Epoch 4/10\n",
            "188/188 [==============================] - 9s 48ms/step - loss: 0.3544 - accuracy: 0.8706 - val_loss: 0.3446 - val_accuracy: 0.8758\n",
            "Epoch 5/10\n",
            "188/188 [==============================] - 9s 48ms/step - loss: 0.3180 - accuracy: 0.8841 - val_loss: 0.3803 - val_accuracy: 0.8702\n",
            "Epoch 6/10\n",
            "188/188 [==============================] - 9s 48ms/step - loss: 0.3108 - accuracy: 0.8847 - val_loss: 0.3319 - val_accuracy: 0.8798\n",
            "Epoch 7/10\n",
            "188/188 [==============================] - 9s 48ms/step - loss: 0.2809 - accuracy: 0.8940 - val_loss: 0.3501 - val_accuracy: 0.8742\n",
            "Epoch 8/10\n",
            "188/188 [==============================] - 9s 47ms/step - loss: 0.2676 - accuracy: 0.9006 - val_loss: 0.3434 - val_accuracy: 0.8735\n"
          ],
          "name": "stdout"
        },
        {
          "output_type": "display_data",
          "data": {
            "text/html": [
              "<span style=\"color:#4527A0\"><h1 style=\"font-size:18px\">Trial complete</h1></span>"
            ],
            "text/plain": [
              "<IPython.core.display.HTML object>"
            ]
          },
          "metadata": {
            "tags": []
          }
        },
        {
          "output_type": "display_data",
          "data": {
            "text/html": [
              "<span style=\"color:#4527A0\"><h1 style=\"font-size:18px\">Trial summary</h1></span>"
            ],
            "text/plain": [
              "<IPython.core.display.HTML object>"
            ]
          },
          "metadata": {
            "tags": []
          }
        },
        {
          "output_type": "display_data",
          "data": {
            "text/html": [
              "<span style=\"color:cyan\"> |-Trial ID: 914a3da6832614edfa90890e45d4f89a</span>"
            ],
            "text/plain": [
              "<IPython.core.display.HTML object>"
            ]
          },
          "metadata": {
            "tags": []
          }
        },
        {
          "output_type": "display_data",
          "data": {
            "text/html": [
              "<span style=\"color:cyan\"> |-Score: 0.8798333406448364</span>"
            ],
            "text/plain": [
              "<IPython.core.display.HTML object>"
            ]
          },
          "metadata": {
            "tags": []
          }
        },
        {
          "output_type": "display_data",
          "data": {
            "text/html": [
              "<span style=\"color:cyan\"> |-Best step: 0</span>"
            ],
            "text/plain": [
              "<IPython.core.display.HTML object>"
            ]
          },
          "metadata": {
            "tags": []
          }
        },
        {
          "output_type": "display_data",
          "data": {
            "text/html": [
              "<span style=\"color:#7E57C2\"><h2 style=\"font-size:16px\">Hyperparameters:</h2></span>"
            ],
            "text/plain": [
              "<IPython.core.display.HTML object>"
            ]
          },
          "metadata": {
            "tags": []
          }
        },
        {
          "output_type": "display_data",
          "data": {
            "text/html": [
              "<span style=\"color:cyan\"> |-activation: selu</span>"
            ],
            "text/plain": [
              "<IPython.core.display.HTML object>"
            ]
          },
          "metadata": {
            "tags": []
          }
        },
        {
          "output_type": "display_data",
          "data": {
            "text/html": [
              "<span style=\"color:blue\"> |-optimizer: adam</span>"
            ],
            "text/plain": [
              "<IPython.core.display.HTML object>"
            ]
          },
          "metadata": {
            "tags": []
          }
        },
        {
          "output_type": "display_data",
          "data": {
            "text/html": [
              "<span style=\"color:cyan\"> |-units_hidden: 576</span>"
            ],
            "text/plain": [
              "<IPython.core.display.HTML object>"
            ]
          },
          "metadata": {
            "tags": []
          }
        },
        {
          "output_type": "display_data",
          "data": {
            "text/html": [
              "<span style=\"color:blue\"> |-units_input: 1024</span>"
            ],
            "text/plain": [
              "<IPython.core.display.HTML object>"
            ]
          },
          "metadata": {
            "tags": []
          }
        },
        {
          "output_type": "stream",
          "text": [
            "INFO:tensorflow:Oracle triggered exit\n"
          ],
          "name": "stdout"
        }
      ]
    },
    {
      "cell_type": "markdown",
      "metadata": {
        "id": "16lP4nk0uULn",
        "colab_type": "text"
      },
      "source": [
        "CHOOSE BEST MODEL"
      ]
    },
    {
      "cell_type": "code",
      "metadata": {
        "id": "LAoww1nauXH0",
        "colab_type": "code",
        "colab": {}
      },
      "source": [
        "tuner.results_summary()"
      ],
      "execution_count": 0,
      "outputs": []
    },
    {
      "cell_type": "code",
      "metadata": {
        "id": "SUHO0KJXugIA",
        "colab_type": "code",
        "colab": {}
      },
      "source": [
        "models = tuner.get_best_models(num_models=3) "
      ],
      "execution_count": 0,
      "outputs": []
    },
    {
      "cell_type": "code",
      "metadata": {
        "id": "hGtgedIo0oYT",
        "colab_type": "code",
        "colab": {
          "base_uri": "https://localhost:8080/",
          "height": 884
        },
        "outputId": "3464cf8b-9f60-4270-c2ca-e978a2d04d9b"
      },
      "source": [
        "for model in models:\n",
        "  print(model)\n",
        "  model.summary()\n",
        "  model.evaluate(x_test,y_test)\n",
        "  print()\n",
        "best_model    = models[0]"
      ],
      "execution_count": 64,
      "outputs": [
        {
          "output_type": "stream",
          "text": [
            "<tensorflow.python.keras.engine.sequential.Sequential object at 0x7fadef09bb38>\n",
            "Model: \"sequential\"\n",
            "_________________________________________________________________\n",
            "Layer (type)                 Output Shape              Param #   \n",
            "=================================================================\n",
            "dense (Dense)                (None, 896)               703360    \n",
            "_________________________________________________________________\n",
            "dense_1 (Dense)              (None, 416)               373152    \n",
            "_________________________________________________________________\n",
            "dense_2 (Dense)              (None, 10)                4170      \n",
            "=================================================================\n",
            "Total params: 1,080,682\n",
            "Trainable params: 1,080,682\n",
            "Non-trainable params: 0\n",
            "_________________________________________________________________\n",
            "313/313 [==============================] - 1s 4ms/step - loss: 0.3488 - accuracy: 0.8890\n",
            "\n",
            "<tensorflow.python.keras.engine.sequential.Sequential object at 0x7fadeeed59e8>\n",
            "Model: \"sequential\"\n",
            "_________________________________________________________________\n",
            "Layer (type)                 Output Shape              Param #   \n",
            "=================================================================\n",
            "dense (Dense)                (None, 864)               678240    \n",
            "_________________________________________________________________\n",
            "dense_1 (Dense)              (None, 576)               498240    \n",
            "_________________________________________________________________\n",
            "dense_2 (Dense)              (None, 10)                5770      \n",
            "=================================================================\n",
            "Total params: 1,182,250\n",
            "Trainable params: 1,182,250\n",
            "Non-trainable params: 0\n",
            "_________________________________________________________________\n",
            "313/313 [==============================] - 1s 4ms/step - loss: 0.3391 - accuracy: 0.8792\n",
            "\n",
            "<tensorflow.python.keras.engine.sequential.Sequential object at 0x7fadef28b0f0>\n",
            "Model: \"sequential\"\n",
            "_________________________________________________________________\n",
            "Layer (type)                 Output Shape              Param #   \n",
            "=================================================================\n",
            "dense (Dense)                (None, 1024)              803840    \n",
            "_________________________________________________________________\n",
            "dense_1 (Dense)              (None, 128)               131200    \n",
            "_________________________________________________________________\n",
            "dense_2 (Dense)              (None, 10)                1290      \n",
            "=================================================================\n",
            "Total params: 936,330\n",
            "Trainable params: 936,330\n",
            "Non-trainable params: 0\n",
            "_________________________________________________________________\n",
            "313/313 [==============================] - 1s 3ms/step - loss: 0.3437 - accuracy: 0.8749\n",
            "\n"
          ],
          "name": "stdout"
        }
      ]
    },
    {
      "cell_type": "markdown",
      "metadata": {
        "id": "S7aWK5ON07Qx",
        "colab_type": "text"
      },
      "source": [
        "SAVING MODEL"
      ]
    },
    {
      "cell_type": "code",
      "metadata": {
        "id": "poOJ4mHB0_i_",
        "colab_type": "code",
        "colab": {}
      },
      "source": [
        "best_model.save('fashion_mnist_dense.h5')"
      ],
      "execution_count": 0,
      "outputs": []
    },
    {
      "cell_type": "code",
      "metadata": {
        "id": "UnnoPH1loUrK",
        "colab_type": "code",
        "colab": {}
      },
      "source": [
        "history=best_model.fit(x_train,y_train,batch_size=256,epochs=10,validation_split=0.2,verbose=2,callbacks=[early_stopping_callback])"
      ],
      "execution_count": 0,
      "outputs": []
    },
    {
      "cell_type": "markdown",
      "metadata": {
        "id": "HoYFKeCJ1FuD",
        "colab_type": "text"
      },
      "source": [
        "GRAPH VIZUALIZATION OF EDUCATIONAL PROCESS\n",
        "\n",
        "---\n",
        "\n"
      ]
    },
    {
      "cell_type": "code",
      "metadata": {
        "id": "9xfHE1Dgp89W",
        "colab_type": "code",
        "colab": {
          "base_uri": "https://localhost:8080/",
          "height": 279
        },
        "outputId": "1c44a8ee-a35b-4a7e-b7cc-b94f1a16925e"
      },
      "source": [
        "plt.plot(history.history['accuracy'],      label = 'accuracy on the training set')\n",
        "plt.plot(history.history['val_accuracy'],  label = 'accuracy on the checking set')\n",
        "plt.xlabel('educational epoch')\n",
        "plt.ylabel('Accuracy')\n",
        "plt.legend()\n",
        "plt.show()"
      ],
      "execution_count": 67,
      "outputs": [
        {
          "output_type": "display_data",
          "data": {
            "image/png": "[encoded data removed]",
            "text/plain": [
              "<Figure size 432x288 with 1 Axes>"
            ]
          },
          "metadata": {
            "tags": [],
            "needs_background": "light"
          }
        }
      ]
    },
    {
      "cell_type": "code",
      "metadata": {
        "id": "PZ0a8q1NqDd6",
        "colab_type": "code",
        "colab": {
          "base_uri": "https://localhost:8080/",
          "height": 279
        },
        "outputId": "1521fe71-87ad-41b4-8c15-511016f6dc5b"
      },
      "source": [
        "plt.plot(history.history['loss'],      label = 'mistake on the training set')\n",
        "plt.plot(history.history['val_loss'],  label = 'mistake on the checking set')\n",
        "plt.xlabel('educational epoch')\n",
        "plt.ylabel('Mistake')\n",
        "plt.legend()\n",
        "plt.show()"
      ],
      "execution_count": 68,
      "outputs": [
        {
          "output_type": "display_data",
          "data": {
            "image/png": "[encoded data removed]",
            "text/plain": [
              "<Figure size 432x288 with 1 Axes>"
            ]
          },
          "metadata": {
            "tags": [],
            "needs_background": "light"
          }
        }
      ]
    },
    {
      "cell_type": "code",
      "metadata": {
        "id": "2Rw-3opPqc4H",
        "colab_type": "code",
        "colab": {
          "base_uri": "https://localhost:8080/",
          "height": 350
        },
        "outputId": "92e082f2-e2d5-46be-8710-b084a0e5485a"
      },
      "source": [
        "# Launch network on input data\n",
        "predictions = best_model.predict(x_test)\n",
        "random_item = randint(0,10000)\n",
        "# Print one of the results of recognition\n",
        "print(predictions[random_item])\n",
        "\n",
        "# Print  class number,which was predicted by neural-Network \n",
        "print(np.argmax(predictions[random_item]))\n",
        "index = np.argmax(y_test[random_item])\n",
        "plt.imshow(x_test[random_item].reshape(28, 28), cmap=plt.cm.binary)\n",
        "plt.show()\n",
        "print('The Answer is ' + classes[index])\n"
      ],
      "execution_count": 69,
      "outputs": [
        {
          "output_type": "stream",
          "text": [
            "[1.82888691e-08 7.74136432e-17 9.99967098e-01 3.32093863e-13\n",
            " 2.97352544e-05 1.01747021e-13 3.06993616e-06 1.05226289e-15\n",
            " 1.26730046e-14 3.94654462e-19]\n",
            "2\n"
          ],
          "name": "stdout"
        },
        {
          "output_type": "display_data",
          "data": {
            "image/png": "[encoded data removed]",
            "text/plain": [
              "<Figure size 432x288 with 1 Axes>"
            ]
          },
          "metadata": {
            "tags": [],
            "needs_background": "light"
          }
        },
        {
          "output_type": "stream",
          "text": [
            "The Answer is sweater\n"
          ],
          "name": "stdout"
        }
      ]
    }
  ]
}
