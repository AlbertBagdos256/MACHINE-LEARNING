{
  "nbformat": 4,
  "nbformat_minor": 0,
  "metadata": {
    "colab": {
      "name": "Untitled0.ipynb",
      "provenance": [],
      "collapsed_sections": []
    },
    "kernelspec": {
      "name": "python3",
      "display_name": "Python 3"
    }
  },
  "cells": [
    {
      "cell_type": "markdown",
      "metadata": {
        "id": "6w1s-jq9DLye",
        "colab_type": "text"
      },
      "source": [
        "Downloading dataset"
      ]
    },
    {
      "cell_type": "code",
      "metadata": {
        "id": "qxel6yp3Bg9G",
        "colab_type": "code",
        "colab": {
          "base_uri": "https://localhost:8080/",
          "height": 204
        },
        "outputId": "3c057d4d-0624-4eb1-f53d-8a28aab0642d"
      },
      "source": [
        "!wget  https://github.com/zalandoresearch/fashion-mnist"
      ],
      "execution_count": 71,
      "outputs": [
        {
          "output_type": "stream",
          "text": [
            "--2020-06-02 19:36:11--  https://github.com/zalandoresearch/fashion-mnist\n",
            "Resolving github.com (github.com)... 140.82.112.3\n",
            "Connecting to github.com (github.com)|140.82.112.3|:443... connected.\n",
            "HTTP request sent, awaiting response... 200 OK\n",
            "Length: unspecified [text/html]\n",
            "Saving to: ‘fashion-mnist.9’\n",
            "\n",
            "fashion-mnist.9         [   <=>              ] 219.46K   303KB/s    in 0.7s    \n",
            "\n",
            "2020-06-02 19:36:13 (303 KB/s) - ‘fashion-mnist.9’ saved [224722]\n",
            "\n"
          ],
          "name": "stdout"
        }
      ]
    },
    {
      "cell_type": "markdown",
      "metadata": {
        "id": "MismgzQBEmD6",
        "colab_type": "text"
      },
      "source": [
        "Import libraries"
      ]
    },
    {
      "cell_type": "code",
      "metadata": {
        "id": "gstv9pTVCFyA",
        "colab_type": "code",
        "colab": {}
      },
      "source": [
        "from tensorflow.keras.datasets import fashion_mnist\n",
        "from tensorflow.keras.models   import Sequential\n",
        "from tensorflow.keras.layers   import Dense\n",
        "from tensorflow.keras          import utils\n",
        "import matplotlib.pyplot as plt\n",
        "import numpy as np\n",
        "\n",
        "\n",
        "# Download data\n",
        "(x_train, y_train), (x_test, y_test)  = fashion_mnist.load_data()\n",
        "\n",
        "x_train = x_train.reshape(60000,784)\n",
        "x_train = x_train / 255\n",
        "\n",
        "x_test  = x_test.reshape(10000,784)\n",
        "x_test  = x_test  / 255"
      ],
      "execution_count": 0,
      "outputs": []
    },
    {
      "cell_type": "code",
      "metadata": {
        "id": "CxsXh1m5FpM5",
        "colab_type": "code",
        "colab": {}
      },
      "source": [
        "y_train = utils.to_categorical(y_train,10)\n",
        "y_test  = utils.to_categorical(y_test,10)\n",
        "\n",
        "classes = ['T-shirt','shorts','sweater','dress','coat',\n",
        "           'shoes','shirt','sneakers','bag','boots']\n"
      ],
      "execution_count": 0,
      "outputs": []
    },
    {
      "cell_type": "code",
      "metadata": {
        "id": "LQ8t42aR6c2w",
        "colab_type": "code",
        "colab": {
          "base_uri": "https://localhost:8080/",
          "height": 238
        },
        "outputId": "d105a873-3e74-44c8-ca4b-14287edad585"
      },
      "source": [
        "# Creating model\n",
        "model = Sequential()\n",
        "\n",
        "# Add network's levels\n",
        "model.add(Dense(800, input_dim=784,activation='relu'))\n",
        "model.add(Dense(10,activation=\"softmax\"))\n",
        "\n",
        "# Compiling model\n",
        "model.compile(loss=\"categorical_crossentropy\",\n",
        "              optimizer=\"SGD\",metrics=[\"accuracy\"])\n",
        "\n",
        "print(model.summary())"
      ],
      "execution_count": 74,
      "outputs": [
        {
          "output_type": "stream",
          "text": [
            "Model: \"sequential_9\"\n",
            "_________________________________________________________________\n",
            "Layer (type)                 Output Shape              Param #   \n",
            "=================================================================\n",
            "dense_18 (Dense)             (None, 800)               628000    \n",
            "_________________________________________________________________\n",
            "dense_19 (Dense)             (None, 10)                8010      \n",
            "=================================================================\n",
            "Total params: 636,010\n",
            "Trainable params: 636,010\n",
            "Non-trainable params: 0\n",
            "_________________________________________________________________\n",
            "None\n"
          ],
          "name": "stdout"
        }
      ]
    },
    {
      "cell_type": "code",
      "metadata": {
        "id": "VcJy_ipWbRk5",
        "colab_type": "code",
        "colab": {
          "base_uri": "https://localhost:8080/",
          "height": 527
        },
        "outputId": "4d0a4e29-1ff8-4c28-9168-6658efea9538"
      },
      "source": [
        "# Teaching processs\n",
        "history = model.fit(x_train,y_train,batch_size=200,epochs=15,validation_split=0.2,verbose=2)\n",
        "\n"
      ],
      "execution_count": 75,
      "outputs": [
        {
          "output_type": "stream",
          "text": [
            "Epoch 1/15\n",
            "240/240 - 3s - loss: 1.1790 - accuracy: 0.6601 - val_loss: 0.8322 - val_accuracy: 0.7434\n",
            "Epoch 2/15\n",
            "240/240 - 3s - loss: 0.7593 - accuracy: 0.7638 - val_loss: 0.6927 - val_accuracy: 0.7791\n",
            "Epoch 3/15\n",
            "240/240 - 3s - loss: 0.6635 - accuracy: 0.7911 - val_loss: 0.6280 - val_accuracy: 0.7983\n",
            "Epoch 4/15\n",
            "240/240 - 3s - loss: 0.6115 - accuracy: 0.8072 - val_loss: 0.5905 - val_accuracy: 0.8081\n",
            "Epoch 5/15\n",
            "240/240 - 3s - loss: 0.5772 - accuracy: 0.8145 - val_loss: 0.5627 - val_accuracy: 0.8147\n",
            "Epoch 6/15\n",
            "240/240 - 3s - loss: 0.5528 - accuracy: 0.8226 - val_loss: 0.5427 - val_accuracy: 0.8202\n",
            "Epoch 7/15\n",
            "240/240 - 3s - loss: 0.5339 - accuracy: 0.8268 - val_loss: 0.5271 - val_accuracy: 0.8239\n",
            "Epoch 8/15\n",
            "240/240 - 3s - loss: 0.5182 - accuracy: 0.8307 - val_loss: 0.5152 - val_accuracy: 0.8286\n",
            "Epoch 9/15\n",
            "240/240 - 3s - loss: 0.5060 - accuracy: 0.8331 - val_loss: 0.5031 - val_accuracy: 0.8301\n",
            "Epoch 10/15\n",
            "240/240 - 3s - loss: 0.4956 - accuracy: 0.8353 - val_loss: 0.4951 - val_accuracy: 0.8318\n",
            "Epoch 11/15\n",
            "240/240 - 3s - loss: 0.4864 - accuracy: 0.8385 - val_loss: 0.4876 - val_accuracy: 0.8342\n",
            "Epoch 12/15\n",
            "240/240 - 3s - loss: 0.4783 - accuracy: 0.8403 - val_loss: 0.4796 - val_accuracy: 0.8366\n",
            "Epoch 13/15\n",
            "240/240 - 3s - loss: 0.4712 - accuracy: 0.8406 - val_loss: 0.4784 - val_accuracy: 0.8367\n",
            "Epoch 14/15\n",
            "240/240 - 3s - loss: 0.4649 - accuracy: 0.8438 - val_loss: 0.4706 - val_accuracy: 0.8407\n",
            "Epoch 15/15\n",
            "240/240 - 3s - loss: 0.4594 - accuracy: 0.8449 - val_loss: 0.4653 - val_accuracy: 0.8399\n"
          ],
          "name": "stdout"
        }
      ]
    },
    {
      "cell_type": "markdown",
      "metadata": {
        "id": "AHXNHJpHiMur",
        "colab_type": "text"
      },
      "source": [
        "VIZUALIZATION OF NEURAL NETWORK HISTORY."
      ]
    },
    {
      "cell_type": "code",
      "metadata": {
        "id": "sfUq0W11iMEj",
        "colab_type": "code",
        "colab": {
          "base_uri": "https://localhost:8080/",
          "height": 279
        },
        "outputId": "d8daccd6-f13b-48f5-e2be-0fd710cde254"
      },
      "source": [
        "plt.plot(history.history['accuracy'],      label = 'accuracy on the training set')\n",
        "plt.plot(history.history['val_accuracy'],  label = 'accuracy on the checking set')\n",
        "plt.xlabel('educational epoch')\n",
        "plt.ylabel('Accuracy')\n",
        "plt.legend()\n",
        "plt.show()"
      ],
      "execution_count": 76,
      "outputs": [
        {
          "output_type": "display_data",
          "data": {
            "image/png": "[encoded data removed]",
            "text/plain": [
              "<Figure size 432x288 with 1 Axes>"
            ]
          },
          "metadata": {
            "tags": [],
            "needs_background": "light"
          }
        }
      ]
    },
    {
      "cell_type": "code",
      "metadata": {
        "id": "IGjt_DJL-GXK",
        "colab_type": "code",
        "colab": {
          "base_uri": "https://localhost:8080/",
          "height": 279
        },
        "outputId": "9120d5a3-e451-40ab-9048-7690a0130915"
      },
      "source": [
        "plt.plot(history.history['loss'],      label = 'mistake on the training set')\n",
        "plt.plot(history.history['val_loss'],  label = 'mistake on the checking set')\n",
        "plt.xlabel('educational epoch')\n",
        "plt.ylabel('Mistake')\n",
        "plt.legend()\n",
        "plt.show()\n"
      ],
      "execution_count": 77,
      "outputs": [
        {
          "output_type": "display_data",
          "data": {
            "image/png": "[encoded data removed]",
            "text/plain": [
              "<Figure size 432x288 with 1 Axes>"
            ]
          },
          "metadata": {
            "tags": [],
            "needs_background": "light"
          }
        }
      ]
    },
    {
      "cell_type": "markdown",
      "metadata": {
        "id": "FmhfAjb-o6Gg",
        "colab_type": "text"
      },
      "source": [
        "LAUNCH"
      ]
    },
    {
      "cell_type": "code",
      "metadata": {
        "id": "ab1tNHXooq5O",
        "colab_type": "code",
        "colab": {
          "base_uri": "https://localhost:8080/",
          "height": 85
        },
        "outputId": "c85c5f89-1ca7-4054-b381-40e06739b749"
      },
      "source": [
        "# Launch network on input data\n",
        "predictions = model.predict(x_train)\n",
        "\n",
        "# Print one of the results of recognition\n",
        "print(predictions[0])\n",
        "\n",
        "# Print  class number,which was predicted by neural-Network \n",
        "print(np.argmax(predictions[0]))\n",
        "index = np.argmax(y_train[0])\n",
        "print('The Answer is ' + classes[index])"
      ],
      "execution_count": 78,
      "outputs": [
        {
          "output_type": "stream",
          "text": [
            "[1.8200039e-07 8.2835726e-08 8.5518576e-07 1.3543733e-07 2.1746282e-06\n",
            " 3.5240573e-03 3.2469579e-06 3.7381204e-03 6.4046273e-04 9.9209070e-01]\n",
            "9\n",
            "The Answer is boots\n"
          ],
          "name": "stdout"
        }
      ]
    }
  ]
}