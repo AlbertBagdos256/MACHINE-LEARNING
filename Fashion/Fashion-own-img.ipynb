{
  "nbformat": 4,
  "nbformat_minor": 0,
  "metadata": {
    "colab": {
      "name": "Untitled",
      "provenance": []
    },
    "kernelspec": {
      "name": "python3",
      "display_name": "Python 3"
    }
  },
  "cells": [
    {
      "cell_type": "code",
      "metadata": {
        "id": "LHmSiw1hx87p",
        "colab_type": "code",
        "colab": {}
      },
      "source": [
        "from tensorflow.keras.datasets      import fashion_mnist\n",
        "from tensorflow.keras.models        import Sequential,load_model\n",
        "from tensorflow.keras.preprocessing import image\n",
        "from tensorflow.keras.layers        import Dense\n",
        "from tensorflow.keras.callbacks     import EarlyStopping\n",
        "from tensorflow.keras.callbacks     import ModelCheckpoint\n",
        "from tensorflow.keras               import utils\n",
        "from google.colab                   import files\n",
        "from IPython.display                import Image\n",
        "from random                         import randint\n",
        "from PIL                            import Image\n",
        "import matplotlib.pyplot as plt\n",
        "import matplotlib.pyplot as plt\n",
        "import matplotlib.cbook  as cbook\n",
        "import numpy as np\n"
      ],
      "execution_count": 0,
      "outputs": []
    },
    {
      "cell_type": "code",
      "metadata": {
        "id": "_THX3rcxIDIS",
        "colab_type": "code",
        "colab": {}
      },
      "source": [
        "# Download data\n",
        "(x_train, y_train), (x_test, y_test)  = fashion_mnist.load_data()\n",
        "\n",
        "x_train = x_train.reshape(60000,784)\n",
        "x_train = x_train / 255\n",
        "\n",
        "x_test  = x_test.reshape(10000,784)\n",
        "x_test  = x_test  / 255"
      ],
      "execution_count": 0,
      "outputs": []
    },
    {
      "cell_type": "code",
      "metadata": {
        "id": "PtfHMJhvIHmo",
        "colab_type": "code",
        "colab": {}
      },
      "source": [
        "y_train = utils.to_categorical(y_train,10)\n",
        "y_test  = utils.to_categorical(y_test,10)\n",
        "\n",
        "classes = ['T-shirt','shorts','sweater','dress','coat',\n",
        "           'shoes','shirt','sneakers','bag','boots']"
      ],
      "execution_count": 0,
      "outputs": []
    },
    {
      "cell_type": "markdown",
      "metadata": {
        "id": "VLF6rAojuzVB",
        "colab_type": "text"
      },
      "source": [
        "Upload pre-trained model\n",
        "\n",
        "---\n",
        "\n"
      ]
    },
    {
      "cell_type": "code",
      "metadata": {
        "id": "oL9NsZkyHoC9",
        "colab_type": "code",
        "outputId": "dddba771-92c2-4d10-aec3-84b51d066630",
        "colab": {
          "base_uri": "https://localhost:8080/",
          "height": 309
        }
      },
      "source": [
        "best_model=load_model('/content/Best_model.h5')\n",
        "best_model.summary()\n",
        "best_model.evaluate(x_test,y_test)"
      ],
      "execution_count": 83,
      "outputs": [
        {
          "output_type": "stream",
          "text": [
            "WARNING:tensorflow:Error in loading the saved optimizer state. As a result, your model is starting with a freshly initialized optimizer.\n",
            "Model: \"sequential\"\n",
            "_________________________________________________________________\n",
            "Layer (type)                 Output Shape              Param #   \n",
            "=================================================================\n",
            "dense (Dense)                (None, 640)               502400    \n",
            "_________________________________________________________________\n",
            "dense_1 (Dense)              (None, 256)               164096    \n",
            "_________________________________________________________________\n",
            "dense_2 (Dense)              (None, 10)                2570      \n",
            "=================================================================\n",
            "Total params: 669,066\n",
            "Trainable params: 669,066\n",
            "Non-trainable params: 0\n",
            "_________________________________________________________________\n",
            "313/313 [==============================] - 1s 2ms/step - loss: 0.3934 - accuracy: 0.8779\n"
          ],
          "name": "stdout"
        }
      ]
    },
    {
      "cell_type": "markdown",
      "metadata": {
        "id": "Z9QXPUxHu9HY",
        "colab_type": "text"
      },
      "source": [
        "upload image to colab for recognition"
      ]
    },
    {
      "cell_type": "code",
      "metadata": {
        "id": "TNMsHc0BMUBp",
        "colab_type": "code",
        "colab": {}
      },
      "source": [
        "img_path = '/content/1 (3).jpg'\n",
        "img = image.load_img(img_path, target_size=(28, 28), color_mode = \"grayscale\")"
      ],
      "execution_count": 0,
      "outputs": []
    },
    {
      "cell_type": "markdown",
      "metadata": {
        "id": "Dlj6dDRKvGyt",
        "colab_type": "text"
      },
      "source": [
        "\n",
        "Image preprocessing\n",
        "\n",
        "---\n",
        "\n"
      ]
    },
    {
      "cell_type": "code",
      "metadata": {
        "id": "57TsBYLeeksR",
        "colab_type": "code",
        "colab": {}
      },
      "source": [
        "# Convert the image to an array\n",
        "x = image.img_to_array(img)\n",
        "# We change the shape of the array in a flat vector\n",
        "x = x.reshape(1, 784)\n",
        "# Invert image\n",
        "x = 255 - x\n",
        "# normalize the image\n",
        "x /= 255"
      ],
      "execution_count": 0,
      "outputs": []
    },
    {
      "cell_type": "code",
      "metadata": {
        "id": "MGXytM45IPZN",
        "colab_type": "code",
        "outputId": "cfbdcb4e-8549-44e0-d851-82b9f07f0ee6",
        "colab": {
          "base_uri": "https://localhost:8080/",
          "height": 282
        }
      },
      "source": [
        "# Launch network on input data\n",
        "predictions = best_model.predict(x)\n",
        "predictions = np.argmax(predictions)\n",
        "\n",
        "plt.imshow(x.reshape(28,28), cmap=plt.cm.binary)\n",
        "plt.show()\n",
        "print('The Answer is ' + classes[predictions])\n"
      ],
      "execution_count": 0,
      "outputs": [
        {
          "output_type": "display_data",
          "data": {
            "image/png": "[encoded data removed]",
            "text/plain": [
              "<Figure size 432x288 with 1 Axes>"
            ]
          },
          "metadata": {
            "tags": [],
            "needs_background": "light"
          }
        },
        {
          "output_type": "stream",
          "text": [
            "The Answer is T-shirt\n"
          ],
          "name": "stdout"
        }
      ]
    }
  ]
}