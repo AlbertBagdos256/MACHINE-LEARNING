{
  "nbformat": 4,
  "nbformat_minor": 0,
  "metadata": {
    "colab": {
      "name": "Untitled0.ipynb",
      "provenance": [],
      "collapsed_sections": []
    },
    "kernelspec": {
      "name": "python3",
      "display_name": "Python 3"
    }
  },
  "cells": [
    {
      "cell_type": "markdown",
      "metadata": {
        "id": "6w1s-jq9DLye",
        "colab_type": "text"
      },
      "source": [
        "Downloading dataset"
      ]
    },
    {
      "cell_type": "code",
      "metadata": {
        "id": "qxel6yp3Bg9G",
        "colab_type": "code",
        "colab": {}
      },
      "source": [
        "!wget  https://github.com/zalandoresearch/fashion-mnist\n",
        "!git clone https://github.com/keras-team/keras-tuner.git"
      ],
      "execution_count": 0,
      "outputs": []
    },
    {
      "cell_type": "code",
      "metadata": {
        "id": "Iw-oqCQIcfzc",
        "colab_type": "code",
        "colab": {}
      },
      "source": [
        "%cd keras-tuner\n",
        "!pip install ."
      ],
      "execution_count": 0,
      "outputs": []
    },
    {
      "cell_type": "markdown",
      "metadata": {
        "id": "MismgzQBEmD6",
        "colab_type": "text"
      },
      "source": [
        "Import libraries"
      ]
    },
    {
      "cell_type": "code",
      "metadata": {
        "id": "gstv9pTVCFyA",
        "colab_type": "code",
        "colab": {}
      },
      "source": [
        "from tensorflow.keras.datasets  import fashion_mnist\n",
        "from tensorflow.keras.models    import Sequential\n",
        "from tensorflow.keras.layers    import Dense\n",
        "from tensorflow.keras.callbacks import EarlyStopping\n",
        "from kerastuner.tuners          import RandomSearch, Hyperband, BayesianOptimization\n",
        "from tensorflow.keras           import utils\n",
        "from random                     import randint\n",
        "import matplotlib.pyplot as plt\n",
        "import numpy as np\n",
        "model = 0\n",
        "# Download data\n",
        "(x_train, y_train), (x_test, y_test)  = fashion_mnist.load_data()\n",
        "\n",
        "x_train = x_train.reshape(60000,784)\n",
        "x_train = x_train / 255\n",
        "\n",
        "x_test  = x_test.reshape(10000,784)\n",
        "x_test  = x_test  / 255"
      ],
      "execution_count": 0,
      "outputs": []
    },
    {
      "cell_type": "code",
      "metadata": {
        "id": "CxsXh1m5FpM5",
        "colab_type": "code",
        "colab": {}
      },
      "source": [
        "y_train = utils.to_categorical(y_train,10)\n",
        "y_test  = utils.to_categorical(y_test,10)\n",
        "\n",
        "classes = ['T-shirt','shorts','sweater','dress','coat',\n",
        "           'shoes','shirt','sneakers','bag','boots']\n"
      ],
      "execution_count": 0,
      "outputs": []
    },
    {
      "cell_type": "markdown",
      "metadata": {
        "id": "yZzwktP1gEwp",
        "colab_type": "text"
      },
      "source": [
        "COMPILING..."
      ]
    },
    {
      "cell_type": "code",
      "metadata": {
        "id": "LQ8t42aR6c2w",
        "colab_type": "code",
        "colab": {}
      },
      "source": [
        "\n",
        "# Creating model\n",
        "model = Sequential()\n",
        "\n",
        "# Add network's levels\n",
        "model.add(Dense(800, input_dim=784,activation='relu'))\n",
        "model.add(Dense(10,activation=\"softmax\"))\n",
        "\n",
        "# Compiling model\n",
        "model.compile(loss=\"categorical_crossentropy\",\n",
        "              optimizer=\"SGD\",metrics=[\"accuracy\"])\n",
        "\n",
        "print(model.summary())\n"
      ],
      "execution_count": 0,
      "outputs": []
    },
    {
      "cell_type": "markdown",
      "metadata": {
        "id": "hC4D06IdYZsd",
        "colab_type": "text"
      },
      "source": [
        "Launch EarlyStopping Callback."
      ]
    },
    {
      "cell_type": "code",
      "metadata": {
        "id": "4DYtq6Ffic9e",
        "colab_type": "code",
        "colab": {}
      },
      "source": [
        "early_stopping_callback = EarlyStopping(monitor='val_accuracy', patience=2)"
      ],
      "execution_count": 0,
      "outputs": []
    },
    {
      "cell_type": "markdown",
      "metadata": {
        "id": "yzcFYkOgrJ9f",
        "colab_type": "text"
      },
      "source": [
        "EDUCATIONAL PROCESS"
      ]
    },
    {
      "cell_type": "code",
      "metadata": {
        "id": "VcJy_ipWbRk5",
        "colab_type": "code",
        "colab": {}
      },
      "source": [
        "# Teaching processs\n",
        "history = model.fit(x_train,y_train,batch_size=200,epochs=27,validation_split=0.2,verbose=2,callbacks=[early_stopping_callback])"
      ],
      "execution_count": 0,
      "outputs": []
    },
    {
      "cell_type": "markdown",
      "metadata": {
        "id": "vAZxtpnGIpm2",
        "colab_type": "text"
      },
      "source": [
        "SAVING MODEL"
      ]
    },
    {
      "cell_type": "code",
      "metadata": {
        "id": "2uP_vig2It33",
        "colab_type": "code",
        "colab": {}
      },
      "source": [
        "model.save('fashion_mnist_dense.h5')"
      ],
      "execution_count": 0,
      "outputs": []
    },
    {
      "cell_type": "code",
      "metadata": {
        "id": "zIwkuqm3hWHE",
        "colab_type": "code",
        "colab": {}
      },
      "source": [
        "print('The educational process has been stopped on epoch... ', early_stopping_callback.stopped_epoch)"
      ],
      "execution_count": 0,
      "outputs": []
    },
    {
      "cell_type": "markdown",
      "metadata": {
        "id": "q8H_vZAJUDh1",
        "colab_type": "text"
      },
      "source": [
        "Estimate educational quality"
      ]
    },
    {
      "cell_type": "code",
      "metadata": {
        "id": "M0FuiFmxT_lf",
        "colab_type": "code",
        "colab": {}
      },
      "source": [
        "\n",
        "# Estimate educational quality of network on test data\n",
        "scores  = model.evaluate(x_test, y_test, verbose=2) \n",
        "print(\"percentage of correct answers on test data, in percentage: \", round(scores[1] * 100, 4))\n"
      ],
      "execution_count": 0,
      "outputs": []
    },
    {
      "cell_type": "markdown",
      "metadata": {
        "id": "AHXNHJpHiMur",
        "colab_type": "text"
      },
      "source": [
        "VIZUALIZATION OF NEURAL NETWORK HISTORY."
      ]
    },
    {
      "cell_type": "code",
      "metadata": {
        "id": "sfUq0W11iMEj",
        "colab_type": "code",
        "outputId": "ccdd6c2f-89a7-42cb-ef3d-8400dd73d134",
        "colab": {
          "base_uri": "https://localhost:8080/",
          "height": 279
        }
      },
      "source": [
        "plt.plot(history.history['accuracy'],      label = 'accuracy on the training set')\n",
        "plt.plot(history.history['val_accuracy'],  label = 'accuracy on the checking set')\n",
        "plt.xlabel('educational epoch')\n",
        "plt.ylabel('Accuracy')\n",
        "plt.legend()\n",
        "plt.show()"
      ],
      "execution_count": 116,
      "outputs": [
        {
          "output_type": "display_data",
          "data": {
            "image/png": "[encoded data removed]",
            "text/plain": [
              "<Figure size 432x288 with 1 Axes>"
            ]
          },
          "metadata": {
            "tags": [],
            "needs_background": "light"
          }
        }
      ]
    },
    {
      "cell_type": "code",
      "metadata": {
        "id": "IGjt_DJL-GXK",
        "colab_type": "code",
        "outputId": "c5dcf5dd-f716-45dc-fcd7-1c3b6b98fb1b",
        "colab": {
          "base_uri": "https://localhost:8080/",
          "height": 279
        }
      },
      "source": [
        "plt.plot(history.history['loss'],      label = 'mistake on the training set')\n",
        "plt.plot(history.history['val_loss'],  label = 'mistake on the checking set')\n",
        "plt.xlabel('educational epoch')\n",
        "plt.ylabel('Mistake')\n",
        "plt.legend()\n",
        "plt.show()\n"
      ],
      "execution_count": 117,
      "outputs": [
        {
          "output_type": "display_data",
          "data": {
            "image/png": "[encoded data removed]",
            "text/plain": [
              "<Figure size 432x288 with 1 Axes>"
            ]
          },
          "metadata": {
            "tags": [],
            "needs_background": "light"
          }
        }
      ]
    },
    {
      "cell_type": "markdown",
      "metadata": {
        "id": "FmhfAjb-o6Gg",
        "colab_type": "text"
      },
      "source": [
        "LAUNCH"
      ]
    },
    {
      "cell_type": "code",
      "metadata": {
        "id": "ab1tNHXooq5O",
        "colab_type": "code",
        "outputId": "fc006ede-5f35-4841-ed2d-9b8f994a2790",
        "colab": {
          "base_uri": "https://localhost:8080/",
          "height": 333
        }
      },
      "source": [
        "# Launch network on input data\n",
        "predictions = model.predict(x_test)\n",
        "random_item = randint(0,10000)\n",
        "# Print one of the results of recognition\n",
        "print(predictions[random_item])\n",
        "\n",
        "# Print  class number,which was predicted by neural-Network \n",
        "print(np.argmax(predictions[random_item]))\n",
        "index = np.argmax(y_test[random_item])\n",
        "plt.imshow(x_test[random_item].reshape(28, 28), cmap=plt.cm.binary)\n",
        "plt.show()\n",
        "print('The Answer is ' + classes[index])\n"
      ],
      "execution_count": 118,
      "outputs": [
        {
          "output_type": "stream",
          "text": [
            "[1.4576666e-05 9.9986446e-01 4.7979256e-06 8.9918096e-05 2.5160245e-05\n",
            " 2.3695796e-08 2.6739735e-07 1.5084166e-07 4.9056496e-07 4.8891039e-08]\n",
            "1\n"
          ],
          "name": "stdout"
        },
        {
          "output_type": "display_data",
          "data": {
            "image/png": "[encoded data removed]",
            "text/plain": [
              "<Figure size 432x288 with 1 Axes>"
            ]
          },
          "metadata": {
            "tags": [],
            "needs_background": "light"
          }
        },
        {
          "output_type": "stream",
          "text": [
            "The Answer is shorts\n"
          ],
          "name": "stdout"
        }
      ]
    }
  ]
}