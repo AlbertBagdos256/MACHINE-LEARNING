{
  "nbformat": 4,
  "nbformat_minor": 0,
  "metadata": {
    "colab": {
      "name": "Untitled0.ipynb",
      "provenance": [],
      "collapsed_sections": []
    },
    "kernelspec": {
      "name": "python3",
      "display_name": "Python 3"
    }
  },
  "cells": [
    {
      "cell_type": "markdown",
      "metadata": {
        "id": "6w1s-jq9DLye",
        "colab_type": "text"
      },
      "source": [
        "Downloading dataset"
      ]
    },
    {
      "cell_type": "code",
      "metadata": {
        "id": "qxel6yp3Bg9G",
        "colab_type": "code",
        "colab": {}
      },
      "source": [
        "!wget  https://github.com/zalandoresearch/fashion-mnist"
      ],
      "execution_count": 0,
      "outputs": []
    },
    {
      "cell_type": "markdown",
      "metadata": {
        "id": "MismgzQBEmD6",
        "colab_type": "text"
      },
      "source": [
        "Import libraries"
      ]
    },
    {
      "cell_type": "code",
      "metadata": {
        "id": "gstv9pTVCFyA",
        "colab_type": "code",
        "colab": {}
      },
      "source": [
        "from tensorflow.keras.datasets import fashion_mnist\n",
        "from tensorflow.keras.models   import Sequential\n",
        "from tensorflow.keras.layers   import Dense\n",
        "from tensorflow.keras          import utils\n",
        "import numpy as np\n",
        "\n",
        "\n",
        "# Download data\n",
        "(x_train, y_train), (x_test, y_test)  = fashion_mnist.load_data()\n",
        "\n",
        "x_train = x_train.reshape(60000,784)\n",
        "x_train = x_train / 255\n"
      ],
      "execution_count": 0,
      "outputs": []
    },
    {
      "cell_type": "code",
      "metadata": {
        "id": "CxsXh1m5FpM5",
        "colab_type": "code",
        "colab": {}
      },
      "source": [
        "y_train = utils.to_categorical(y_train,10)\n",
        "\n",
        "classes = ['T-shirt','shorts','sweater','dress','coat',\n",
        "           'shoes','shirt','sneakers','bag','boots']\n"
      ],
      "execution_count": 0,
      "outputs": []
    },
    {
      "cell_type": "code",
      "metadata": {
        "id": "LQ8t42aR6c2w",
        "colab_type": "code",
        "colab": {}
      },
      "source": [
        "# Creating model\n",
        "model = Sequential()\n",
        "\n",
        "# Add network's levels\n",
        "model.add(Dense(800, input_dim=784,activation='relu'))\n",
        "model.add(Dense(10,activation=\"softmax\"))\n",
        "\n",
        "# Compiling model\n",
        "model.compile(loss=\"categorical_crossentropy\",\n",
        "              optimizer=\"SGD\",metrics=[\"accuracy\"])\n",
        "\n",
        "print(model.summary())"
      ],
      "execution_count": 0,
      "outputs": []
    },
    {
      "cell_type": "code",
      "metadata": {
        "id": "VcJy_ipWbRk5",
        "colab_type": "code",
        "colab": {}
      },
      "source": [
        "# Teaching processs\n",
        "model.fit(x_train,y_train,batch_size=200,epochs=15,verbose=1)\n",
        "\n"
      ],
      "execution_count": 0,
      "outputs": []
    },
    {
      "cell_type": "markdown",
      "metadata": {
        "id": "FmhfAjb-o6Gg",
        "colab_type": "text"
      },
      "source": [
        "LAUNCH"
      ]
    },
    {
      "cell_type": "code",
      "metadata": {
        "id": "ab1tNHXooq5O",
        "colab_type": "code",
        "colab": {
          "base_uri": "https://localhost:8080/",
          "height": 102
        },
        "outputId": "c35f3723-880a-4f8f-d507-7d3b9437baaf"
      },
      "source": [
        "# Launch network on input data\n",
        "predictions = model.predict(x_train)\n",
        "\n",
        "# Print one of the results of recognition\n",
        "print(predictions[0])\n",
        "\n",
        "# Print  class number,which was predicted by neural-Network \n",
        "print(np.argmax(predictions[0]))\n",
        "index = np.argmax(y_train[0])\n",
        "print('The Answer is ' + classes[index])"
      ],
      "execution_count": 6,
      "outputs": [
        {
          "output_type": "stream",
          "text": [
            "[2.03637171e-07 3.93160988e-08 1.59754521e-07 1.13534476e-07\n",
            " 4.44570333e-07 2.66162469e-03 1.37647737e-06 6.61392277e-03\n",
            " 5.25013951e-04 9.90197062e-01]\n",
            "9\n",
            "The Answer is boots\n"
          ],
          "name": "stdout"
        }
      ]
    }
  ]
}