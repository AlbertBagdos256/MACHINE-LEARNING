{
  "nbformat": 4,
  "nbformat_minor": 0,
  "metadata": {
    "colab": {
      "name": "Text-classification01.ipynb",
      "provenance": []
    },
    "kernelspec": {
      "name": "python3",
      "display_name": "Python 3"
    },
    "accelerator": "GPU"
  },
  "cells": [
    {
      "cell_type": "code",
      "metadata": {
        "id": "KSn-WO9a1jPs",
        "colab_type": "code",
        "colab": {}
      },
      "source": [
        "from tensorflow.keras.datasets                   import imdb\n",
        "from tensorflow.keras.models                     import Sequential\n",
        "from tensorflow.keras.layers                     import Dense, Conv2D, MaxPooling2D, Dropout, Flatten \n",
        "from tensorflow.keras                            import utils\n",
        "from tensorflow.keras.preprocessing.sequence     import pad_sequences\n",
        "from tensorflow.python.keras.preprocessing.image import ImageDataGenerator\n",
        "from tensorflow.keras.callbacks                  import ReduceLROnPlateau, ModelCheckpoint\n",
        "from sklearn.model_selection                     import train_test_split\n",
        "from google.colab                                import files\n",
        "import numpy as np\n",
        "import os\n",
        "import matplotlib.pyplot as plt"
      ],
      "execution_count": 12,
      "outputs": []
    },
    {
      "cell_type": "code",
      "metadata": {
        "id": "Q_M49IOUatie",
        "colab_type": "code",
        "colab": {}
      },
      "source": [
        "max_words = 10000\n",
        "(x_train,y_train),(x_test,y_test) = imdb.load_data(num_words=max_words)"
      ],
      "execution_count": 13,
      "outputs": []
    },
    {
      "cell_type": "markdown",
      "metadata": {
        "id": "6bXiL_i01coD",
        "colab_type": "text"
      },
      "source": [
        "\n",
        "We decode the review text\n",
        "\n",
        "---\n",
        "\n"
      ]
    },
    {
      "cell_type": "code",
      "metadata": {
        "id": "-KXH9RAybAG7",
        "colab_type": "code",
        "colab": {}
      },
      "source": [
        "word_index = imdb.get_word_index()"
      ],
      "execution_count": 14,
      "outputs": []
    },
    {
      "cell_type": "markdown",
      "metadata": {
        "id": "FlFqVn571psP",
        "colab_type": "text"
      },
      "source": [
        "\n",
        "We transform the dictionary to get the word by number"
      ]
    },
    {
      "cell_type": "code",
      "metadata": {
        "id": "AZoQ1nHQbp8x",
        "colab_type": "code",
        "colab": {
          "base_uri": "https://localhost:8080/",
          "height": 353
        },
        "outputId": "b57167c3-7f0d-4ad0-a17c-628ddbc4cac3"
      },
      "source": [
        "reverse_word_index = dict()\n",
        "for key, value in word_index.items():\n",
        "  reverse_word_index[value] = key\n",
        "# Example\n",
        "for i in range(1,21):\n",
        "  print(i,'- >',reverse_word_index[i])"
      ],
      "execution_count": 15,
      "outputs": [
        {
          "output_type": "stream",
          "text": [
            "1 - > the\n",
            "2 - > and\n",
            "3 - > a\n",
            "4 - > of\n",
            "5 - > to\n",
            "6 - > is\n",
            "7 - > br\n",
            "8 - > in\n",
            "9 - > it\n",
            "10 - > i\n",
            "11 - > this\n",
            "12 - > that\n",
            "13 - > was\n",
            "14 - > as\n",
            "15 - > for\n",
            "16 - > with\n",
            "17 - > movie\n",
            "18 - > but\n",
            "19 - > film\n",
            "20 - > on\n"
          ],
          "name": "stdout"
        }
      ]
    },
    {
      "cell_type": "code",
      "metadata": {
        "id": "BUkH1sb5cGXV",
        "colab_type": "code",
        "colab": {
          "base_uri": "https://localhost:8080/",
          "height": 34
        },
        "outputId": "fa6e45d8-5313-4fbd-f1b6-db10e948cb86"
      },
      "source": [
        "index   = 3\n",
        "message = ''\n",
        "for code in x_train[index]:\n",
        "  word = reverse_word_index.get(code - 3,'?')\n",
        "  message += word + ''\n",
        "message\n",
        "\n",
        "y_train[index]"
      ],
      "execution_count": 16,
      "outputs": [
        {
          "output_type": "execute_result",
          "data": {
            "text/plain": [
              "1"
            ]
          },
          "metadata": {
            "tags": []
          },
          "execution_count": 16
        }
      ]
    },
    {
      "cell_type": "code",
      "metadata": {
        "id": "pZhiTcBWpvPP",
        "colab_type": "code",
        "colab": {
          "base_uri": "https://localhost:8080/",
          "height": 336
        },
        "outputId": "2df507ad-b94c-456d-c059-a5ada6054d2d"
      },
      "source": [
        "max_len = 200\n",
        "\n",
        "x_train = pad_sequences(x_train,maxlen=max_len,padding='post')\n",
        "x_test  = pad_sequences(x_test,maxlen=max_len,padding='post')\n",
        "x_train[3]"
      ],
      "execution_count": 17,
      "outputs": [
        {
          "output_type": "execute_result",
          "data": {
            "text/plain": [
              "array([   4,  341,    7,   27,  846,   10,   10,   29,    9, 1906,    8,\n",
              "         97,    6,  236,    2, 1311,    8,    4,    2,    7,   31,    7,\n",
              "          2,   91,    2, 3987,   70,    4,  882,   30,  579,   42,    9,\n",
              "         12,   32,   11,  537,   10,   10,   11,   14,   65,   44,  537,\n",
              "         75,    2, 1775, 3353,    2, 1846,    4,    2,    7,  154,    5,\n",
              "          4,  518,   53,    2,    2,    7, 3211,  882,   11,  399,   38,\n",
              "         75,  257, 3807,   19,    2,   17,   29,  456,    4,   65,    7,\n",
              "         27,  205,  113,   10,   10,    2,    4,    2,    2,    9,  242,\n",
              "          4,   91, 1202,    2,    5, 2070,  307,   22,    7, 5168,  126,\n",
              "         93,   40,    2,   13,  188, 1076, 3222,   19,    4,    2,    7,\n",
              "       2348,  537,   23,   53,  537,   21,   82,   40,    2,   13,    2,\n",
              "         14,  280,   13,  219,    4,    2,  431,  758,  859,    4,  953,\n",
              "       1052,    2,    7, 5991,    5,   94,   40,   25,  238,   60,    2,\n",
              "          4,    2,  804,    2,    7,    4, 9941,  132,    8,   67,    6,\n",
              "         22,   15,    9,  283,    8, 5168,   14,   31,    9,  242,  955,\n",
              "         48,   25,  279,    2,   23,   12, 1685,  195,   25,  238,   60,\n",
              "        796,    2,    4,  671,    7, 2804,    5,    4,  559,  154,  888,\n",
              "          7,  726,   50,   26,   49, 7008,   15,  566,   30,  579,   21,\n",
              "         64, 2574], dtype=int32)"
            ]
          },
          "metadata": {
            "tags": []
          },
          "execution_count": 17
        }
      ]
    },
    {
      "cell_type": "markdown",
      "metadata": {
        "id": "oURfNnXE1zcb",
        "colab_type": "text"
      },
      "source": [
        "Create model"
      ]
    },
    {
      "cell_type": "code",
      "metadata": {
        "id": "BD_eDWqku0Ac",
        "colab_type": "code",
        "colab": {}
      },
      "source": [
        "model = Sequential()\n",
        "model.add(Dense(128, activation='relu', input_shape=(max_len,)))\n",
        "model.add(Dense(64, activation='relu'))\n",
        "model.add(Dense(1, activation='sigmoid'))"
      ],
      "execution_count": 22,
      "outputs": []
    },
    {
      "cell_type": "code",
      "metadata": {
        "id": "eTTqogtIx0QF",
        "colab_type": "code",
        "colab": {}
      },
      "source": [
        "model.compile(optimizer='adam',\n",
        "              loss='binary_crossentropy',\n",
        "              metrics=['accuracy'])"
      ],
      "execution_count": 23,
      "outputs": []
    },
    {
      "cell_type": "code",
      "metadata": {
        "id": "UagPshEYzUZZ",
        "colab_type": "code",
        "colab": {
          "base_uri": "https://localhost:8080/",
          "height": 1000
        },
        "outputId": "2179534a-7d9a-4db4-b00a-708051486618"
      },
      "source": [
        "history = model.fit(x_train,\n",
        "                  y_train,\n",
        "                  epochs=30,\n",
        "                  batch_size=128,\n",
        "                  validation_split=0.2,\n",
        "                  )"
      ],
      "execution_count": 25,
      "outputs": [
        {
          "output_type": "stream",
          "text": [
            "Epoch 1/30\n",
            "157/157 [==============================] - 1s 4ms/step - loss: 88.1980 - accuracy: 0.4976 - val_loss: 32.6032 - val_accuracy: 0.5088\n",
            "Epoch 2/30\n",
            "157/157 [==============================] - 0s 3ms/step - loss: 16.0038 - accuracy: 0.5300 - val_loss: 8.1120 - val_accuracy: 0.5146\n",
            "Epoch 3/30\n",
            "157/157 [==============================] - 0s 3ms/step - loss: 4.8106 - accuracy: 0.5339 - val_loss: 4.9872 - val_accuracy: 0.4962\n",
            "Epoch 4/30\n",
            "157/157 [==============================] - 0s 3ms/step - loss: 3.5232 - accuracy: 0.5208 - val_loss: 3.4009 - val_accuracy: 0.4942\n",
            "Epoch 5/30\n",
            "157/157 [==============================] - 0s 3ms/step - loss: 1.9532 - accuracy: 0.5267 - val_loss: 1.5156 - val_accuracy: 0.5008\n",
            "Epoch 6/30\n",
            "157/157 [==============================] - 0s 3ms/step - loss: 2.3811 - accuracy: 0.5219 - val_loss: 1.8009 - val_accuracy: 0.5044\n",
            "Epoch 7/30\n",
            "157/157 [==============================] - 0s 3ms/step - loss: 1.5796 - accuracy: 0.5360 - val_loss: 1.8643 - val_accuracy: 0.5086\n",
            "Epoch 8/30\n",
            "157/157 [==============================] - 0s 3ms/step - loss: 1.4669 - accuracy: 0.5326 - val_loss: 1.7575 - val_accuracy: 0.5046\n",
            "Epoch 9/30\n",
            "157/157 [==============================] - 0s 3ms/step - loss: 1.5829 - accuracy: 0.5344 - val_loss: 1.6215 - val_accuracy: 0.5054\n",
            "Epoch 10/30\n",
            "157/157 [==============================] - 0s 3ms/step - loss: 1.2125 - accuracy: 0.5421 - val_loss: 1.7510 - val_accuracy: 0.5010\n",
            "Epoch 11/30\n",
            "157/157 [==============================] - 1s 3ms/step - loss: 1.1755 - accuracy: 0.5427 - val_loss: 1.3871 - val_accuracy: 0.5240\n",
            "Epoch 12/30\n",
            "157/157 [==============================] - 0s 3ms/step - loss: 1.5082 - accuracy: 0.5444 - val_loss: 1.6707 - val_accuracy: 0.5056\n",
            "Epoch 13/30\n",
            "157/157 [==============================] - 0s 3ms/step - loss: 1.0025 - accuracy: 0.5497 - val_loss: 1.4357 - val_accuracy: 0.5100\n",
            "Epoch 14/30\n",
            "157/157 [==============================] - 0s 3ms/step - loss: 1.0720 - accuracy: 0.5462 - val_loss: 2.3767 - val_accuracy: 0.4926\n",
            "Epoch 15/30\n",
            "157/157 [==============================] - 0s 3ms/step - loss: 1.0100 - accuracy: 0.5504 - val_loss: 1.5216 - val_accuracy: 0.5054\n",
            "Epoch 16/30\n",
            "157/157 [==============================] - 0s 3ms/step - loss: 1.0753 - accuracy: 0.5533 - val_loss: 1.9641 - val_accuracy: 0.4982\n",
            "Epoch 17/30\n",
            "157/157 [==============================] - 1s 3ms/step - loss: 0.9665 - accuracy: 0.5587 - val_loss: 2.3176 - val_accuracy: 0.4942\n",
            "Epoch 18/30\n",
            "157/157 [==============================] - 0s 3ms/step - loss: 1.0654 - accuracy: 0.5608 - val_loss: 3.1618 - val_accuracy: 0.4918\n",
            "Epoch 19/30\n",
            "157/157 [==============================] - 0s 3ms/step - loss: 0.9881 - accuracy: 0.5626 - val_loss: 1.4356 - val_accuracy: 0.4988\n",
            "Epoch 20/30\n",
            "157/157 [==============================] - 0s 3ms/step - loss: 0.9020 - accuracy: 0.5670 - val_loss: 1.4181 - val_accuracy: 0.5162\n",
            "Epoch 21/30\n",
            "157/157 [==============================] - 0s 3ms/step - loss: 0.8970 - accuracy: 0.5691 - val_loss: 1.4527 - val_accuracy: 0.5190\n",
            "Epoch 22/30\n",
            "157/157 [==============================] - 0s 3ms/step - loss: 0.8830 - accuracy: 0.5743 - val_loss: 1.3902 - val_accuracy: 0.5006\n",
            "Epoch 23/30\n",
            "157/157 [==============================] - 0s 3ms/step - loss: 0.9877 - accuracy: 0.5659 - val_loss: 1.8564 - val_accuracy: 0.4902\n",
            "Epoch 24/30\n",
            "157/157 [==============================] - 0s 3ms/step - loss: 0.8818 - accuracy: 0.5803 - val_loss: 1.5534 - val_accuracy: 0.4984\n",
            "Epoch 25/30\n",
            "157/157 [==============================] - 0s 3ms/step - loss: 0.7567 - accuracy: 0.5860 - val_loss: 1.5032 - val_accuracy: 0.4974\n",
            "Epoch 26/30\n",
            "157/157 [==============================] - 0s 3ms/step - loss: 0.7693 - accuracy: 0.5879 - val_loss: 1.2540 - val_accuracy: 0.5014\n",
            "Epoch 27/30\n",
            "157/157 [==============================] - 1s 3ms/step - loss: 0.8021 - accuracy: 0.5975 - val_loss: 1.4149 - val_accuracy: 0.5136\n",
            "Epoch 28/30\n",
            "157/157 [==============================] - 0s 3ms/step - loss: 0.7937 - accuracy: 0.6026 - val_loss: 1.3423 - val_accuracy: 0.5084\n",
            "Epoch 29/30\n",
            "157/157 [==============================] - 0s 3ms/step - loss: 0.7374 - accuracy: 0.6077 - val_loss: 1.3560 - val_accuracy: 0.5184\n",
            "Epoch 30/30\n",
            "157/157 [==============================] - 0s 3ms/step - loss: 0.7635 - accuracy: 0.6119 - val_loss: 1.5550 - val_accuracy: 0.5006\n"
          ],
          "name": "stdout"
        }
      ]
    },
    {
      "cell_type": "markdown",
      "metadata": {
        "id": "1J32HSW7128b",
        "colab_type": "text"
      },
      "source": [
        "Vizualization"
      ]
    },
    {
      "cell_type": "code",
      "metadata": {
        "id": "uKQAT0uhzmrt",
        "colab_type": "code",
        "colab": {
          "base_uri": "https://localhost:8080/",
          "height": 279
        },
        "outputId": "3f58394d-692f-4eae-d1ca-e9d8b918d773"
      },
      "source": [
        "plt.plot(history.history['accuracy'], \n",
        "         label='Share of correct answers on educational set')\n",
        "plt.plot(history.history['val_accuracy'], \n",
        "         label='Share of correct answers on checking set')\n",
        "plt.xlabel('Epochs')\n",
        "plt.ylabel('share of correct answers')\n",
        "plt.legend()\n",
        "plt.show()"
      ],
      "execution_count": 26,
      "outputs": [
        {
          "output_type": "display_data",
          "data": {
            "image/png": "[encoded data removed]",
            "text/plain": [
              "<Figure size 432x288 with 1 Axes>"
            ]
          },
          "metadata": {
            "tags": [],
            "needs_background": "light"
          }
        }
      ]
    },
    {
      "cell_type": "code",
      "metadata": {
        "id": "FeReBC20zrPJ",
        "colab_type": "code",
        "colab": {
          "base_uri": "https://localhost:8080/",
          "height": 50
        },
        "outputId": "1848e13c-e4b1-4b50-ae72-ae6a8d191735"
      },
      "source": [
        "scores = model.evaluate(x_test,y_test,verbose=1)\n",
        "print(round(scores[1] * 100, 4))"
      ],
      "execution_count": 28,
      "outputs": [
        {
          "output_type": "stream",
          "text": [
            "782/782 [==============================] - 1s 2ms/step - loss: 1.5542 - accuracy: 0.5079\n",
            "50.792\n"
          ],
          "name": "stdout"
        }
      ]
    }
  ]
}