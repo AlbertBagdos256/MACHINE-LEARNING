{
  "nbformat": 4,
  "nbformat_minor": 0,
  "metadata": {
    "kernelspec": {
      "name": "python3",
      "display_name": "Python 3",
      "language": "python"
    },
    "language_info": {
      "name": "python",
      "version": "3.7.6",
      "mimetype": "text/x-python",
      "codemirror_mode": {
        "name": "ipython",
        "version": 3
      },
      "pygments_lexer": "ipython3",
      "nbconvert_exporter": "python",
      "file_extension": ".py"
    },
    "colab": {
      "name": "Imdb01.ipynb",
      "provenance": []
    },
    "accelerator": "GPU"
  },
  "cells": [
    {
      "cell_type": "markdown",
      "metadata": {
        "id": "bJzbFuUzE_2P",
        "colab_type": "text"
      },
      "source": [
        "> * ## Creating neural network for text classification using imdb dataset"
      ]
    },
    {
      "cell_type": "markdown",
      "metadata": {
        "id": "YbtGv1ePW6SF",
        "colab_type": "text"
      },
      "source": [
        "<img src=\"https://www.dropbox.com/s/grd17bkapocb92o/imdb_movie_reviews.png?dl=1\" width=\"600\">\n"
      ]
    },
    {
      "cell_type": "code",
      "metadata": {
        "id": "lpsyhVlJX5XH",
        "trusted": true,
        "colab_type": "code",
        "colab": {}
      },
      "source": [
        "from tensorflow.keras.datasets import imdb\n",
        "from tensorflow.keras.models import Sequential\n",
        "from tensorflow.keras.layers import Dense, Embedding, Flatten, Dropout\n",
        "from tensorflow.keras import utils\n",
        "from tensorflow.keras.preprocessing.sequence import pad_sequences\n",
        "from google.colab import files\n",
        "import numpy as np\n",
        "import matplotlib.pyplot as plt\n",
        "%matplotlib inline "
      ],
      "execution_count": 31,
      "outputs": []
    },
    {
      "cell_type": "markdown",
      "metadata": {
        "id": "xGDJkdINNWVh",
        "colab_type": "text"
      },
      "source": [
        "> * ## Load Data"
      ]
    },
    {
      "cell_type": "code",
      "metadata": {
        "id": "kBUUyZ4cbxoM",
        "trusted": true,
        "colab_type": "code",
        "colab": {}
      },
      "source": [
        "max_words = 10000\n",
        "maxlen    = 200"
      ],
      "execution_count": 7,
      "outputs": []
    },
    {
      "cell_type": "code",
      "metadata": {
        "id": "toRj2Xs1NZgB",
        "trusted": true,
        "colab_type": "code",
        "colab": {
          "base_uri": "https://localhost:8080/",
          "height": 50
        },
        "outputId": "374fa604-f45e-48a7-de96-1d3e723fb3b5"
      },
      "source": [
        "(x_train, y_train), (x_test, y_test) = imdb.load_data(num_words=max_words)"
      ],
      "execution_count": 8,
      "outputs": [
        {
          "output_type": "stream",
          "text": [
            "Downloading data from https://storage.googleapis.com/tensorflow/tf-keras-datasets/imdb.npz\n",
            "17465344/17464789 [==============================] - 0s 0us/step\n"
          ],
          "name": "stdout"
        }
      ]
    },
    {
      "cell_type": "markdown",
      "metadata": {
        "id": "kiA7X0oWaS9Z",
        "colab_type": "text"
      },
      "source": [
        "## Preparig data for education"
      ]
    },
    {
      "cell_type": "code",
      "metadata": {
        "id": "Q-LbLha9bBCW",
        "trusted": true,
        "colab_type": "code",
        "colab": {
          "base_uri": "https://localhost:8080/",
          "height": 1000
        },
        "outputId": "af6edb00-1090-490b-d09f-ff525b1c898c"
      },
      "source": [
        "x_train[0]"
      ],
      "execution_count": 9,
      "outputs": [
        {
          "output_type": "execute_result",
          "data": {
            "text/plain": [
              "[1,\n",
              " 14,\n",
              " 22,\n",
              " 16,\n",
              " 43,\n",
              " 530,\n",
              " 973,\n",
              " 1622,\n",
              " 1385,\n",
              " 65,\n",
              " 458,\n",
              " 4468,\n",
              " 66,\n",
              " 3941,\n",
              " 4,\n",
              " 173,\n",
              " 36,\n",
              " 256,\n",
              " 5,\n",
              " 25,\n",
              " 100,\n",
              " 43,\n",
              " 838,\n",
              " 112,\n",
              " 50,\n",
              " 670,\n",
              " 2,\n",
              " 9,\n",
              " 35,\n",
              " 480,\n",
              " 284,\n",
              " 5,\n",
              " 150,\n",
              " 4,\n",
              " 172,\n",
              " 112,\n",
              " 167,\n",
              " 2,\n",
              " 336,\n",
              " 385,\n",
              " 39,\n",
              " 4,\n",
              " 172,\n",
              " 4536,\n",
              " 1111,\n",
              " 17,\n",
              " 546,\n",
              " 38,\n",
              " 13,\n",
              " 447,\n",
              " 4,\n",
              " 192,\n",
              " 50,\n",
              " 16,\n",
              " 6,\n",
              " 147,\n",
              " 2025,\n",
              " 19,\n",
              " 14,\n",
              " 22,\n",
              " 4,\n",
              " 1920,\n",
              " 4613,\n",
              " 469,\n",
              " 4,\n",
              " 22,\n",
              " 71,\n",
              " 87,\n",
              " 12,\n",
              " 16,\n",
              " 43,\n",
              " 530,\n",
              " 38,\n",
              " 76,\n",
              " 15,\n",
              " 13,\n",
              " 1247,\n",
              " 4,\n",
              " 22,\n",
              " 17,\n",
              " 515,\n",
              " 17,\n",
              " 12,\n",
              " 16,\n",
              " 626,\n",
              " 18,\n",
              " 2,\n",
              " 5,\n",
              " 62,\n",
              " 386,\n",
              " 12,\n",
              " 8,\n",
              " 316,\n",
              " 8,\n",
              " 106,\n",
              " 5,\n",
              " 4,\n",
              " 2223,\n",
              " 5244,\n",
              " 16,\n",
              " 480,\n",
              " 66,\n",
              " 3785,\n",
              " 33,\n",
              " 4,\n",
              " 130,\n",
              " 12,\n",
              " 16,\n",
              " 38,\n",
              " 619,\n",
              " 5,\n",
              " 25,\n",
              " 124,\n",
              " 51,\n",
              " 36,\n",
              " 135,\n",
              " 48,\n",
              " 25,\n",
              " 1415,\n",
              " 33,\n",
              " 6,\n",
              " 22,\n",
              " 12,\n",
              " 215,\n",
              " 28,\n",
              " 77,\n",
              " 52,\n",
              " 5,\n",
              " 14,\n",
              " 407,\n",
              " 16,\n",
              " 82,\n",
              " 2,\n",
              " 8,\n",
              " 4,\n",
              " 107,\n",
              " 117,\n",
              " 5952,\n",
              " 15,\n",
              " 256,\n",
              " 4,\n",
              " 2,\n",
              " 7,\n",
              " 3766,\n",
              " 5,\n",
              " 723,\n",
              " 36,\n",
              " 71,\n",
              " 43,\n",
              " 530,\n",
              " 476,\n",
              " 26,\n",
              " 400,\n",
              " 317,\n",
              " 46,\n",
              " 7,\n",
              " 4,\n",
              " 2,\n",
              " 1029,\n",
              " 13,\n",
              " 104,\n",
              " 88,\n",
              " 4,\n",
              " 381,\n",
              " 15,\n",
              " 297,\n",
              " 98,\n",
              " 32,\n",
              " 2071,\n",
              " 56,\n",
              " 26,\n",
              " 141,\n",
              " 6,\n",
              " 194,\n",
              " 7486,\n",
              " 18,\n",
              " 4,\n",
              " 226,\n",
              " 22,\n",
              " 21,\n",
              " 134,\n",
              " 476,\n",
              " 26,\n",
              " 480,\n",
              " 5,\n",
              " 144,\n",
              " 30,\n",
              " 5535,\n",
              " 18,\n",
              " 51,\n",
              " 36,\n",
              " 28,\n",
              " 224,\n",
              " 92,\n",
              " 25,\n",
              " 104,\n",
              " 4,\n",
              " 226,\n",
              " 65,\n",
              " 16,\n",
              " 38,\n",
              " 1334,\n",
              " 88,\n",
              " 12,\n",
              " 16,\n",
              " 283,\n",
              " 5,\n",
              " 16,\n",
              " 4472,\n",
              " 113,\n",
              " 103,\n",
              " 32,\n",
              " 15,\n",
              " 16,\n",
              " 5345,\n",
              " 19,\n",
              " 178,\n",
              " 32]"
            ]
          },
          "metadata": {
            "tags": []
          },
          "execution_count": 9
        }
      ]
    },
    {
      "cell_type": "markdown",
      "metadata": {
        "id": "rcfRTjGrbG-3",
        "colab_type": "text"
      },
      "source": [
        "Create function one hot encoding"
      ]
    },
    {
      "cell_type": "code",
      "metadata": {
        "id": "DZ0ARx2ucFeb",
        "trusted": true,
        "colab_type": "code",
        "colab": {}
      },
      "source": [
        "def vectorize_sequences(sequences, dimension=10000):\n",
        "    results = np.zeros((len(sequences), dimension))\n",
        "    for i, sequence in enumerate(sequences):\n",
        "        results[i, sequence] = 1.\n",
        "    return results"
      ],
      "execution_count": 10,
      "outputs": []
    },
    {
      "cell_type": "code",
      "metadata": {
        "trusted": true,
        "id": "fnea-yytE_2n",
        "colab_type": "code",
        "colab": {}
      },
      "source": [
        "x_train = pad_sequences(x_train, maxlen = maxlen, padding='post')\n",
        "x_test = pad_sequences(x_test, maxlen = maxlen, padding='post')"
      ],
      "execution_count": 11,
      "outputs": []
    },
    {
      "cell_type": "code",
      "metadata": {
        "id": "1yuscon4baYJ",
        "trusted": true,
        "colab_type": "code",
        "colab": {
          "base_uri": "https://localhost:8080/",
          "height": 34
        },
        "outputId": "7bfae5a0-33ea-4c8e-a00a-63591b204d7e"
      },
      "source": [
        "x_train[0][:50]\n",
        "len(x_train[0])\n",
        "y_train[0]"
      ],
      "execution_count": 12,
      "outputs": [
        {
          "output_type": "execute_result",
          "data": {
            "text/plain": [
              "1"
            ]
          },
          "metadata": {
            "tags": []
          },
          "execution_count": 12
        }
      ]
    },
    {
      "cell_type": "code",
      "metadata": {
        "id": "Lrzx1e4xTgzL",
        "trusted": true,
        "colab_type": "code",
        "colab": {}
      },
      "source": [
        "maxlen = 200\n",
        "model  = Sequential()\n",
        "model.add(Embedding(max_words, 2, input_length=maxlen))\n",
        "model.add(Dropout(0.25))\n",
        "model.add(Flatten())\n",
        "model.add(Dense(1, activation='sigmoid'))"
      ],
      "execution_count": 13,
      "outputs": []
    },
    {
      "cell_type": "code",
      "metadata": {
        "id": "u1yNam-uSunE",
        "trusted": true,
        "colab_type": "code",
        "colab": {}
      },
      "source": [
        "model.compile(optimizer='adam', \n",
        "              loss='binary_crossentropy', \n",
        "              metrics=['accuracy'])"
      ],
      "execution_count": 14,
      "outputs": []
    },
    {
      "cell_type": "code",
      "metadata": {
        "id": "AkmNH7ahYLyc",
        "trusted": true,
        "colab_type": "code",
        "colab": {
          "base_uri": "https://localhost:8080/",
          "height": 353
        },
        "outputId": "e7b3198d-9bfe-4ada-a5e4-6e90fb0e4691"
      },
      "source": [
        "history = model.fit(x_train, \n",
        "                    y_train, \n",
        "                    epochs=10,\n",
        "                    batch_size=128,\n",
        "                    validation_split=0.1)"
      ],
      "execution_count": 15,
      "outputs": [
        {
          "output_type": "stream",
          "text": [
            "Epoch 1/10\n",
            "176/176 [==============================] - 1s 6ms/step - loss: 0.6928 - accuracy: 0.5156 - val_loss: 0.6911 - val_accuracy: 0.5384\n",
            "Epoch 2/10\n",
            "176/176 [==============================] - 1s 4ms/step - loss: 0.6574 - accuracy: 0.6780 - val_loss: 0.5890 - val_accuracy: 0.7616\n",
            "Epoch 3/10\n",
            "176/176 [==============================] - 1s 4ms/step - loss: 0.4838 - accuracy: 0.8132 - val_loss: 0.4146 - val_accuracy: 0.8456\n",
            "Epoch 4/10\n",
            "176/176 [==============================] - 1s 5ms/step - loss: 0.3586 - accuracy: 0.8658 - val_loss: 0.3503 - val_accuracy: 0.8612\n",
            "Epoch 5/10\n",
            "176/176 [==============================] - 1s 4ms/step - loss: 0.3003 - accuracy: 0.8859 - val_loss: 0.3188 - val_accuracy: 0.8732\n",
            "Epoch 6/10\n",
            "176/176 [==============================] - 1s 4ms/step - loss: 0.2675 - accuracy: 0.9009 - val_loss: 0.3027 - val_accuracy: 0.8800\n",
            "Epoch 7/10\n",
            "176/176 [==============================] - 1s 4ms/step - loss: 0.2418 - accuracy: 0.9107 - val_loss: 0.2936 - val_accuracy: 0.8824\n",
            "Epoch 8/10\n",
            "176/176 [==============================] - 1s 5ms/step - loss: 0.2257 - accuracy: 0.9180 - val_loss: 0.2911 - val_accuracy: 0.8860\n",
            "Epoch 9/10\n",
            "176/176 [==============================] - 1s 4ms/step - loss: 0.2098 - accuracy: 0.9241 - val_loss: 0.2842 - val_accuracy: 0.8892\n",
            "Epoch 10/10\n",
            "176/176 [==============================] - 1s 4ms/step - loss: 0.1970 - accuracy: 0.9281 - val_loss: 0.2823 - val_accuracy: 0.8892\n"
          ],
          "name": "stdout"
        }
      ]
    },
    {
      "cell_type": "code",
      "metadata": {
        "id": "bYsG9bOZSeOu",
        "trusted": true,
        "colab_type": "code",
        "colab": {
          "base_uri": "https://localhost:8080/",
          "height": 279
        },
        "outputId": "50ef827c-9320-4a66-8fe3-d2e6587c58db"
      },
      "source": [
        "plt.plot(history.history['accuracy'], \n",
        "         label='Доля верных ответов на обучающем наборе')\n",
        "plt.plot(history.history['val_accuracy'], \n",
        "         label='Доля верных ответов на проверочном наборе')\n",
        "plt.xlabel('Эпоха обучения')\n",
        "plt.ylabel('Доля верных ответов')\n",
        "plt.legend()\n",
        "plt.show()"
      ],
      "execution_count": 16,
      "outputs": [
        {
          "output_type": "display_data",
          "data": {
            "image/png": "[encoded data removed]",
            "text/plain": [
              "<Figure size 432x288 with 1 Axes>"
            ]
          },
          "metadata": {
            "tags": [],
            "needs_background": "light"
          }
        }
      ]
    },
    {
      "cell_type": "code",
      "metadata": {
        "id": "J1_ilV14EKBO",
        "trusted": true,
        "colab_type": "code",
        "colab": {
          "base_uri": "https://localhost:8080/",
          "height": 34
        },
        "outputId": "bdba8c69-1f0e-4b7e-9075-0c19d95c63b8"
      },
      "source": [
        "scores = model.evaluate(x_test, y_test, verbose=1)"
      ],
      "execution_count": 17,
      "outputs": [
        {
          "output_type": "stream",
          "text": [
            "782/782 [==============================] - 1s 2ms/step - loss: 0.2906 - accuracy: 0.8776\n"
          ],
          "name": "stdout"
        }
      ]
    },
    {
      "cell_type": "code",
      "metadata": {
        "id": "l2ZOXG6-EYBW",
        "trusted": true,
        "colab_type": "code",
        "colab": {
          "base_uri": "https://localhost:8080/",
          "height": 34
        },
        "outputId": "62fd263e-a612-4444-a6bd-dd4e77cfdc8b"
      },
      "source": [
        "print(\"Percentage of correct answers on test data:\", round(scores[1] * 100, 4))"
      ],
      "execution_count": 18,
      "outputs": [
        {
          "output_type": "stream",
          "text": [
            "Percentage of correct answers on test data: 87.76\n"
          ],
          "name": "stdout"
        }
      ]
    },
    {
      "cell_type": "markdown",
      "metadata": {
        "id": "7qqlypxyE_3M",
        "colab_type": "text"
      },
      "source": [
        "> > * ## Explore the trained dense vector representation of words"
      ]
    },
    {
      "cell_type": "markdown",
      "metadata": {
        "id": "0JKWVrLTE_3N",
        "colab_type": "text"
      },
      "source": [
        "We get a matrix of dense vector representations of words"
      ]
    },
    {
      "cell_type": "code",
      "metadata": {
        "trusted": true,
        "id": "lOTRChA5E_3O",
        "colab_type": "code",
        "colab": {
          "base_uri": "https://localhost:8080/",
          "height": 101
        },
        "outputId": "808cec1f-7360-4636-93f4-e4f7a6c420bf"
      },
      "source": [
        "embedding_matrix = model.layers[0].get_weights()[0]\n",
        "embedding_matrix[:5]"
      ],
      "execution_count": 19,
      "outputs": [
        {
          "output_type": "execute_result",
          "data": {
            "text/plain": [
              "array([[ 0.01166719,  0.01833946],\n",
              "       [ 0.1296259 , -0.12231252],\n",
              "       [ 0.03768751, -0.01661181],\n",
              "       [-0.03877665, -0.03081781],\n",
              "       [-0.01639211,  0.02940796]], dtype=float32)"
            ]
          },
          "metadata": {
            "tags": []
          },
          "execution_count": 19
        }
      ]
    },
    {
      "cell_type": "code",
      "metadata": {
        "trusted": true,
        "id": "wglawAFfE_3R",
        "colab_type": "code",
        "colab": {
          "base_uri": "https://localhost:8080/",
          "height": 50
        },
        "outputId": "1dd1a226-e55a-4c6a-8fe4-86eede600d3c"
      },
      "source": [
        "#LOAD DICTIONARY WITH WORD'S INDEX\n",
        "word_index_org = imdb.get_word_index()"
      ],
      "execution_count": 20,
      "outputs": [
        {
          "output_type": "stream",
          "text": [
            "Downloading data from https://storage.googleapis.com/tensorflow/tf-keras-datasets/imdb_word_index.json\n",
            "1646592/1641221 [==============================] - 0s 0us/step\n"
          ],
          "name": "stdout"
        }
      ]
    },
    {
      "cell_type": "code",
      "metadata": {
        "trusted": true,
        "id": "uuZDWWADE_3U",
        "colab_type": "code",
        "colab": {}
      },
      "source": [
        "# We supplement the dictionary with service characters\n",
        "\n",
        "word_index = dict()\n",
        "for word,number in word_index_org.items():\n",
        "    word_index[word] = number + 3\n",
        "word_index[\"<Заполнитель>\"] = 0\n",
        "word_index[\"<Начало последовательности>\"] = 1\n",
        "word_index[\"<Неизвестное слово>\"] = 2  \n",
        "word_index[\"<Не используется>\"] = 3\n"
      ],
      "execution_count": 21,
      "outputs": []
    },
    {
      "cell_type": "code",
      "metadata": {
        "trusted": true,
        "id": "OMozyczmE_3W",
        "colab_type": "code",
        "colab": {
          "base_uri": "https://localhost:8080/",
          "height": 50
        },
        "outputId": "6d4b6f7b-c0e0-4ed5-9e8e-41ff17d3339b"
      },
      "source": [
        "word = 'good'\n",
        "word_number = word_index[word]\n",
        "print('Index of word', word_number)\n",
        "print('Vector for word', embedding_matrix[word_number])"
      ],
      "execution_count": 22,
      "outputs": [
        {
          "output_type": "stream",
          "text": [
            "Index of word 52\n",
            "Vector for word [-0.18448316  0.15924989]\n"
          ],
          "name": "stdout"
        }
      ]
    },
    {
      "cell_type": "markdown",
      "metadata": {
        "id": "PtBpB10TE_3a",
        "colab_type": "text"
      },
      "source": [
        "## SAVE TRAINED DENSE VECTOR REPRESENTATIONS TO A FILE."
      ]
    },
    {
      "cell_type": "code",
      "metadata": {
        "trusted": true,
        "id": "lfjrZUr5E_3b",
        "colab_type": "code",
        "colab": {}
      },
      "source": [
        "reverse_word_index = dict()\n",
        "for key, value in word_index.items():\n",
        "    reverse_word_index[value] = key"
      ],
      "execution_count": 23,
      "outputs": []
    },
    {
      "cell_type": "code",
      "metadata": {
        "trusted": true,
        "id": "1CYTL00DE_3e",
        "colab_type": "code",
        "colab": {
          "base_uri": "https://localhost:8080/",
          "height": 353
        },
        "outputId": "6ea47f30-4453-49bb-ab38-a2d3d50d7f0a"
      },
      "source": [
        "# We write dense vector representations to a file\n",
        "class Vector_repr:\n",
        "  def __init__(self):\n",
        "    self.filename = 'imdb_embeddings.csv'\n",
        "    with open(self.filename, 'w') as f:\n",
        "      for word_num in range(max_words):\n",
        "        self.word = reverse_word_index[word_num]\n",
        "        self.vec = embedding_matrix[word_num]\n",
        "        f.write(self.word + \",\")\n",
        "        f.write(','.join([str(x) for x in vec]) + \"\\n\")\n",
        "Vector_repr\n",
        "!head -n 20 $filename"
      ],
      "execution_count": 28,
      "outputs": [
        {
          "output_type": "stream",
          "text": [
            "<Заполнитель>,0.011667195,0.018339455\n",
            "<Начало последовательности>,0.1296259,-0.122312516\n",
            "<Неизвестное слово>,0.037687507,-0.016611813\n",
            "<Не используется>,-0.038776647,-0.030817807\n",
            "the,-0.016392108,0.02940796\n",
            "and,-0.089055404,0.04542465\n",
            "a,-0.005124571,-0.0030592685\n",
            "of,-0.0024656188,-0.018180363\n",
            "to,0.022425761,0.003455084\n",
            "is,-0.05061792,0.03666045\n",
            "br,0.0023849884,-0.025361305\n",
            "in,-0.028937377,0.006936684\n",
            "it,-0.042627484,0.12225687\n",
            "i,0.008500607,0.039862555\n",
            "this,0.031295177,-0.030071616\n",
            "that,-0.025725435,-0.03677886\n",
            "was,0.0423885,-0.05051336\n",
            "as,-0.04860676,-0.019262103\n",
            "for,-0.0033038906,-0.035722096\n",
            "with,-0.01299489,0.005812942\n"
          ],
          "name": "stdout"
        }
      ]
    },
    {
      "cell_type": "code",
      "metadata": {
        "trusted": true,
        "id": "6GRL_q8TE_3k",
        "colab_type": "code",
        "colab": {}
      },
      "source": [
        "# Save file\n",
        "files.download('imdb_embeddings.csv')"
      ],
      "execution_count": 32,
      "outputs": []
    },
    {
      "cell_type": "markdown",
      "metadata": {
        "id": "5qKpDXgYE_3n",
        "colab_type": "text"
      },
      "source": [
        " ## Visualization of dense vector representations of words"
      ]
    },
    {
      "cell_type": "code",
      "metadata": {
        "trusted": true,
        "id": "Z4n7ESp8E_3o",
        "colab_type": "code",
        "colab": {
          "base_uri": "https://localhost:8080/",
          "height": 282
        },
        "outputId": "ab29b364-9f5f-4d69-eaa2-86d5f72599bc"
      },
      "source": [
        "plt.scatter(embedding_matrix[:,0], embedding_matrix[:,1])"
      ],
      "execution_count": 33,
      "outputs": [
        {
          "output_type": "execute_result",
          "data": {
            "text/plain": [
              "<matplotlib.collections.PathCollection at 0x7fc7ddeeeb38>"
            ]
          },
          "metadata": {
            "tags": []
          },
          "execution_count": 33
        },
        {
          "output_type": "display_data",
          "data": {
            "image/png": "[encoded data removed]",
            "text/plain": [
              "<Figure size 432x288 with 1 Axes>"
            ]
          },
          "metadata": {
            "tags": [],
            "needs_background": "light"
          }
        }
      ]
    },
    {
      "cell_type": "code",
      "metadata": {
        "trusted": true,
        "id": "6ylEeQVxE_3s",
        "colab_type": "code",
        "colab": {
          "base_uri": "https://localhost:8080/",
          "height": 168
        },
        "outputId": "471c4097-866c-4270-b3a3-3d0017d7aa5e"
      },
      "source": [
        "# We select the word codes by which you can determine the tone of the recall\n",
        "\n",
        "review = ['brilliant', 'fantastic', 'amazing', 'good',\n",
        "          'bad', 'awful','crap', 'terrible', 'trash']\n",
        "enc_review = []\n",
        "for word in review:\n",
        "    enc_review.append(word_index[word])\n",
        "enc_review\n",
        "\n",
        "review_vectors = embedding_matrix[enc_review]\n",
        "review_vectors"
      ],
      "execution_count": 34,
      "outputs": [
        {
          "output_type": "execute_result",
          "data": {
            "text/plain": [
              "array([[-0.48038876,  0.5155258 ],\n",
              "       [-0.49822983,  0.5095313 ],\n",
              "       [-0.61334234,  0.58002883],\n",
              "       [-0.18448316,  0.15924989],\n",
              "       [ 0.5546181 , -0.53057635],\n",
              "       [ 0.93411404, -0.95278937],\n",
              "       [ 0.53243953, -0.49315336],\n",
              "       [ 0.6897151 , -0.6489719 ],\n",
              "       [ 0.34914142, -0.1597223 ]], dtype=float32)"
            ]
          },
          "metadata": {
            "tags": []
          },
          "execution_count": 34
        }
      ]
    },
    {
      "cell_type": "markdown",
      "metadata": {
        "id": "1TeWdrDlE_3v",
        "colab_type": "text"
      },
      "source": [
        "## Visualization of a trained dense vector representation of words by which you can determine the emotional coloring of the text"
      ]
    },
    {
      "cell_type": "code",
      "metadata": {
        "trusted": true,
        "id": "1Tpf58b7E_3w",
        "colab_type": "code",
        "colab": {
          "base_uri": "https://localhost:8080/",
          "height": 265
        },
        "outputId": "9377989e-9378-46c0-88b8-c6440d138294"
      },
      "source": [
        "plt.scatter(review_vectors[:,0], review_vectors[:,1])\n",
        "for i, txt in enumerate(review):\n",
        "    plt.annotate(txt, (review_vectors[i,0], review_vectors[i,1]))"
      ],
      "execution_count": 35,
      "outputs": [
        {
          "output_type": "display_data",
          "data": {
            "image/png": "[encoded data removed]",
            "text/plain": [
              "<Figure size 432x288 with 1 Axes>"
            ]
          },
          "metadata": {
            "tags": [],
            "needs_background": "light"
          }
        }
      ]
    }
  ]
}