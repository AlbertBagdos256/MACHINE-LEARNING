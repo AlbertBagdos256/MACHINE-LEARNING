{
  "nbformat": 4,
  "nbformat_minor": 0,
  "metadata": {
    "colab": {
      "name": "Object-detection.ipynb",
      "provenance": []
    },
    "kernelspec": {
      "name": "python3",
      "display_name": "Python 3"
    },
    "accelerator": "GPU"
  },
  "cells": [
    {
      "cell_type": "code",
      "metadata": {
        "id": "Sow_UU4fhZaM",
        "colab_type": "code",
        "colab": {}
      },
      "source": [
        "import numpy\n",
        "from keras.models import Sequential\n",
        "from keras.layers import Dense, Dropout, Flatten, BatchNormalization, Activation\n",
        "from keras.constraints import maxnorm\n",
        "from keras.layers.convolutional import Conv2D, MaxPooling2D\n",
        "from keras.utils import np_utils\n",
        "import random\n",
        "from PIL import Image\n",
        "from keras.datasets import cifar10\n",
        "from matplotlib import pyplot as plt"
      ],
      "execution_count": 27,
      "outputs": []
    },
    {
      "cell_type": "code",
      "metadata": {
        "id": "4491Ys4S3li9",
        "colab_type": "code",
        "colab": {}
      },
      "source": [
        "\n",
        "# fix random seed for reproducibility\n",
        "seed = 21\n",
        "numpy.random.seed(seed)\n",
        "\n",
        "# load data\n",
        "(X_train, y_train), (X_test, y_test) = cifar10.load_data()\n",
        "\n",
        "# normalize inputs from 0-255 to 0.0-1.0\n",
        "X_train = X_train.astype('float32')\n",
        "X_test = X_test.astype('float32')\n",
        "X_train = X_train / 255.0\n",
        "X_test = X_test / 255.0\n",
        "\n",
        "# one hot encode outputs\n",
        "y_train = np_utils.to_categorical(y_train)\n",
        "y_test = np_utils.to_categorical(y_test)\n",
        "num_classes = y_test.shape[1]"
      ],
      "execution_count": 11,
      "outputs": []
    },
    {
      "cell_type": "code",
      "metadata": {
        "id": "nkFNPD1LAL2y",
        "colab_type": "code",
        "colab": {}
      },
      "source": [
        "def model_init_():\n",
        "  # Create the model\n",
        "  model = Sequential()\n",
        "  \n",
        "  model.add(Conv2D(32, (3, 3), input_shape=X_train.shape[1:], padding='same'))\n",
        "  model.add(Activation('relu'))\n",
        "  model.add(Dropout(0.2))\n",
        "  model.add(BatchNormalization())\n",
        "  \n",
        "  model.add(Conv2D(64, (3, 3), padding='same'))\n",
        "  model.add(Activation('relu'))\n",
        "  model.add(MaxPooling2D(pool_size=(2, 2)))\n",
        "  model.add(Dropout(0.2))\n",
        "  model.add(BatchNormalization())\n",
        "\n",
        "  model.add(Conv2D(64, (3, 3), padding='same'))\n",
        "  model.add(Activation('relu'))\n",
        "  model.add(MaxPooling2D(pool_size=(2, 2)))\n",
        "  model.add(Dropout(0.2))\n",
        "  model.add(BatchNormalization())\n",
        "\n",
        "  model.add(Conv2D(128, (3, 3), padding='same'))\n",
        "  model.add(Activation('relu'))\n",
        "  model.add(Dropout(0.2))\n",
        "  model.add(BatchNormalization())\n",
        "\n",
        "  model.add(Flatten())\n",
        "  model.add(Dropout(0.2))\n",
        "\n",
        "  model.add(Dense(256, kernel_constraint=maxnorm(3)))\n",
        "  model.add(Activation('relu'))\n",
        "  model.add(Dropout(0.2))\n",
        "  model.add(BatchNormalization())\n",
        "  model.add(Dense(128, kernel_constraint=maxnorm(3)))\n",
        "  model.add(Activation('relu'))\n",
        "\n",
        "  model.add(Dropout(0.2))\n",
        "  model.add(BatchNormalization())\n",
        "  model.add(Dense(num_classes))\n",
        "  model.add(Activation('softmax'))\n",
        "  return model\n",
        "model = model_init_()"
      ],
      "execution_count": 8,
      "outputs": []
    },
    {
      "cell_type": "code",
      "metadata": {
        "id": "mdvWtpAEAT0g",
        "colab_type": "code",
        "colab": {
          "base_uri": "https://localhost:8080/",
          "height": 1000
        },
        "outputId": "5bf13839-b8f2-44e7-dfa4-9963b1646fae"
      },
      "source": [
        "epochs = 25\n",
        "optimizer = 'Adam'\n",
        "\n",
        "model.compile(loss='categorical_crossentropy', optimizer=optimizer, metrics=['accuracy'])\n",
        "\n",
        "print(model.summary())\n",
        "\n",
        "history = model.fit(X_train, y_train, validation_data=(X_test, y_test), epochs=epochs, batch_size=64)\n"
      ],
      "execution_count": 9,
      "outputs": [
        {
          "output_type": "stream",
          "text": [
            "Model: \"sequential_4\"\n",
            "_________________________________________________________________\n",
            "Layer (type)                 Output Shape              Param #   \n",
            "=================================================================\n",
            "conv2d_13 (Conv2D)           (None, 32, 32, 32)        896       \n",
            "_________________________________________________________________\n",
            "activation_22 (Activation)   (None, 32, 32, 32)        0         \n",
            "_________________________________________________________________\n",
            "dropout_22 (Dropout)         (None, 32, 32, 32)        0         \n",
            "_________________________________________________________________\n",
            "batch_normalization_19 (Batc (None, 32, 32, 32)        128       \n",
            "_________________________________________________________________\n",
            "conv2d_14 (Conv2D)           (None, 32, 32, 64)        18496     \n",
            "_________________________________________________________________\n",
            "activation_23 (Activation)   (None, 32, 32, 64)        0         \n",
            "_________________________________________________________________\n",
            "max_pooling2d_7 (MaxPooling2 (None, 16, 16, 64)        0         \n",
            "_________________________________________________________________\n",
            "dropout_23 (Dropout)         (None, 16, 16, 64)        0         \n",
            "_________________________________________________________________\n",
            "batch_normalization_20 (Batc (None, 16, 16, 64)        256       \n",
            "_________________________________________________________________\n",
            "conv2d_15 (Conv2D)           (None, 16, 16, 64)        36928     \n",
            "_________________________________________________________________\n",
            "activation_24 (Activation)   (None, 16, 16, 64)        0         \n",
            "_________________________________________________________________\n",
            "max_pooling2d_8 (MaxPooling2 (None, 8, 8, 64)          0         \n",
            "_________________________________________________________________\n",
            "dropout_24 (Dropout)         (None, 8, 8, 64)          0         \n",
            "_________________________________________________________________\n",
            "batch_normalization_21 (Batc (None, 8, 8, 64)          256       \n",
            "_________________________________________________________________\n",
            "conv2d_16 (Conv2D)           (None, 8, 8, 128)         73856     \n",
            "_________________________________________________________________\n",
            "activation_25 (Activation)   (None, 8, 8, 128)         0         \n",
            "_________________________________________________________________\n",
            "dropout_25 (Dropout)         (None, 8, 8, 128)         0         \n",
            "_________________________________________________________________\n",
            "batch_normalization_22 (Batc (None, 8, 8, 128)         512       \n",
            "_________________________________________________________________\n",
            "flatten_4 (Flatten)          (None, 8192)              0         \n",
            "_________________________________________________________________\n",
            "dropout_26 (Dropout)         (None, 8192)              0         \n",
            "_________________________________________________________________\n",
            "dense_10 (Dense)             (None, 256)               2097408   \n",
            "_________________________________________________________________\n",
            "activation_26 (Activation)   (None, 256)               0         \n",
            "_________________________________________________________________\n",
            "dropout_27 (Dropout)         (None, 256)               0         \n",
            "_________________________________________________________________\n",
            "batch_normalization_23 (Batc (None, 256)               1024      \n",
            "_________________________________________________________________\n",
            "dense_11 (Dense)             (None, 128)               32896     \n",
            "_________________________________________________________________\n",
            "activation_27 (Activation)   (None, 128)               0         \n",
            "_________________________________________________________________\n",
            "dropout_28 (Dropout)         (None, 128)               0         \n",
            "_________________________________________________________________\n",
            "batch_normalization_24 (Batc (None, 128)               512       \n",
            "_________________________________________________________________\n",
            "dense_12 (Dense)             (None, 10)                1290      \n",
            "_________________________________________________________________\n",
            "activation_28 (Activation)   (None, 10)                0         \n",
            "=================================================================\n",
            "Total params: 2,264,458\n",
            "Trainable params: 2,263,114\n",
            "Non-trainable params: 1,344\n",
            "_________________________________________________________________\n",
            "None\n",
            "Train on 50000 samples, validate on 10000 samples\n",
            "Epoch 1/25\n",
            "50000/50000 [==============================] - 38s 755us/step - loss: 1.5053 - accuracy: 0.4681 - val_loss: 1.0651 - val_accuracy: 0.6170\n",
            "Epoch 2/25\n",
            "50000/50000 [==============================] - 36s 715us/step - loss: 1.0356 - accuracy: 0.6321 - val_loss: 0.8909 - val_accuracy: 0.6873\n",
            "Epoch 3/25\n",
            "50000/50000 [==============================] - 36s 713us/step - loss: 0.8633 - accuracy: 0.6967 - val_loss: 0.7908 - val_accuracy: 0.7210\n",
            "Epoch 4/25\n",
            "50000/50000 [==============================] - 36s 714us/step - loss: 0.7681 - accuracy: 0.7302 - val_loss: 0.7064 - val_accuracy: 0.7480\n",
            "Epoch 5/25\n",
            "50000/50000 [==============================] - 36s 719us/step - loss: 0.7047 - accuracy: 0.7533 - val_loss: 0.6617 - val_accuracy: 0.7684\n",
            "Epoch 6/25\n",
            "50000/50000 [==============================] - 36s 717us/step - loss: 0.6667 - accuracy: 0.7679 - val_loss: 0.6744 - val_accuracy: 0.7634\n",
            "Epoch 7/25\n",
            "50000/50000 [==============================] - 36s 719us/step - loss: 0.6265 - accuracy: 0.7798 - val_loss: 0.5982 - val_accuracy: 0.7941\n",
            "Epoch 8/25\n",
            "50000/50000 [==============================] - 36s 717us/step - loss: 0.5995 - accuracy: 0.7896 - val_loss: 0.6104 - val_accuracy: 0.7919\n",
            "Epoch 9/25\n",
            "50000/50000 [==============================] - 36s 717us/step - loss: 0.5740 - accuracy: 0.8006 - val_loss: 0.5806 - val_accuracy: 0.7950\n",
            "Epoch 10/25\n",
            "50000/50000 [==============================] - 36s 716us/step - loss: 0.5471 - accuracy: 0.8076 - val_loss: 0.5743 - val_accuracy: 0.8027\n",
            "Epoch 11/25\n",
            "50000/50000 [==============================] - 36s 718us/step - loss: 0.5354 - accuracy: 0.8129 - val_loss: 0.6673 - val_accuracy: 0.7736\n",
            "Epoch 12/25\n",
            "50000/50000 [==============================] - 36s 718us/step - loss: 0.5151 - accuracy: 0.8198 - val_loss: 0.5903 - val_accuracy: 0.7983\n",
            "Epoch 13/25\n",
            "50000/50000 [==============================] - 36s 719us/step - loss: 0.5087 - accuracy: 0.8232 - val_loss: 0.5498 - val_accuracy: 0.8119\n",
            "Epoch 14/25\n",
            "50000/50000 [==============================] - 37s 733us/step - loss: 0.4970 - accuracy: 0.8261 - val_loss: 0.5716 - val_accuracy: 0.8030\n",
            "Epoch 15/25\n",
            "50000/50000 [==============================] - 37s 748us/step - loss: 0.4831 - accuracy: 0.8293 - val_loss: 0.5093 - val_accuracy: 0.8232\n",
            "Epoch 16/25\n",
            "50000/50000 [==============================] - 37s 741us/step - loss: 0.4703 - accuracy: 0.8350 - val_loss: 0.5362 - val_accuracy: 0.8150\n",
            "Epoch 17/25\n",
            "50000/50000 [==============================] - 37s 741us/step - loss: 0.4618 - accuracy: 0.8381 - val_loss: 0.5125 - val_accuracy: 0.8268\n",
            "Epoch 18/25\n",
            "50000/50000 [==============================] - 37s 741us/step - loss: 0.4545 - accuracy: 0.8412 - val_loss: 0.5222 - val_accuracy: 0.8250\n",
            "Epoch 19/25\n",
            "50000/50000 [==============================] - 37s 740us/step - loss: 0.4496 - accuracy: 0.8421 - val_loss: 0.5235 - val_accuracy: 0.8231\n",
            "Epoch 20/25\n",
            "50000/50000 [==============================] - 37s 741us/step - loss: 0.4435 - accuracy: 0.8452 - val_loss: 0.5047 - val_accuracy: 0.8299\n",
            "Epoch 21/25\n",
            "50000/50000 [==============================] - 37s 741us/step - loss: 0.4309 - accuracy: 0.8489 - val_loss: 0.4899 - val_accuracy: 0.8340\n",
            "Epoch 22/25\n",
            "50000/50000 [==============================] - 37s 742us/step - loss: 0.4288 - accuracy: 0.8501 - val_loss: 0.5113 - val_accuracy: 0.8264\n",
            "Epoch 23/25\n",
            "50000/50000 [==============================] - 36s 730us/step - loss: 0.4265 - accuracy: 0.8505 - val_loss: 0.5143 - val_accuracy: 0.8233\n",
            "Epoch 24/25\n",
            "50000/50000 [==============================] - 36s 724us/step - loss: 0.4137 - accuracy: 0.8549 - val_loss: 0.5242 - val_accuracy: 0.8199\n",
            "Epoch 25/25\n",
            "50000/50000 [==============================] - 36s 727us/step - loss: 0.4172 - accuracy: 0.8529 - val_loss: 0.5159 - val_accuracy: 0.8265\n"
          ],
          "name": "stdout"
        }
      ]
    },
    {
      "cell_type": "code",
      "metadata": {
        "id": "Z7op62R4GGMo",
        "colab_type": "code",
        "colab": {
          "base_uri": "https://localhost:8080/",
          "height": 438
        },
        "outputId": "09cd7dab-da71-4c88-d45d-ca4c72930cbb"
      },
      "source": [
        "def plot_model_history(model_history, acc='accuracy', val_acc='val_accuracy'):\n",
        "    fig, axs = plt.subplots(1,2,figsize=(15,5))\n",
        "    axs[0].plot(range(1,len(model_history.history[acc])+1),model_history.history[acc])\n",
        "    axs[0].plot(range(1,len(model_history.history[val_acc])+1),model_history.history[val_acc])\n",
        "    axs[0].set_title('Model Accuracy')\n",
        "    axs[0].set_ylabel('Accuracy')\n",
        "    axs[0].set_xlabel('Epoch')\n",
        "    axs[0].set_xticks(numpy.arange(1,len(model_history.history[acc])+1),len(model_history.history[acc])/10)\n",
        "    axs[0].legend(['train', 'val'], loc='best')\n",
        "    axs[1].plot(range(1,len(model_history.history['loss'])+1),model_history.history['loss'])\n",
        "    axs[1].plot(range(1,len(model_history.history['val_loss'])+1),model_history.history['val_loss'])\n",
        "    axs[1].set_title('Model Loss')\n",
        "    axs[1].set_ylabel('Loss')\n",
        "    axs[1].set_xlabel('Epoch')\n",
        "    axs[1].set_xticks(numpy.arange(1,len(model_history.history['loss'])+1),len(model_history.history['loss'])/10)\n",
        "    axs[1].legend(['train', 'val'], loc='best')\n",
        "    plt.show()\n",
        "    \n",
        "plot_model_history(history)"
      ],
      "execution_count": 14,
      "outputs": [
        {
          "output_type": "stream",
          "text": [
            "/usr/local/lib/python3.6/dist-packages/ipykernel_launcher.py:8: MatplotlibDeprecationWarning: Passing the minor parameter of set_xticks() positionally is deprecated since Matplotlib 3.2; the parameter will become keyword-only two minor releases later.\n",
            "  \n",
            "/usr/local/lib/python3.6/dist-packages/ipykernel_launcher.py:15: MatplotlibDeprecationWarning: Passing the minor parameter of set_xticks() positionally is deprecated since Matplotlib 3.2; the parameter will become keyword-only two minor releases later.\n",
            "  from ipykernel import kernelapp as app\n"
          ],
          "name": "stderr"
        },
        {
          "output_type": "display_data",
          "data": {
            "image/png": "[encoded data removed]",
            "text/plain": [
              "<Figure size 1080x360 with 2 Axes>"
            ]
          },
          "metadata": {
            "tags": [],
            "needs_background": "light"
          }
        }
      ]
    },
    {
      "cell_type": "code",
      "metadata": {
        "id": "mUV8IyM_F6sR",
        "colab_type": "code",
        "colab": {
          "base_uri": "https://localhost:8080/",
          "height": 34
        },
        "outputId": "897e9e47-d0d9-46fe-d0ee-5efa1981a073"
      },
      "source": [
        "# Final evaluation of the model\n",
        "scores = model.evaluate(X_test, y_test, verbose=0)\n",
        "print(\"Accuracy: %.2f%%\" % (scores[1]*100))"
      ],
      "execution_count": 15,
      "outputs": [
        {
          "output_type": "stream",
          "text": [
            "Accuracy: 82.65%\n"
          ],
          "name": "stdout"
        }
      ]
    },
    {
      "cell_type": "code",
      "metadata": {
        "id": "4UyQiAtCmcth",
        "colab_type": "code",
        "colab": {}
      },
      "source": [
        "classes = ['airplane','auto-mobile','bird','cat','deer','dog','frog','horse','ship','truck']"
      ],
      "execution_count": 42,
      "outputs": []
    },
    {
      "cell_type": "code",
      "metadata": {
        "id": "fis4lBpDKtmx",
        "colab_type": "code",
        "colab": {
          "base_uri": "https://localhost:8080/",
          "height": 334
        },
        "outputId": "ff934b97-dcf6-4978-c4d0-2860b69ef405"
      },
      "source": [
        "prediction = model.predict(X_test)\n",
        "random_item = random.randint(0,10000)\n",
        "# Print one of the results of recognition\n",
        "print(prediction[random_item])\n",
        "# Print  class number,which was predicted by neural-Network \n",
        "print(numpy.argmax(prediction[random_item]))\n",
        "index = numpy.argmax(y_test[random_item])\n",
        "plt.imshow(X_test[random_item], cmap=plt.cm.binary)\n",
        "plt.show()\n",
        "print('The Answer is ' + classes[index])\n"
      ],
      "execution_count": 49,
      "outputs": [
        {
          "output_type": "stream",
          "text": [
            "[9.9262083e-01 6.6747496e-05 2.8389593e-04 3.8826976e-05 4.2642419e-06\n",
            " 6.1281530e-06 6.5152068e-03 1.4399595e-06 2.2473355e-04 2.3789240e-04]\n",
            "0\n"
          ],
          "name": "stdout"
        },
        {
          "output_type": "display_data",
          "data": {
            "image/png": "[encoded data removed]",
            "text/plain": [
              "<Figure size 432x288 with 1 Axes>"
            ]
          },
          "metadata": {
            "tags": [],
            "needs_background": "light"
          }
        },
        {
          "output_type": "stream",
          "text": [
            "The Answer is airplane\n"
          ],
          "name": "stdout"
        }
      ]
    }
  ]
}