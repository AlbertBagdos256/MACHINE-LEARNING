{
  "nbformat": 4,
  "nbformat_minor": 0,
  "metadata": {
    "colab": {
      "name": "KAGGLE.ipynb",
      "provenance": []
    },
    "kernelspec": {
      "name": "python3",
      "display_name": "Python 3"
    },
    "accelerator": "GPU"
  },
  "cells": [
    {
      "cell_type": "code",
      "metadata": {
        "id": "sG1iPUF-4SrL",
        "colab_type": "code",
        "colab": {}
      },
      "source": [
        "from tensorflow.keras.models                     import Sequential\n",
        "from tensorflow.keras.layers                     import Dense, Conv2D, MaxPooling2D, Dropout, Flatten \n",
        "from tensorflow.keras                            import utils\n",
        "from tensorflow.keras.preprocessing              import image\n",
        "from tensorflow.python.keras.preprocessing.image import ImageDataGenerator\n",
        "from tensorflow.keras.callbacks                  import ReduceLROnPlateau, ModelCheckpoint\n",
        "from sklearn.model_selection                     import train_test_split\n",
        "from google.colab                                import files\n",
        "import numpy as np\n",
        "import os\n",
        "import matplotlib.pyplot as plt"
      ],
      "execution_count": 1,
      "outputs": []
    },
    {
      "cell_type": "code",
      "metadata": {
        "id": "99L8A_m44Yy-",
        "colab_type": "code",
        "colab": {
          "resources": {
            "http://localhost:8080/nbextensions/google.colab/files.js": {
              "data": "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",
              "ok": true,
              "headers": [
                [
                  "content-type",
                  "application/javascript"
                ]
              ],
              "status": 200,
              "status_text": ""
            }
          },
          "base_uri": "https://localhost:8080/",
          "height": 89
        },
        "outputId": "6636f269-0582-431c-e62c-0913f56959ee"
      },
      "source": [
        "file = files.upload()\n",
        "p = os.path.abspath('kaggle.json')\n",
        "print(p)"
      ],
      "execution_count": 2,
      "outputs": [
        {
          "output_type": "display_data",
          "data": {
            "text/html": [
              "\n",
              "     <input type=\"file\" id=\"files-bde1fe72-0251-4f7f-b1ea-8b78005fb950\" name=\"files[]\" multiple disabled\n",
              "        style=\"border:none\" />\n",
              "     <output id=\"result-bde1fe72-0251-4f7f-b1ea-8b78005fb950\">\n",
              "      Upload widget is only available when the cell has been executed in the\n",
              "      current browser session. Please rerun this cell to enable.\n",
              "      </output>\n",
              "      <script src=\"/nbextensions/google.colab/files.js\"></script> "
            ],
            "text/plain": [
              "<IPython.core.display.HTML object>"
            ]
          },
          "metadata": {
            "tags": []
          }
        },
        {
          "output_type": "stream",
          "text": [
            "Saving kaggle.json to kaggle.json\n",
            "/content/kaggle.json\n"
          ],
          "name": "stdout"
        }
      ]
    },
    {
      "cell_type": "code",
      "metadata": {
        "id": "N277Isx34a8Z",
        "colab_type": "code",
        "colab": {
          "base_uri": "https://localhost:8080/",
          "height": 224
        },
        "outputId": "05bc3b55-7ce5-41d7-c2c1-30f0b26bbb71"
      },
      "source": [
        "!pip install kaggle"
      ],
      "execution_count": 3,
      "outputs": [
        {
          "output_type": "stream",
          "text": [
            "Requirement already satisfied: kaggle in /usr/local/lib/python3.6/dist-packages (1.5.6)\n",
            "Requirement already satisfied: tqdm in /usr/local/lib/python3.6/dist-packages (from kaggle) (4.41.1)\n",
            "Requirement already satisfied: requests in /usr/local/lib/python3.6/dist-packages (from kaggle) (2.23.0)\n",
            "Requirement already satisfied: urllib3<1.25,>=1.21.1 in /usr/local/lib/python3.6/dist-packages (from kaggle) (1.24.3)\n",
            "Requirement already satisfied: python-dateutil in /usr/local/lib/python3.6/dist-packages (from kaggle) (2.8.1)\n",
            "Requirement already satisfied: python-slugify in /usr/local/lib/python3.6/dist-packages (from kaggle) (4.0.0)\n",
            "Requirement already satisfied: certifi in /usr/local/lib/python3.6/dist-packages (from kaggle) (2020.4.5.1)\n",
            "Requirement already satisfied: six>=1.10 in /usr/local/lib/python3.6/dist-packages (from kaggle) (1.12.0)\n",
            "Requirement already satisfied: chardet<4,>=3.0.2 in /usr/local/lib/python3.6/dist-packages (from requests->kaggle) (3.0.4)\n",
            "Requirement already satisfied: idna<3,>=2.5 in /usr/local/lib/python3.6/dist-packages (from requests->kaggle) (2.9)\n",
            "Requirement already satisfied: text-unidecode>=1.3 in /usr/local/lib/python3.6/dist-packages (from python-slugify->kaggle) (1.3)\n"
          ],
          "name": "stdout"
        }
      ]
    },
    {
      "cell_type": "code",
      "metadata": {
        "id": "Res6vHg04dMB",
        "colab_type": "code",
        "colab": {
          "base_uri": "https://localhost:8080/",
          "height": 68
        },
        "outputId": "6f488528-6695-4cfe-fc72-b96c1ae8c00a"
      },
      "source": [
        "!mkdir ~/.kaggle\n",
        "p = os.path.abspath('.kaggle')\n",
        "print(p)\n",
        "!ls"
      ],
      "execution_count": 7,
      "outputs": [
        {
          "output_type": "stream",
          "text": [
            "mkdir: cannot create directory ‘/root/.kaggle’: File exists\n",
            "/content/.kaggle\n",
            "kaggle.json  sample_data\n"
          ],
          "name": "stdout"
        }
      ]
    },
    {
      "cell_type": "code",
      "metadata": {
        "id": "nWkIz2dM4ho6",
        "colab_type": "code",
        "colab": {
          "base_uri": "https://localhost:8080/",
          "height": 224
        },
        "outputId": "b61e3b6a-fb37-44fd-af5c-0083707abeff"
      },
      "source": [
        "!mv kaggle.json ~/.kaggle\n",
        "!kaggle competitions download -c digit-recognizer"
      ],
      "execution_count": 8,
      "outputs": [
        {
          "output_type": "stream",
          "text": [
            "Warning: Your Kaggle API key is readable by other users on this system! To fix this, you can run 'chmod 600 /root/.kaggle/kaggle.json'\n",
            "Warning: Looks like you're using an outdated API Version, please consider updating (server 1.5.6 / client 1.5.4)\n",
            "Downloading sample_submission.csv to /content\n",
            "  0% 0.00/235k [00:00<?, ?B/s]\n",
            "100% 235k/235k [00:00<00:00, 36.6MB/s]\n",
            "Downloading train.csv.zip to /content\n",
            "  0% 0.00/9.16M [00:00<?, ?B/s]\n",
            "100% 9.16M/9.16M [00:00<00:00, 84.2MB/s]\n",
            "Downloading test.csv.zip to /content\n",
            "  0% 0.00/6.09M [00:00<?, ?B/s]\n",
            "100% 6.09M/6.09M [00:00<00:00, 100MB/s]\n"
          ],
          "name": "stdout"
        }
      ]
    },
    {
      "cell_type": "code",
      "metadata": {
        "id": "IpFBy0U74inu",
        "colab_type": "code",
        "colab": {
          "base_uri": "https://localhost:8080/",
          "height": 34
        },
        "outputId": "5650568b-6f70-4d47-c543-35f15288326d"
      },
      "source": [
        "!ls"
      ],
      "execution_count": 9,
      "outputs": [
        {
          "output_type": "stream",
          "text": [
            "sample_data  sample_submission.csv  test.csv.zip  train.csv.zip\n"
          ],
          "name": "stdout"
        }
      ]
    },
    {
      "cell_type": "code",
      "metadata": {
        "id": "OrH_jQcfcRuT",
        "colab_type": "code",
        "colab": {
          "base_uri": "https://localhost:8080/",
          "height": 85
        },
        "outputId": "191d9ff5-a2dd-4220-b05c-df78ee98bca1"
      },
      "source": [
        "!unzip '/content/train.csv.zip'\n",
        "!unzip '/content/test.csv.zip'"
      ],
      "execution_count": 12,
      "outputs": [
        {
          "output_type": "stream",
          "text": [
            "Archive:  /content/train.csv.zip\n",
            "  inflating: train.csv               \n",
            "Archive:  /content/test.csv.zip\n",
            "  inflating: test.csv                \n"
          ],
          "name": "stdout"
        }
      ]
    },
    {
      "cell_type": "code",
      "metadata": {
        "id": "OzWAgjRs4lst",
        "colab_type": "code",
        "colab": {}
      },
      "source": [
        "train_dataset = np.loadtxt('train.csv', skiprows=1, delimiter=',')"
      ],
      "execution_count": 13,
      "outputs": []
    },
    {
      "cell_type": "code",
      "metadata": {
        "id": "Zp70SRLE4qfZ",
        "colab_type": "code",
        "colab": {}
      },
      "source": [
        "train_dataset[0:5]\n",
        "x_train = train_dataset[:, 1:]\n",
        "# Переформатируем данные в 2D, бэкенд TensorFlow\n",
        "x_train = x_train.reshape(x_train.shape[0], 28, 28, 1)\n",
        "input_shape = (28, 28, 1) "
      ],
      "execution_count": 14,
      "outputs": []
    },
    {
      "cell_type": "code",
      "metadata": {
        "id": "8ClnDQ8O4s3F",
        "colab_type": "code",
        "colab": {}
      },
      "source": [
        "x_train /= 255.0\n",
        "x_train[1].shape\n",
        "y_train = train_dataset[:, 0]\n",
        "y_train[:5]\n",
        "y_train = utils.to_categorical(y_train)\n"
      ],
      "execution_count": 15,
      "outputs": []
    },
    {
      "cell_type": "code",
      "metadata": {
        "id": "8MKFaFSJ4wJm",
        "colab_type": "code",
        "colab": {}
      },
      "source": [
        "random_seed = 10\n",
        "X_train, X_val, Y_train, Y_val = train_test_split(x_train, y_train, test_size = 0.1, random_state=random_seed)"
      ],
      "execution_count": 16,
      "outputs": []
    },
    {
      "cell_type": "code",
      "metadata": {
        "id": "xRmj7T_b4yfW",
        "colab_type": "code",
        "colab": {}
      },
      "source": [
        "datagen = ImageDataGenerator(\n",
        "        featurewise_center=False,  # set input mean to 0 over the dataset\n",
        "        samplewise_center=False,  # set each sample mean to 0\n",
        "        featurewise_std_normalization=False,  # divide inputs by std of the dataset\n",
        "        samplewise_std_normalization=False,  # divide each input by its std\n",
        "        zca_whitening=False,  # apply ZCA whitening\n",
        "        rotation_range=10,  # randomly rotate images in the range (degrees, 0 to 180)\n",
        "        zoom_range = 0.1, # Randomly zoom image \n",
        "        width_shift_range=0.1,  # randomly shift images horizontally (fraction of total width)\n",
        "        height_shift_range=0.1,  # randomly shift images vertically (fraction of total height)\n",
        "        horizontal_flip=False,  # randomly flip images\n",
        "        vertical_flip=False)  # randomly flip images\n",
        "\n",
        "\n",
        "datagen.fit(X_train)"
      ],
      "execution_count": 17,
      "outputs": []
    },
    {
      "cell_type": "code",
      "metadata": {
        "id": "LabmuZnc41JX",
        "colab_type": "code",
        "colab": {
          "base_uri": "https://localhost:8080/",
          "height": 1000
        },
        "outputId": "554c0fb2-7c20-472d-a2da-03b849d64b26"
      },
      "source": [
        "i = 0\n",
        "data = X_train[0]\n",
        "data = np.expand_dims(data, axis=0)\n",
        "for batch in datagen.flow(data, batch_size=1):\n",
        "    plt.figure(i)\n",
        "    imgplot = plt.imshow(batch[0][:,:,0])\n",
        "    i += 1\n",
        "    if i % 6 == 0:\n",
        "        break\n",
        "plt.show()"
      ],
      "execution_count": 18,
      "outputs": [
        {
          "output_type": "display_data",
          "data": {
            "image/png": "[encoded data removed]",
            "text/plain": [
              "<Figure size 432x288 with 1 Axes>"
            ]
          },
          "metadata": {
            "tags": [],
            "needs_background": "light"
          }
        },
        {
          "output_type": "display_data",
          "data": {
            "image/png": "[encoded data removed]",
            "text/plain": [
              "<Figure size 432x288 with 1 Axes>"
            ]
          },
          "metadata": {
            "tags": [],
            "needs_background": "light"
          }
        },
        {
          "output_type": "display_data",
          "data": {
            "image/png": "[encoded data removed]",
            "text/plain": [
              "<Figure size 432x288 with 1 Axes>"
            ]
          },
          "metadata": {
            "tags": [],
            "needs_background": "light"
          }
        },
        {
          "output_type": "display_data",
          "data": {
            "image/png": "[encoded data removed]",
            "text/plain": [
              "<Figure size 432x288 with 1 Axes>"
            ]
          },
          "metadata": {
            "tags": [],
            "needs_background": "light"
          }
        },
        {
          "output_type": "display_data",
          "data": {
            "image/png": "[encoded data removed]",
            "text/plain": [
              "<Figure size 432x288 with 1 Axes>"
            ]
          },
          "metadata": {
            "tags": [],
            "needs_background": "light"
          }
        },
        {
          "output_type": "display_data",
          "data": {
            "image/png": "[encoded data removed]",
            "text/plain": [
              "<Figure size 432x288 with 1 Axes>"
            ]
          },
          "metadata": {
            "tags": [],
            "needs_background": "light"
          }
        }
      ]
    },
    {
      "cell_type": "code",
      "metadata": {
        "id": "VCGjlJKb43dk",
        "colab_type": "code",
        "colab": {}
      },
      "source": [
        "model = Sequential()\n",
        "\n",
        "model.add(Conv2D(filters = 32, kernel_size = (5,5),padding = 'Same', \n",
        "                 activation ='relu', input_shape = (28,28,1)))\n",
        "model.add(Conv2D(filters = 32, kernel_size = (5,5),padding = 'Same', \n",
        "                 activation ='relu'))\n",
        "model.add(MaxPooling2D(pool_size=(2,2)))\n",
        "model.add(Dropout(0.25))\n",
        "\n",
        "\n",
        "model.add(Conv2D(filters = 64, kernel_size = (3,3),padding = 'Same', \n",
        "                 activation ='relu'))\n",
        "model.add(Conv2D(filters = 64, kernel_size = (3,3),padding = 'Same', \n",
        "                 activation ='relu'))\n",
        "model.add(MaxPooling2D(pool_size=(2,2), strides=(2,2)))\n",
        "model.add(Dropout(0.25))\n",
        "\n",
        "model.add(Flatten())\n",
        "model.add(Dense(256, activation = \"relu\"))\n",
        "model.add(Dropout(0.5))\n",
        "model.add(Dense(10, activation = \"softmax\"))"
      ],
      "execution_count": 19,
      "outputs": []
    },
    {
      "cell_type": "code",
      "metadata": {
        "id": "dhzlkREG450r",
        "colab_type": "code",
        "colab": {
          "base_uri": "https://localhost:8080/",
          "height": 578
        },
        "outputId": "482265b1-d4fa-4702-8695-a556c26b670e"
      },
      "source": [
        "model.compile(loss=\"categorical_crossentropy\", optimizer=\"adam\", metrics=[\"accuracy\"])\n",
        "\n",
        "print(model.summary())"
      ],
      "execution_count": 20,
      "outputs": [
        {
          "output_type": "stream",
          "text": [
            "Model: \"sequential\"\n",
            "_________________________________________________________________\n",
            "Layer (type)                 Output Shape              Param #   \n",
            "=================================================================\n",
            "conv2d (Conv2D)              (None, 28, 28, 32)        832       \n",
            "_________________________________________________________________\n",
            "conv2d_1 (Conv2D)            (None, 28, 28, 32)        25632     \n",
            "_________________________________________________________________\n",
            "max_pooling2d (MaxPooling2D) (None, 14, 14, 32)        0         \n",
            "_________________________________________________________________\n",
            "dropout (Dropout)            (None, 14, 14, 32)        0         \n",
            "_________________________________________________________________\n",
            "conv2d_2 (Conv2D)            (None, 14, 14, 64)        18496     \n",
            "_________________________________________________________________\n",
            "conv2d_3 (Conv2D)            (None, 14, 14, 64)        36928     \n",
            "_________________________________________________________________\n",
            "max_pooling2d_1 (MaxPooling2 (None, 7, 7, 64)          0         \n",
            "_________________________________________________________________\n",
            "dropout_1 (Dropout)          (None, 7, 7, 64)          0         \n",
            "_________________________________________________________________\n",
            "flatten (Flatten)            (None, 3136)              0         \n",
            "_________________________________________________________________\n",
            "dense (Dense)                (None, 256)               803072    \n",
            "_________________________________________________________________\n",
            "dropout_2 (Dropout)          (None, 256)               0         \n",
            "_________________________________________________________________\n",
            "dense_1 (Dense)              (None, 10)                2570      \n",
            "=================================================================\n",
            "Total params: 887,530\n",
            "Trainable params: 887,530\n",
            "Non-trainable params: 0\n",
            "_________________________________________________________________\n",
            "None\n"
          ],
          "name": "stdout"
        }
      ]
    },
    {
      "cell_type": "code",
      "metadata": {
        "id": "6p557Rk648Ho",
        "colab_type": "code",
        "colab": {}
      },
      "source": [
        "сheckpoint = ModelCheckpoint('content/mnist-cnn.h5', \n",
        "                              monitor='val_acc', \n",
        "                              save_best_only=True,\n",
        "                              verbose=1)"
      ],
      "execution_count": 21,
      "outputs": []
    },
    {
      "cell_type": "code",
      "metadata": {
        "id": "OlwfX0Br4-v1",
        "colab_type": "code",
        "colab": {}
      },
      "source": [
        "learning_rate_reduction = ReduceLROnPlateau(monitor='val_acc', \n",
        "                                            patience=3, \n",
        "                                            verbose=1, \n",
        "                                            factor=0.5, \n",
        "                                            min_lr=0.00001)"
      ],
      "execution_count": 22,
      "outputs": []
    },
    {
      "cell_type": "code",
      "metadata": {
        "id": "HUkwaUwi5Df9",
        "colab_type": "code",
        "colab": {
          "base_uri": "https://localhost:8080/",
          "height": 1000
        },
        "outputId": "d3606c9b-a89c-4882-f032-1fbc556ef0f9"
      },
      "source": [
        "batch_size = 256\n",
        "history = model.fit(datagen.flow(X_train,Y_train, batch_size=batch_size), \n",
        "                    epochs=50,\n",
        "                    validation_data=(X_val, Y_val),\n",
        "                    steps_per_epoch=X_train.shape[0] // batch_size,\n",
        "                    verbose=1,\n",
        "                    callbacks=[сheckpoint, learning_rate_reduction])"
      ],
      "execution_count": 23,
      "outputs": [
        {
          "output_type": "stream",
          "text": [
            "Epoch 1/50\n",
            "147/147 [==============================] - ETA: 0s - loss: 0.5858 - accuracy: 0.8057WARNING:tensorflow:Can save best model only with val_acc available, skipping.\n",
            "WARNING:tensorflow:Reduce LR on plateau conditioned on metric `val_acc` which is not available. Available metrics are: loss,accuracy,val_loss,val_accuracy,lr\n",
            "147/147 [==============================] - 15s 102ms/step - loss: 0.5858 - accuracy: 0.8057 - val_loss: 0.0762 - val_accuracy: 0.9752 - lr: 0.0010\n",
            "Epoch 2/50\n",
            "147/147 [==============================] - ETA: 0s - loss: 0.1598 - accuracy: 0.9513WARNING:tensorflow:Can save best model only with val_acc available, skipping.\n",
            "WARNING:tensorflow:Reduce LR on plateau conditioned on metric `val_acc` which is not available. Available metrics are: loss,accuracy,val_loss,val_accuracy,lr\n",
            "147/147 [==============================] - 14s 94ms/step - loss: 0.1598 - accuracy: 0.9513 - val_loss: 0.0502 - val_accuracy: 0.9833 - lr: 0.0010\n",
            "Epoch 3/50\n",
            "147/147 [==============================] - ETA: 0s - loss: 0.1244 - accuracy: 0.9638WARNING:tensorflow:Can save best model only with val_acc available, skipping.\n",
            "WARNING:tensorflow:Reduce LR on plateau conditioned on metric `val_acc` which is not available. Available metrics are: loss,accuracy,val_loss,val_accuracy,lr\n",
            "147/147 [==============================] - 14s 96ms/step - loss: 0.1244 - accuracy: 0.9638 - val_loss: 0.0416 - val_accuracy: 0.9867 - lr: 0.0010\n",
            "Epoch 4/50\n",
            "147/147 [==============================] - ETA: 0s - loss: 0.0971 - accuracy: 0.9702WARNING:tensorflow:Can save best model only with val_acc available, skipping.\n",
            "WARNING:tensorflow:Reduce LR on plateau conditioned on metric `val_acc` which is not available. Available metrics are: loss,accuracy,val_loss,val_accuracy,lr\n",
            "147/147 [==============================] - 14s 98ms/step - loss: 0.0971 - accuracy: 0.9702 - val_loss: 0.0378 - val_accuracy: 0.9864 - lr: 0.0010\n",
            "Epoch 5/50\n",
            "147/147 [==============================] - ETA: 0s - loss: 0.0857 - accuracy: 0.9747WARNING:tensorflow:Can save best model only with val_acc available, skipping.\n",
            "WARNING:tensorflow:Reduce LR on plateau conditioned on metric `val_acc` which is not available. Available metrics are: loss,accuracy,val_loss,val_accuracy,lr\n",
            "147/147 [==============================] - 14s 98ms/step - loss: 0.0857 - accuracy: 0.9747 - val_loss: 0.0317 - val_accuracy: 0.9888 - lr: 0.0010\n",
            "Epoch 6/50\n",
            "147/147 [==============================] - ETA: 0s - loss: 0.0766 - accuracy: 0.9770WARNING:tensorflow:Can save best model only with val_acc available, skipping.\n",
            "WARNING:tensorflow:Reduce LR on plateau conditioned on metric `val_acc` which is not available. Available metrics are: loss,accuracy,val_loss,val_accuracy,lr\n",
            "147/147 [==============================] - 15s 99ms/step - loss: 0.0766 - accuracy: 0.9770 - val_loss: 0.0249 - val_accuracy: 0.9914 - lr: 0.0010\n",
            "Epoch 7/50\n",
            "147/147 [==============================] - ETA: 0s - loss: 0.0704 - accuracy: 0.9792WARNING:tensorflow:Can save best model only with val_acc available, skipping.\n",
            "WARNING:tensorflow:Reduce LR on plateau conditioned on metric `val_acc` which is not available. Available metrics are: loss,accuracy,val_loss,val_accuracy,lr\n",
            "147/147 [==============================] - 14s 96ms/step - loss: 0.0704 - accuracy: 0.9792 - val_loss: 0.0300 - val_accuracy: 0.9905 - lr: 0.0010\n",
            "Epoch 8/50\n",
            "147/147 [==============================] - ETA: 0s - loss: 0.0635 - accuracy: 0.9812WARNING:tensorflow:Can save best model only with val_acc available, skipping.\n",
            "WARNING:tensorflow:Reduce LR on plateau conditioned on metric `val_acc` which is not available. Available metrics are: loss,accuracy,val_loss,val_accuracy,lr\n",
            "147/147 [==============================] - 14s 97ms/step - loss: 0.0635 - accuracy: 0.9812 - val_loss: 0.0269 - val_accuracy: 0.9907 - lr: 0.0010\n",
            "Epoch 9/50\n",
            "147/147 [==============================] - ETA: 0s - loss: 0.0606 - accuracy: 0.9821WARNING:tensorflow:Can save best model only with val_acc available, skipping.\n",
            "WARNING:tensorflow:Reduce LR on plateau conditioned on metric `val_acc` which is not available. Available metrics are: loss,accuracy,val_loss,val_accuracy,lr\n",
            "147/147 [==============================] - 14s 97ms/step - loss: 0.0606 - accuracy: 0.9821 - val_loss: 0.0230 - val_accuracy: 0.9917 - lr: 0.0010\n",
            "Epoch 10/50\n",
            "147/147 [==============================] - ETA: 0s - loss: 0.0561 - accuracy: 0.9839WARNING:tensorflow:Can save best model only with val_acc available, skipping.\n",
            "WARNING:tensorflow:Reduce LR on plateau conditioned on metric `val_acc` which is not available. Available metrics are: loss,accuracy,val_loss,val_accuracy,lr\n",
            "147/147 [==============================] - 14s 96ms/step - loss: 0.0561 - accuracy: 0.9839 - val_loss: 0.0195 - val_accuracy: 0.9945 - lr: 0.0010\n",
            "Epoch 11/50\n",
            "147/147 [==============================] - ETA: 0s - loss: 0.0523 - accuracy: 0.9841WARNING:tensorflow:Can save best model only with val_acc available, skipping.\n",
            "WARNING:tensorflow:Reduce LR on plateau conditioned on metric `val_acc` which is not available. Available metrics are: loss,accuracy,val_loss,val_accuracy,lr\n",
            "147/147 [==============================] - 14s 97ms/step - loss: 0.0523 - accuracy: 0.9841 - val_loss: 0.0230 - val_accuracy: 0.9924 - lr: 0.0010\n",
            "Epoch 12/50\n",
            "147/147 [==============================] - ETA: 0s - loss: 0.0506 - accuracy: 0.9846WARNING:tensorflow:Can save best model only with val_acc available, skipping.\n",
            "WARNING:tensorflow:Reduce LR on plateau conditioned on metric `val_acc` which is not available. Available metrics are: loss,accuracy,val_loss,val_accuracy,lr\n",
            "147/147 [==============================] - 14s 97ms/step - loss: 0.0506 - accuracy: 0.9846 - val_loss: 0.0166 - val_accuracy: 0.9940 - lr: 0.0010\n",
            "Epoch 13/50\n",
            "147/147 [==============================] - ETA: 0s - loss: 0.0501 - accuracy: 0.9845WARNING:tensorflow:Can save best model only with val_acc available, skipping.\n",
            "WARNING:tensorflow:Reduce LR on plateau conditioned on metric `val_acc` which is not available. Available metrics are: loss,accuracy,val_loss,val_accuracy,lr\n",
            "147/147 [==============================] - 14s 97ms/step - loss: 0.0501 - accuracy: 0.9845 - val_loss: 0.0239 - val_accuracy: 0.9936 - lr: 0.0010\n",
            "Epoch 14/50\n",
            "147/147 [==============================] - ETA: 0s - loss: 0.0441 - accuracy: 0.9873WARNING:tensorflow:Can save best model only with val_acc available, skipping.\n",
            "WARNING:tensorflow:Reduce LR on plateau conditioned on metric `val_acc` which is not available. Available metrics are: loss,accuracy,val_loss,val_accuracy,lr\n",
            "147/147 [==============================] - 14s 96ms/step - loss: 0.0441 - accuracy: 0.9873 - val_loss: 0.0205 - val_accuracy: 0.9943 - lr: 0.0010\n",
            "Epoch 15/50\n",
            "147/147 [==============================] - ETA: 0s - loss: 0.0466 - accuracy: 0.9860WARNING:tensorflow:Can save best model only with val_acc available, skipping.\n",
            "WARNING:tensorflow:Reduce LR on plateau conditioned on metric `val_acc` which is not available. Available metrics are: loss,accuracy,val_loss,val_accuracy,lr\n",
            "147/147 [==============================] - 14s 98ms/step - loss: 0.0466 - accuracy: 0.9860 - val_loss: 0.0212 - val_accuracy: 0.9938 - lr: 0.0010\n",
            "Epoch 16/50\n",
            "147/147 [==============================] - ETA: 0s - loss: 0.0421 - accuracy: 0.9873WARNING:tensorflow:Can save best model only with val_acc available, skipping.\n",
            "WARNING:tensorflow:Reduce LR on plateau conditioned on metric `val_acc` which is not available. Available metrics are: loss,accuracy,val_loss,val_accuracy,lr\n",
            "147/147 [==============================] - 14s 97ms/step - loss: 0.0421 - accuracy: 0.9873 - val_loss: 0.0237 - val_accuracy: 0.9940 - lr: 0.0010\n",
            "Epoch 17/50\n",
            "147/147 [==============================] - ETA: 0s - loss: 0.0404 - accuracy: 0.9880WARNING:tensorflow:Can save best model only with val_acc available, skipping.\n",
            "WARNING:tensorflow:Reduce LR on plateau conditioned on metric `val_acc` which is not available. Available metrics are: loss,accuracy,val_loss,val_accuracy,lr\n",
            "147/147 [==============================] - 14s 97ms/step - loss: 0.0404 - accuracy: 0.9880 - val_loss: 0.0194 - val_accuracy: 0.9945 - lr: 0.0010\n",
            "Epoch 18/50\n",
            "147/147 [==============================] - ETA: 0s - loss: 0.0395 - accuracy: 0.9882WARNING:tensorflow:Can save best model only with val_acc available, skipping.\n",
            "WARNING:tensorflow:Reduce LR on plateau conditioned on metric `val_acc` which is not available. Available metrics are: loss,accuracy,val_loss,val_accuracy,lr\n",
            "147/147 [==============================] - 14s 97ms/step - loss: 0.0395 - accuracy: 0.9882 - val_loss: 0.0220 - val_accuracy: 0.9938 - lr: 0.0010\n",
            "Epoch 19/50\n",
            "147/147 [==============================] - ETA: 0s - loss: 0.0371 - accuracy: 0.9890WARNING:tensorflow:Can save best model only with val_acc available, skipping.\n",
            "WARNING:tensorflow:Reduce LR on plateau conditioned on metric `val_acc` which is not available. Available metrics are: loss,accuracy,val_loss,val_accuracy,lr\n",
            "147/147 [==============================] - 14s 96ms/step - loss: 0.0371 - accuracy: 0.9890 - val_loss: 0.0196 - val_accuracy: 0.9940 - lr: 0.0010\n",
            "Epoch 20/50\n",
            "147/147 [==============================] - ETA: 0s - loss: 0.0366 - accuracy: 0.9890WARNING:tensorflow:Can save best model only with val_acc available, skipping.\n",
            "WARNING:tensorflow:Reduce LR on plateau conditioned on metric `val_acc` which is not available. Available metrics are: loss,accuracy,val_loss,val_accuracy,lr\n",
            "147/147 [==============================] - 14s 96ms/step - loss: 0.0366 - accuracy: 0.9890 - val_loss: 0.0188 - val_accuracy: 0.9940 - lr: 0.0010\n",
            "Epoch 21/50\n",
            "147/147 [==============================] - ETA: 0s - loss: 0.0353 - accuracy: 0.9892WARNING:tensorflow:Can save best model only with val_acc available, skipping.\n",
            "WARNING:tensorflow:Reduce LR on plateau conditioned on metric `val_acc` which is not available. Available metrics are: loss,accuracy,val_loss,val_accuracy,lr\n",
            "147/147 [==============================] - 14s 97ms/step - loss: 0.0353 - accuracy: 0.9892 - val_loss: 0.0179 - val_accuracy: 0.9952 - lr: 0.0010\n",
            "Epoch 22/50\n",
            "147/147 [==============================] - ETA: 0s - loss: 0.0349 - accuracy: 0.9893WARNING:tensorflow:Can save best model only with val_acc available, skipping.\n",
            "WARNING:tensorflow:Reduce LR on plateau conditioned on metric `val_acc` which is not available. Available metrics are: loss,accuracy,val_loss,val_accuracy,lr\n",
            "147/147 [==============================] - 14s 98ms/step - loss: 0.0349 - accuracy: 0.9893 - val_loss: 0.0153 - val_accuracy: 0.9952 - lr: 0.0010\n",
            "Epoch 23/50\n",
            "147/147 [==============================] - ETA: 0s - loss: 0.0330 - accuracy: 0.9900WARNING:tensorflow:Can save best model only with val_acc available, skipping.\n",
            "WARNING:tensorflow:Reduce LR on plateau conditioned on metric `val_acc` which is not available. Available metrics are: loss,accuracy,val_loss,val_accuracy,lr\n",
            "147/147 [==============================] - 15s 99ms/step - loss: 0.0330 - accuracy: 0.9900 - val_loss: 0.0220 - val_accuracy: 0.9952 - lr: 0.0010\n",
            "Epoch 24/50\n",
            "147/147 [==============================] - ETA: 0s - loss: 0.0355 - accuracy: 0.9893WARNING:tensorflow:Can save best model only with val_acc available, skipping.\n",
            "WARNING:tensorflow:Reduce LR on plateau conditioned on metric `val_acc` which is not available. Available metrics are: loss,accuracy,val_loss,val_accuracy,lr\n",
            "147/147 [==============================] - 15s 99ms/step - loss: 0.0355 - accuracy: 0.9893 - val_loss: 0.0182 - val_accuracy: 0.9952 - lr: 0.0010\n",
            "Epoch 25/50\n",
            "147/147 [==============================] - ETA: 0s - loss: 0.0327 - accuracy: 0.9907WARNING:tensorflow:Can save best model only with val_acc available, skipping.\n",
            "WARNING:tensorflow:Reduce LR on plateau conditioned on metric `val_acc` which is not available. Available metrics are: loss,accuracy,val_loss,val_accuracy,lr\n",
            "147/147 [==============================] - 15s 100ms/step - loss: 0.0327 - accuracy: 0.9907 - val_loss: 0.0205 - val_accuracy: 0.9945 - lr: 0.0010\n",
            "Epoch 26/50\n",
            "147/147 [==============================] - ETA: 0s - loss: 0.0336 - accuracy: 0.9899WARNING:tensorflow:Can save best model only with val_acc available, skipping.\n",
            "WARNING:tensorflow:Reduce LR on plateau conditioned on metric `val_acc` which is not available. Available metrics are: loss,accuracy,val_loss,val_accuracy,lr\n",
            "147/147 [==============================] - 15s 100ms/step - loss: 0.0336 - accuracy: 0.9899 - val_loss: 0.0200 - val_accuracy: 0.9940 - lr: 0.0010\n",
            "Epoch 27/50\n",
            "147/147 [==============================] - ETA: 0s - loss: 0.0341 - accuracy: 0.9894WARNING:tensorflow:Can save best model only with val_acc available, skipping.\n",
            "WARNING:tensorflow:Reduce LR on plateau conditioned on metric `val_acc` which is not available. Available metrics are: loss,accuracy,val_loss,val_accuracy,lr\n",
            "147/147 [==============================] - 15s 101ms/step - loss: 0.0341 - accuracy: 0.9894 - val_loss: 0.0207 - val_accuracy: 0.9938 - lr: 0.0010\n",
            "Epoch 28/50\n",
            "147/147 [==============================] - ETA: 0s - loss: 0.0314 - accuracy: 0.9907WARNING:tensorflow:Can save best model only with val_acc available, skipping.\n",
            "WARNING:tensorflow:Reduce LR on plateau conditioned on metric `val_acc` which is not available. Available metrics are: loss,accuracy,val_loss,val_accuracy,lr\n",
            "147/147 [==============================] - 15s 101ms/step - loss: 0.0314 - accuracy: 0.9907 - val_loss: 0.0152 - val_accuracy: 0.9943 - lr: 0.0010\n",
            "Epoch 29/50\n",
            "147/147 [==============================] - ETA: 0s - loss: 0.0287 - accuracy: 0.9910WARNING:tensorflow:Can save best model only with val_acc available, skipping.\n",
            "WARNING:tensorflow:Reduce LR on plateau conditioned on metric `val_acc` which is not available. Available metrics are: loss,accuracy,val_loss,val_accuracy,lr\n",
            "147/147 [==============================] - 15s 101ms/step - loss: 0.0287 - accuracy: 0.9910 - val_loss: 0.0161 - val_accuracy: 0.9950 - lr: 0.0010\n",
            "Epoch 30/50\n",
            "147/147 [==============================] - ETA: 0s - loss: 0.0293 - accuracy: 0.9909WARNING:tensorflow:Can save best model only with val_acc available, skipping.\n",
            "WARNING:tensorflow:Reduce LR on plateau conditioned on metric `val_acc` which is not available. Available metrics are: loss,accuracy,val_loss,val_accuracy,lr\n",
            "147/147 [==============================] - 15s 101ms/step - loss: 0.0293 - accuracy: 0.9909 - val_loss: 0.0238 - val_accuracy: 0.9926 - lr: 0.0010\n",
            "Epoch 31/50\n",
            "147/147 [==============================] - ETA: 0s - loss: 0.0281 - accuracy: 0.9913WARNING:tensorflow:Can save best model only with val_acc available, skipping.\n",
            "WARNING:tensorflow:Reduce LR on plateau conditioned on metric `val_acc` which is not available. Available metrics are: loss,accuracy,val_loss,val_accuracy,lr\n",
            "147/147 [==============================] - 15s 100ms/step - loss: 0.0281 - accuracy: 0.9913 - val_loss: 0.0208 - val_accuracy: 0.9936 - lr: 0.0010\n",
            "Epoch 32/50\n",
            "147/147 [==============================] - ETA: 0s - loss: 0.0285 - accuracy: 0.9912WARNING:tensorflow:Can save best model only with val_acc available, skipping.\n",
            "WARNING:tensorflow:Reduce LR on plateau conditioned on metric `val_acc` which is not available. Available metrics are: loss,accuracy,val_loss,val_accuracy,lr\n",
            "147/147 [==============================] - 15s 103ms/step - loss: 0.0285 - accuracy: 0.9912 - val_loss: 0.0173 - val_accuracy: 0.9950 - lr: 0.0010\n",
            "Epoch 33/50\n",
            "147/147 [==============================] - ETA: 0s - loss: 0.0287 - accuracy: 0.9909WARNING:tensorflow:Can save best model only with val_acc available, skipping.\n",
            "WARNING:tensorflow:Reduce LR on plateau conditioned on metric `val_acc` which is not available. Available metrics are: loss,accuracy,val_loss,val_accuracy,lr\n",
            "147/147 [==============================] - 15s 101ms/step - loss: 0.0287 - accuracy: 0.9909 - val_loss: 0.0179 - val_accuracy: 0.9955 - lr: 0.0010\n",
            "Epoch 34/50\n",
            "147/147 [==============================] - ETA: 0s - loss: 0.0303 - accuracy: 0.9908WARNING:tensorflow:Can save best model only with val_acc available, skipping.\n",
            "WARNING:tensorflow:Reduce LR on plateau conditioned on metric `val_acc` which is not available. Available metrics are: loss,accuracy,val_loss,val_accuracy,lr\n",
            "147/147 [==============================] - 15s 100ms/step - loss: 0.0303 - accuracy: 0.9908 - val_loss: 0.0184 - val_accuracy: 0.9940 - lr: 0.0010\n",
            "Epoch 35/50\n",
            "147/147 [==============================] - ETA: 0s - loss: 0.0279 - accuracy: 0.9915WARNING:tensorflow:Can save best model only with val_acc available, skipping.\n",
            "WARNING:tensorflow:Reduce LR on plateau conditioned on metric `val_acc` which is not available. Available metrics are: loss,accuracy,val_loss,val_accuracy,lr\n",
            "147/147 [==============================] - 15s 101ms/step - loss: 0.0279 - accuracy: 0.9915 - val_loss: 0.0209 - val_accuracy: 0.9940 - lr: 0.0010\n",
            "Epoch 36/50\n",
            "147/147 [==============================] - ETA: 0s - loss: 0.0250 - accuracy: 0.9920WARNING:tensorflow:Can save best model only with val_acc available, skipping.\n",
            "WARNING:tensorflow:Reduce LR on plateau conditioned on metric `val_acc` which is not available. Available metrics are: loss,accuracy,val_loss,val_accuracy,lr\n",
            "147/147 [==============================] - 15s 101ms/step - loss: 0.0250 - accuracy: 0.9920 - val_loss: 0.0208 - val_accuracy: 0.9936 - lr: 0.0010\n",
            "Epoch 37/50\n",
            "147/147 [==============================] - ETA: 0s - loss: 0.0279 - accuracy: 0.9910WARNING:tensorflow:Can save best model only with val_acc available, skipping.\n",
            "WARNING:tensorflow:Reduce LR on plateau conditioned on metric `val_acc` which is not available. Available metrics are: loss,accuracy,val_loss,val_accuracy,lr\n",
            "147/147 [==============================] - 15s 102ms/step - loss: 0.0279 - accuracy: 0.9910 - val_loss: 0.0216 - val_accuracy: 0.9931 - lr: 0.0010\n",
            "Epoch 38/50\n",
            "147/147 [==============================] - ETA: 0s - loss: 0.0251 - accuracy: 0.9922WARNING:tensorflow:Can save best model only with val_acc available, skipping.\n",
            "WARNING:tensorflow:Reduce LR on plateau conditioned on metric `val_acc` which is not available. Available metrics are: loss,accuracy,val_loss,val_accuracy,lr\n",
            "147/147 [==============================] - 15s 102ms/step - loss: 0.0251 - accuracy: 0.9922 - val_loss: 0.0235 - val_accuracy: 0.9938 - lr: 0.0010\n",
            "Epoch 39/50\n",
            "147/147 [==============================] - ETA: 0s - loss: 0.0249 - accuracy: 0.9923WARNING:tensorflow:Can save best model only with val_acc available, skipping.\n",
            "WARNING:tensorflow:Reduce LR on plateau conditioned on metric `val_acc` which is not available. Available metrics are: loss,accuracy,val_loss,val_accuracy,lr\n",
            "147/147 [==============================] - 15s 101ms/step - loss: 0.0249 - accuracy: 0.9923 - val_loss: 0.0180 - val_accuracy: 0.9950 - lr: 0.0010\n",
            "Epoch 40/50\n",
            "147/147 [==============================] - ETA: 0s - loss: 0.0260 - accuracy: 0.9921WARNING:tensorflow:Can save best model only with val_acc available, skipping.\n",
            "WARNING:tensorflow:Reduce LR on plateau conditioned on metric `val_acc` which is not available. Available metrics are: loss,accuracy,val_loss,val_accuracy,lr\n",
            "147/147 [==============================] - 15s 102ms/step - loss: 0.0260 - accuracy: 0.9921 - val_loss: 0.0205 - val_accuracy: 0.9950 - lr: 0.0010\n",
            "Epoch 41/50\n",
            "147/147 [==============================] - ETA: 0s - loss: 0.0239 - accuracy: 0.9928WARNING:tensorflow:Can save best model only with val_acc available, skipping.\n",
            "WARNING:tensorflow:Reduce LR on plateau conditioned on metric `val_acc` which is not available. Available metrics are: loss,accuracy,val_loss,val_accuracy,lr\n",
            "147/147 [==============================] - 15s 101ms/step - loss: 0.0239 - accuracy: 0.9928 - val_loss: 0.0179 - val_accuracy: 0.9952 - lr: 0.0010\n",
            "Epoch 42/50\n",
            "147/147 [==============================] - ETA: 0s - loss: 0.0244 - accuracy: 0.9921WARNING:tensorflow:Can save best model only with val_acc available, skipping.\n",
            "WARNING:tensorflow:Reduce LR on plateau conditioned on metric `val_acc` which is not available. Available metrics are: loss,accuracy,val_loss,val_accuracy,lr\n",
            "147/147 [==============================] - 15s 101ms/step - loss: 0.0244 - accuracy: 0.9921 - val_loss: 0.0204 - val_accuracy: 0.9952 - lr: 0.0010\n",
            "Epoch 43/50\n",
            "147/147 [==============================] - ETA: 0s - loss: 0.0249 - accuracy: 0.9925WARNING:tensorflow:Can save best model only with val_acc available, skipping.\n",
            "WARNING:tensorflow:Reduce LR on plateau conditioned on metric `val_acc` which is not available. Available metrics are: loss,accuracy,val_loss,val_accuracy,lr\n",
            "147/147 [==============================] - 15s 101ms/step - loss: 0.0249 - accuracy: 0.9925 - val_loss: 0.0157 - val_accuracy: 0.9960 - lr: 0.0010\n",
            "Epoch 44/50\n",
            "147/147 [==============================] - ETA: 0s - loss: 0.0232 - accuracy: 0.9928WARNING:tensorflow:Can save best model only with val_acc available, skipping.\n",
            "WARNING:tensorflow:Reduce LR on plateau conditioned on metric `val_acc` which is not available. Available metrics are: loss,accuracy,val_loss,val_accuracy,lr\n",
            "147/147 [==============================] - 15s 102ms/step - loss: 0.0232 - accuracy: 0.9928 - val_loss: 0.0178 - val_accuracy: 0.9950 - lr: 0.0010\n",
            "Epoch 45/50\n",
            "147/147 [==============================] - ETA: 0s - loss: 0.0240 - accuracy: 0.9931WARNING:tensorflow:Can save best model only with val_acc available, skipping.\n",
            "WARNING:tensorflow:Reduce LR on plateau conditioned on metric `val_acc` which is not available. Available metrics are: loss,accuracy,val_loss,val_accuracy,lr\n",
            "147/147 [==============================] - 15s 101ms/step - loss: 0.0240 - accuracy: 0.9931 - val_loss: 0.0213 - val_accuracy: 0.9945 - lr: 0.0010\n",
            "Epoch 46/50\n",
            "147/147 [==============================] - ETA: 0s - loss: 0.0233 - accuracy: 0.9928WARNING:tensorflow:Can save best model only with val_acc available, skipping.\n",
            "WARNING:tensorflow:Reduce LR on plateau conditioned on metric `val_acc` which is not available. Available metrics are: loss,accuracy,val_loss,val_accuracy,lr\n",
            "147/147 [==============================] - 15s 102ms/step - loss: 0.0233 - accuracy: 0.9928 - val_loss: 0.0223 - val_accuracy: 0.9943 - lr: 0.0010\n",
            "Epoch 47/50\n",
            "147/147 [==============================] - ETA: 0s - loss: 0.0225 - accuracy: 0.9927WARNING:tensorflow:Can save best model only with val_acc available, skipping.\n",
            "WARNING:tensorflow:Reduce LR on plateau conditioned on metric `val_acc` which is not available. Available metrics are: loss,accuracy,val_loss,val_accuracy,lr\n",
            "147/147 [==============================] - 15s 101ms/step - loss: 0.0225 - accuracy: 0.9927 - val_loss: 0.0234 - val_accuracy: 0.9926 - lr: 0.0010\n",
            "Epoch 48/50\n",
            "147/147 [==============================] - ETA: 0s - loss: 0.0208 - accuracy: 0.9931WARNING:tensorflow:Can save best model only with val_acc available, skipping.\n",
            "WARNING:tensorflow:Reduce LR on plateau conditioned on metric `val_acc` which is not available. Available metrics are: loss,accuracy,val_loss,val_accuracy,lr\n",
            "147/147 [==============================] - 15s 102ms/step - loss: 0.0208 - accuracy: 0.9931 - val_loss: 0.0172 - val_accuracy: 0.9950 - lr: 0.0010\n",
            "Epoch 49/50\n",
            "147/147 [==============================] - ETA: 0s - loss: 0.0213 - accuracy: 0.9930WARNING:tensorflow:Can save best model only with val_acc available, skipping.\n",
            "WARNING:tensorflow:Reduce LR on plateau conditioned on metric `val_acc` which is not available. Available metrics are: loss,accuracy,val_loss,val_accuracy,lr\n",
            "147/147 [==============================] - 15s 101ms/step - loss: 0.0213 - accuracy: 0.9930 - val_loss: 0.0219 - val_accuracy: 0.9955 - lr: 0.0010\n",
            "Epoch 50/50\n",
            "147/147 [==============================] - ETA: 0s - loss: 0.0240 - accuracy: 0.9928WARNING:tensorflow:Can save best model only with val_acc available, skipping.\n",
            "WARNING:tensorflow:Reduce LR on plateau conditioned on metric `val_acc` which is not available. Available metrics are: loss,accuracy,val_loss,val_accuracy,lr\n",
            "147/147 [==============================] - 15s 100ms/step - loss: 0.0240 - accuracy: 0.9928 - val_loss: 0.0176 - val_accuracy: 0.9960 - lr: 0.0010\n"
          ],
          "name": "stdout"
        }
      ]
    },
    {
      "cell_type": "code",
      "metadata": {
        "id": "29iqv6L2f9K1",
        "colab_type": "code",
        "colab": {
          "base_uri": "https://localhost:8080/",
          "height": 279
        },
        "outputId": "c202716d-2a62-4dba-a7b8-85f4d4a39b06"
      },
      "source": [
        "plt.plot(history.history['accuracy'], \n",
        "         label='Share of correct answers on educational set')\n",
        "plt.plot(history.history['val_accuracy'], \n",
        "         label='Share of correct answers on checking set')\n",
        "plt.xlabel('Epochs')\n",
        "plt.ylabel('share of correct answers')\n",
        "plt.legend()\n",
        "plt.show()"
      ],
      "execution_count": 34,
      "outputs": [
        {
          "output_type": "display_data",
          "data": {
            "image/png": "[encoded data removed]",
            "text/plain": [
              "<Figure size 432x288 with 1 Axes>"
            ]
          },
          "metadata": {
            "tags": [],
            "needs_background": "light"
          }
        }
      ]
    },
    {
      "cell_type": "code",
      "metadata": {
        "id": "8Fkcwz845GDd",
        "colab_type": "code",
        "colab": {}
      },
      "source": [
        "test_dataset = np.loadtxt('test.csv', skiprows=1, delimiter=\",\")\n",
        "x_test = test_dataset.reshape(test_dataset.shape[0], 28, 28, 1)\n",
        "x_test = x_test / 255.0"
      ],
      "execution_count": 24,
      "outputs": []
    },
    {
      "cell_type": "code",
      "metadata": {
        "id": "kqJPkaVo5ImN",
        "colab_type": "code",
        "colab": {
          "base_uri": "https://localhost:8080/",
          "height": 272
        },
        "outputId": "ffd91475-27a1-4a14-c323-86055cf23dae"
      },
      "source": [
        "predictions = model.predict(x_test)\n",
        "predictions[:5]"
      ],
      "execution_count": 25,
      "outputs": [
        {
          "output_type": "execute_result",
          "data": {
            "text/plain": [
              "array([[1.57576304e-13, 2.76230150e-14, 1.00000000e+00, 8.52083855e-12,\n",
              "        6.35342993e-12, 1.84115308e-18, 8.72565773e-14, 1.93794915e-12,\n",
              "        5.83371676e-12, 6.57250838e-13],\n",
              "       [1.00000000e+00, 1.67615338e-13, 1.13583233e-10, 2.14445852e-13,\n",
              "        8.96656360e-11, 8.99195822e-12, 1.27241398e-10, 9.58184487e-12,\n",
              "        2.65388041e-11, 8.25371682e-09],\n",
              "       [1.76440432e-10, 1.33836773e-08, 1.52228068e-07, 1.00900506e-08,\n",
              "        2.95845064e-04, 2.44648551e-10, 1.72057160e-11, 1.77245579e-06,\n",
              "        2.92708046e-06, 9.99699235e-01],\n",
              "       [9.99196589e-01, 6.73534188e-08, 1.19971919e-05, 1.72900457e-07,\n",
              "        1.65530844e-06, 2.20852962e-06, 1.02248932e-05, 2.40324880e-06,\n",
              "        3.95255993e-05, 7.35142443e-04],\n",
              "       [4.21722696e-16, 3.75276199e-12, 1.02188105e-10, 9.99999881e-01,\n",
              "        2.16359801e-18, 4.12508305e-10, 6.20656846e-13, 2.42268792e-12,\n",
              "        1.18146907e-07, 4.73104556e-10]], dtype=float32)"
            ]
          },
          "metadata": {
            "tags": []
          },
          "execution_count": 25
        }
      ]
    },
    {
      "cell_type": "code",
      "metadata": {
        "id": "zoD845GnfuGl",
        "colab_type": "code",
        "colab": {
          "base_uri": "https://localhost:8080/",
          "height": 34
        },
        "outputId": "3b1ace4b-6bad-4c42-9bfa-e796e4e6ccee"
      },
      "source": [
        "predictions = np.argmax(predictions, axis=1)\n",
        "predictions[:5]"
      ],
      "execution_count": 29,
      "outputs": [
        {
          "output_type": "execute_result",
          "data": {
            "text/plain": [
              "array([2, 0, 9, 0, 3])"
            ]
          },
          "metadata": {
            "tags": []
          },
          "execution_count": 29
        }
      ]
    },
    {
      "cell_type": "code",
      "metadata": {
        "id": "Rk3kK4il5K3w",
        "colab_type": "code",
        "colab": {}
      },
      "source": [
        "out = np.column_stack((range(1, predictions.shape[0]+1), predictions))"
      ],
      "execution_count": 30,
      "outputs": []
    },
    {
      "cell_type": "code",
      "metadata": {
        "id": "RDIU0RZK5NLW",
        "colab_type": "code",
        "colab": {}
      },
      "source": [
        "np.savetxt('submission.csv', out, header=\"ImageId,Label\", \n",
        "            comments=\"\", fmt=\"%d,%d\")"
      ],
      "execution_count": 31,
      "outputs": []
    },
    {
      "cell_type": "code",
      "metadata": {
        "id": "RCOlNE9w5PEM",
        "colab_type": "code",
        "colab": {}
      },
      "source": [
        "!kaggle competitions submit -c digit-recognizer -m \"Submition from Colab\" -f submission.csv"
      ],
      "execution_count": null,
      "outputs": []
    }
  ]
}