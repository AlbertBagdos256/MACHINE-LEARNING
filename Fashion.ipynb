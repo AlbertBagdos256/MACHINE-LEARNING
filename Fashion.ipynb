{
  "nbformat": 4,
  "nbformat_minor": 0,
  "metadata": {
    "colab": {
      "name": "Untitled0.ipynb",
      "provenance": [],
      "collapsed_sections": []
    },
    "kernelspec": {
      "name": "python3",
      "display_name": "Python 3"
    }
  },
  "cells": [
    {
      "cell_type": "markdown",
      "metadata": {
        "id": "6w1s-jq9DLye",
        "colab_type": "text"
      },
      "source": [
        "Downloading dataset"
      ]
    },
    {
      "cell_type": "code",
      "metadata": {
        "id": "qxel6yp3Bg9G",
        "colab_type": "code",
        "colab": {
          "base_uri": "https://localhost:8080/",
          "height": 204
        },
        "outputId": "ca388a90-1cec-4f68-e89e-5217eae6f0a9"
      },
      "source": [
        "!wget  https://github.com/zalandoresearch/fashion-mnist"
      ],
      "execution_count": 51,
      "outputs": [
        {
          "output_type": "stream",
          "text": [
            "--2020-06-01 16:53:41--  https://github.com/zalandoresearch/fashion-mnist\n",
            "Resolving github.com (github.com)... 140.82.112.3\n",
            "Connecting to github.com (github.com)|140.82.112.3|:443... connected.\n",
            "HTTP request sent, awaiting response... 200 OK\n",
            "Length: unspecified [text/html]\n",
            "Saving to: ‘fashion-mnist.7’\n",
            "\n",
            "fashion-mnist.7         [ <=>                ] 161.05K  --.-KB/s    in 0.04s   \n",
            "\n",
            "2020-06-01 16:53:42 (3.89 MB/s) - ‘fashion-mnist.7’ saved [164917]\n",
            "\n"
          ],
          "name": "stdout"
        }
      ]
    },
    {
      "cell_type": "markdown",
      "metadata": {
        "id": "MismgzQBEmD6",
        "colab_type": "text"
      },
      "source": [
        "Import libraries"
      ]
    },
    {
      "cell_type": "code",
      "metadata": {
        "id": "gstv9pTVCFyA",
        "colab_type": "code",
        "colab": {
          "base_uri": "https://localhost:8080/",
          "height": 214
        },
        "outputId": "9abe0df8-a7b8-4241-88ad-7dee8c5ebb00"
      },
      "source": [
        "from tensorflow.keras.datasets import fashion_mnist\n",
        "from tensorflow.keras.models   import Sequential\n",
        "from tensorflow.keras.layers   import Dense\n",
        "from tensorflow.keras          import utils\n",
        "import numpy as np\n",
        "\n",
        "\n",
        "# Download data\n",
        "(x_train, y_train), (x_test, y_test)  = fashion_mnist.load_data()\n",
        "\n",
        "x_train = x_train.reshape(60000,784)\n",
        "x_train = x_train / 255\n"
      ],
      "execution_count": 52,
      "outputs": [
        {
          "output_type": "error",
          "ename": "ValueError",
          "evalue": "ignored",
          "traceback": [
            "\u001b[0;31m---------------------------------------------------------------------------\u001b[0m",
            "\u001b[0;31mValueError\u001b[0m                                Traceback (most recent call last)",
            "\u001b[0;32m<ipython-input-52-0efe3cf5e565>\u001b[0m in \u001b[0;36m<module>\u001b[0;34m()\u001b[0m\n\u001b[1;32m     12\u001b[0m \u001b[0mx_train\u001b[0m \u001b[0;34m=\u001b[0m \u001b[0mx_train\u001b[0m \u001b[0;34m/\u001b[0m \u001b[0;36m255\u001b[0m\u001b[0;34m\u001b[0m\u001b[0;34m\u001b[0m\u001b[0m\n\u001b[1;32m     13\u001b[0m \u001b[0;34m\u001b[0m\u001b[0m\n\u001b[0;32m---> 14\u001b[0;31m \u001b[0mx_test\u001b[0m \u001b[0;34m=\u001b[0m \u001b[0mx_test\u001b[0m\u001b[0;34m.\u001b[0m\u001b[0mreshape\u001b[0m\u001b[0;34m(\u001b[0m\u001b[0;36m60000\u001b[0m\u001b[0;34m,\u001b[0m\u001b[0;36m784\u001b[0m\u001b[0;34m)\u001b[0m\u001b[0;34m\u001b[0m\u001b[0;34m\u001b[0m\u001b[0m\n\u001b[0m\u001b[1;32m     15\u001b[0m \u001b[0mx_test\u001b[0m \u001b[0;34m=\u001b[0m \u001b[0mx_test\u001b[0m \u001b[0;34m/\u001b[0m \u001b[0;36m255\u001b[0m\u001b[0;34m\u001b[0m\u001b[0;34m\u001b[0m\u001b[0m\n",
            "\u001b[0;31mValueError\u001b[0m: cannot reshape array of size 7840000 into shape (60000,784)"
          ]
        }
      ]
    },
    {
      "cell_type": "code",
      "metadata": {
        "id": "CxsXh1m5FpM5",
        "colab_type": "code",
        "colab": {}
      },
      "source": [
        "y_train = utils.to_categorical(y_train,10)\n",
        "\n",
        "classes = ['T-shirt','shorts','sweater','dress','coat',\n",
        "           'shoes','shirt','sneakers','bag','boots']\n"
      ],
      "execution_count": 0,
      "outputs": []
    },
    {
      "cell_type": "code",
      "metadata": {
        "id": "LQ8t42aR6c2w",
        "colab_type": "code",
        "colab": {}
      },
      "source": [
        "# Creating model\n",
        "model = Sequential()\n",
        "\n",
        "# Add network's levels\n",
        "model.add(Dense(800, input_dim=784,activation='relu'))\n",
        "model.add(Dense(10,activation=\"softmax\"))\n",
        "\n",
        "# Compiling model\n",
        "model.compile(loss=\"categorical_crossentropy\",\n",
        "              optimizer=\"SGD\",metrics=[\"accuracy\"])\n",
        "\n",
        "print(model.summary())"
      ],
      "execution_count": 0,
      "outputs": []
    },
    {
      "cell_type": "code",
      "metadata": {
        "id": "VcJy_ipWbRk5",
        "colab_type": "code",
        "colab": {}
      },
      "source": [
        "# Teaching processs\n",
        "model.fit(x_train,y_train,batch_size=200,epochs=15,verbose=1)\n",
        "\n"
      ],
      "execution_count": 0,
      "outputs": []
    },
    {
      "cell_type": "markdown",
      "metadata": {
        "id": "FmhfAjb-o6Gg",
        "colab_type": "text"
      },
      "source": [
        "LAUNCH"
      ]
    },
    {
      "cell_type": "code",
      "metadata": {
        "id": "ab1tNHXooq5O",
        "colab_type": "code",
        "colab": {}
      },
      "source": [
        "# Launch network on input data\n",
        "predictions = model.predict(x_train)\n",
        "\n",
        "# Print one of the results of recognition\n",
        "print(predictions[0])\n",
        "\n",
        "# Print  class number,which was predicted by neural-Network \n",
        "print(np.argmax(predictions[0]))\n",
        "index = np.argmax(y_train[0])\n",
        "print('The Answer is ' + classes[index])"
      ],
      "execution_count": 0,
      "outputs": []
    }
  ]
}